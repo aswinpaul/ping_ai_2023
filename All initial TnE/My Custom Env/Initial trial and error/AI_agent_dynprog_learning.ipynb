{
 "cells": [
  {
   "cell_type": "code",
   "execution_count": 1,
   "id": "bd76e633",
   "metadata": {},
   "outputs": [],
   "source": [
    "from CustomPongEnv_v0_ram import Custom_Pong\n",
    "import numpy as np\n",
    "import random\n",
    "random.seed(10)\n",
    "np.random.seed(10)\n",
    "\n",
    "env = Custom_Pong()\n",
    "states=env.observation_space.shape[0]\n",
    "actions=env.action_space.n"
   ]
  },
  {
   "cell_type": "code",
   "execution_count": 31,
   "id": "f045382a",
   "metadata": {},
   "outputs": [],
   "source": [
    "def state_to_obs(state, streward):\n",
    "    \n",
    "    factor = 50\n",
    "    \n",
    "    ball_x = state[0]\n",
    "    o1_float = ball_x/factor\n",
    "    o1 = int(o1_float)\n",
    "\n",
    "    ball_y = state[1] \n",
    "    o2_float = ball_y/factor\n",
    "    o2 = int(o2_float)\n",
    "\n",
    "    ball_vx = state[2]\n",
    "    o3_float = ball_vx\n",
    "    o3_i = int(o3_float)\n",
    "    o3 = 0 if o3_i==2 else 1 \n",
    "\n",
    "\n",
    "    ball_vy = state[3]\n",
    "    o4_float = ball_vx\n",
    "    o4_i = int(o4_float)\n",
    "    o4 = 0 if o4_i==2 else 1 \n",
    "\n",
    "    paddle_pos = state[4]\n",
    "    o5_float = paddle_pos/factor\n",
    "    o5 = int(o5_float)-1\n",
    "\n",
    "    paddle_vel = state[5]\n",
    "    o6_float = paddle_vel\n",
    "    o6_i = int(o6_float)\n",
    "    o6 = 0 if o6_i==4 else 1 \n",
    "    \n",
    "    if(reward == -1):\n",
    "        o7 = 0\n",
    "    elif(reward == 1):\n",
    "        o7 = 2\n",
    "    else:\n",
    "        o7 = 1\n",
    "    \n",
    "    observation = [o1, o2, o3, o4, o5, o6, o7]\n",
    "    \n",
    "    return(observation)"
   ]
  },
  {
   "cell_type": "code",
   "execution_count": 32,
   "id": "ee28ad9a",
   "metadata": {},
   "outputs": [],
   "source": [
    "x = []\n",
    "episodes = 1000\n",
    "\n",
    "for episode in range(1, episodes+1):\n",
    "    state = env.reset()\n",
    "    done = False\n",
    "    score=0\n",
    "    while not done:\n",
    "        #env.render()\n",
    "        action = env.action_space.sample()\n",
    "        state, reward, done, info = env.step(action)\n",
    "        score += reward\n",
    "        observation = state_to_obs(state, reward)\n",
    "        x.append(observation)\n",
    "        \n",
    "    #print('Episode:{} Score:{}'.format(episode, score))\n",
    "    \n",
    "env.close()"
   ]
  },
  {
   "cell_type": "code",
   "execution_count": 33,
   "id": "2f57ab30",
   "metadata": {},
   "outputs": [
    {
     "name": "stdout",
     "output_type": "stream",
     "text": [
      "Ball x\n",
      "3.0 0.0 3.0 0.9881764846743295\n",
      "Ball y\n",
      "4.0 0.0 4.0 1.2684337084929758\n",
      "Ball vx\n",
      "1.0 0.0 1.0 0.40521731321839083\n",
      "Ball vy\n",
      "1.0 0.0 1.0 0.40521731321839083\n",
      "Paddle pos\n",
      "2.0 -1.0 3.0 0.6438028815453385\n",
      "Paddle vel\n",
      "1.0 0.0 1.0 0.5013868933588761\n"
     ]
    }
   ],
   "source": [
    "s1_x = np.zeros((len(x)))\n",
    "s2_x = np.zeros((len(x)))\n",
    "s3_x = np.zeros((len(x)))\n",
    "s4_x = np.zeros((len(x)))\n",
    "s5_x = np.zeros((len(x)))\n",
    "s6_x = np.zeros((len(x)))\n",
    "\n",
    "for i in range(len(x)):\n",
    "    s1_x[i]=x[i][0]\n",
    "    s2_x[i]=x[i][1]\n",
    "    s3_x[i]=x[i][2]\n",
    "    s4_x[i]=x[i][3]\n",
    "    s5_x[i]=x[i][4]\n",
    "    s6_x[i]=x[i][5]\n",
    "    \n",
    "\n",
    "a1=s1_x.max()\n",
    "b1=s1_x.min()\n",
    "a2=s2_x.max()\n",
    "b2=s2_x.min()\n",
    "a3=s3_x.max()\n",
    "b3=s3_x.min()\n",
    "a4=s4_x.max()\n",
    "b4=s4_x.min()\n",
    "a5=s5_x.max()\n",
    "b5=s5_x.min()\n",
    "a6=s6_x.max()\n",
    "b6=s6_x.min()\n",
    "\n",
    "print('Ball x')\n",
    "print(a1,b1, a1-b1, s1_x.mean())\n",
    "\n",
    "print('Ball y')\n",
    "print(a2,b2, a2-b2, s2_x.mean())\n",
    "\n",
    "print('Ball vx') # 2 values\n",
    "print(a3,b3, a3-b3, s3_x.mean())\n",
    "\n",
    "print('Ball vy') # 2 values\n",
    "print(a4,b4, a4-b4, s4_x.mean())\n",
    "\n",
    "print('Paddle pos') \n",
    "print(a5,b5, a5-b5, s5_x.mean())\n",
    "\n",
    "print('Paddle vel') # 2 values\n",
    "print(a6,b6, a6-b6, s6_x.mean())"
   ]
  },
  {
   "cell_type": "markdown",
   "id": "17437183",
   "metadata": {},
   "source": [
    "# Active Inference\n",
    "## Setting up states and factors"
   ]
  },
  {
   "cell_type": "code",
   "execution_count": 7,
   "id": "84126d7b",
   "metadata": {},
   "outputs": [
    {
     "name": "stderr",
     "output_type": "stream",
     "text": [
      "C:\\Users\\aswin\\anaconda3\\lib\\site-packages\\seaborn\\rcmod.py:82: DeprecationWarning: distutils Version classes are deprecated. Use packaging.version instead.\n",
      "  if LooseVersion(mpl.__version__) >= \"3.0\":\n",
      "C:\\Users\\aswin\\anaconda3\\lib\\site-packages\\setuptools\\_distutils\\version.py:351: DeprecationWarning: distutils Version classes are deprecated. Use packaging.version instead.\n",
      "  other = LooseVersion(other)\n"
     ]
    }
   ],
   "source": [
    "import pymdp\n",
    "from pymdp import utils\n",
    "import numpy as np\n",
    "from scipy.stats import dirichlet\n",
    "from pymdp.agent import Agent"
   ]
  },
  {
   "cell_type": "code",
   "execution_count": 11,
   "id": "6a80b98d",
   "metadata": {},
   "outputs": [],
   "source": [
    "# (Hidden)Factors\n",
    "s1_size = 42\n",
    "\n",
    "num_states = [s1_size]\n",
    "num_factors = len(num_states)\n",
    "\n",
    "# Rewards\n",
    "reward_modes = 3 #Positive, negative, and zero\n",
    "\n",
    "# Controls\n",
    "s1_actions = ['Stay', 'Play-Up', 'Play-Down']\n",
    "\n",
    "num_controls = [len(s1_actions)]\n",
    "\n",
    "# Observations\n",
    "o1_obs_size = 42\n",
    "o2_obs_size = 42\n",
    "o3_obs_size = 2\n",
    "o4_obs_size = 2\n",
    "o5_obs_size = 42\n",
    "o6_obs_size = 2\n",
    "reward_obs_size = reward_modes\n",
    "\n",
    "num_obs = [o1_obs_size, o2_obs_size, o3_obs_size, o4_obs_size, o5_obs_size, o6_obs_size, reward_obs_size]\n",
    "num_modalities = len(num_obs)"
   ]
  },
  {
   "cell_type": "code",
   "execution_count": 12,
   "id": "d54aa10c",
   "metadata": {},
   "outputs": [
    {
     "data": {
      "text/plain": [
       "((42, 42), (42, 42), (2, 42), (2, 42), (42, 42), (2, 42), (3, 42))"
      ]
     },
     "execution_count": 12,
     "metadata": {},
     "output_type": "execute_result"
    }
   ],
   "source": [
    "EPS_VAL = 1e-16 #negligibleconstant\n",
    "# Likelhiood Dynamics\n",
    "a = utils.random_A_matrix(num_obs, num_states) * 0 + EPS_VAL\n",
    "A = utils.random_A_matrix(num_obs, num_states)\n",
    "\n",
    "A[0].shape, A[1].shape, A[2].shape, A[3].shape, A[4].shape, A[5].shape, A[6].shape"
   ]
  },
  {
   "cell_type": "code",
   "execution_count": 13,
   "id": "e2b3934d",
   "metadata": {},
   "outputs": [
    {
     "data": {
      "text/plain": [
       "(42, 42, 3)"
      ]
     },
     "execution_count": 13,
     "metadata": {},
     "output_type": "execute_result"
    }
   ],
   "source": [
    "# Transisition dynamics\n",
    "# Initialised as random becuase the agent need to learn the dynamics\n",
    "\n",
    "B = utils.random_B_matrix(num_states, num_controls)\n",
    "b = utils.random_B_matrix(num_states, num_controls) * 0 + EPS_VAL\n",
    "B[0].shape"
   ]
  },
  {
   "cell_type": "code",
   "execution_count": 14,
   "id": "4d66328e",
   "metadata": {},
   "outputs": [],
   "source": [
    "numS = num_states[0]\n",
    "numA = num_controls[0]\n",
    "\n",
    "for i in range(numS):\n",
    "    A[0][:,i] = dirichlet.mean(a[0][:,i])\n",
    "    A[1][:,i] = dirichlet.mean(a[1][:,i])\n",
    "    A[2][:,i] = dirichlet.mean(a[2][:,i])\n",
    "    A[3][:,i] = dirichlet.mean(a[3][:,i])\n",
    "    A[4][:,i] = dirichlet.mean(a[4][:,i])\n",
    "    A[5][:,i] = dirichlet.mean(a[5][:,i])\n",
    "    A[6][:,i] = dirichlet.mean(a[6][:,i])\n",
    "    for j in range(numA):\n",
    "        B[0][:,i,j]=dirichlet.mean(b[0][:,i,j])"
   ]
  },
  {
   "cell_type": "code",
   "execution_count": 15,
   "id": "9d180482",
   "metadata": {},
   "outputs": [
    {
     "data": {
      "text/plain": [
       "array([0.00095907, 0.04738039, 0.95166054])"
      ]
     },
     "execution_count": 15,
     "metadata": {},
     "output_type": "execute_result"
    }
   ],
   "source": [
    "# Prior preferences for biasing the generative model to control behaviour\n",
    "\n",
    "# The preferences are set uniform for all the hidden-states except the reward function\n",
    "C = utils.obj_array_uniform(num_obs)\n",
    "\n",
    "# Highest for the high-score and lowest for the lowscore\n",
    "C_score = np.array([-3.9,0,3])\n",
    "# Normalising the prior preference\n",
    "C[6] = pymdp.maths.softmax(1*C_score)\n",
    "C[6]"
   ]
  },
  {
   "cell_type": "code",
   "execution_count": 16,
   "id": "32cbf467",
   "metadata": {},
   "outputs": [],
   "source": [
    "D = utils.obj_array_uniform(num_states)\n",
    "from ai_agent_planner import action_dist"
   ]
  },
  {
   "cell_type": "code",
   "execution_count": 17,
   "id": "7eed79fe",
   "metadata": {},
   "outputs": [
    {
     "name": "stdout",
     "output_type": "stream",
     "text": [
      "CPU times: total: 0 ns\n",
      "Wall time: 8 ms\n"
     ]
    }
   ],
   "source": [
    "T = 3\n",
    "%time Q_pi = action_dist(A[6], B, C[6], T=2, sm_par=1)"
   ]
  },
  {
   "cell_type": "code",
   "execution_count": 18,
   "id": "1f35403f",
   "metadata": {},
   "outputs": [
    {
     "name": "stdout",
     "output_type": "stream",
     "text": [
      "1\n",
      "2\n",
      "3\n",
      "4\n",
      "5\n",
      "6\n",
      "7\n",
      "8\n",
      "9\n",
      "10\n",
      "11\n",
      "12\n",
      "13\n",
      "14\n",
      "15\n",
      "16\n",
      "17\n",
      "18\n",
      "19\n",
      "20\n",
      "21\n",
      "22\n",
      "23\n",
      "24\n",
      "25\n",
      "26\n",
      "27\n",
      "28\n",
      "29\n",
      "30\n",
      "31\n",
      "32\n",
      "33\n",
      "34\n",
      "35\n",
      "36\n",
      "37\n",
      "38\n",
      "39\n",
      "40\n",
      "41\n",
      "42\n",
      "43\n",
      "44\n",
      "45\n",
      "46\n",
      "47\n",
      "48\n",
      "49\n",
      "50\n",
      "51\n",
      "52\n",
      "53\n",
      "54\n",
      "55\n",
      "56\n",
      "57\n",
      "58\n",
      "59\n",
      "60\n",
      "61\n",
      "62\n",
      "63\n",
      "64\n",
      "65\n",
      "66\n",
      "67\n",
      "68\n",
      "69\n",
      "70\n",
      "71\n",
      "72\n",
      "73\n",
      "74\n",
      "75\n",
      "76\n",
      "77\n",
      "78\n",
      "79\n",
      "80\n",
      "81\n",
      "82\n",
      "83\n",
      "84\n",
      "85\n",
      "86\n",
      "87\n",
      "88\n",
      "89\n",
      "90\n",
      "91\n",
      "92\n",
      "93\n",
      "94\n",
      "95\n",
      "96\n",
      "97\n",
      "98\n",
      "99\n",
      "100\n"
     ]
    }
   ],
   "source": [
    "from scipy.stats import entropy\n",
    "\n",
    "# Training A,B and D with EFE informed actions\n",
    "e = []\n",
    "\n",
    "training_episodes = 100\n",
    "\n",
    "episodes = training_episodes\n",
    "efe_list = []\n",
    "\n",
    "qs = D\n",
    "qs_prev = qs\n",
    "for episode in range(1, episodes+1):\n",
    "    \n",
    "    print(episode)\n",
    "    state = env.reset()\n",
    "    done = False\n",
    "    score = 0\n",
    "    qs = D\n",
    "    qs_prev = qs\n",
    "    t = 0\n",
    "    \n",
    "    while not done:\n",
    "           \n",
    "        # env.render()\n",
    "        Q_pi = action_dist(A[6], B, C[6], T, sm_par=1)\n",
    "        action = np.random.choice([0,1,2], size=None, replace=True, p=np.matmul(Q_pi[t],qs[0]))\n",
    "            \n",
    "        state, reward, done, info = env.step(action)\n",
    "        score = reward\n",
    "        \n",
    "        observation = state_to_obs(state, reward)\n",
    "\n",
    "        qs = pymdp.inference.update_posterior_states(A, observation, prior = D)\n",
    "        \n",
    "        if(t == 0):\n",
    "            qs0 = qs\n",
    "\n",
    "        pA = A\n",
    "        pB = B\n",
    "        pD = D\n",
    "        \n",
    "        # Learning\n",
    "        A = pymdp.learning.update_obs_likelihood_dirichlet(pA, A, observation, qs, lr=1.0, modalities='all')\n",
    "        \n",
    "        actions = np.array([int(action)])\n",
    "        B = pymdp.learning.update_state_likelihood_dirichlet(pB, B, actions, qs, qs_prev, lr=1.0, factors='all')\n",
    "        \n",
    "        e.append([ np.sum(entropy(A[0])), np.sum(entropy(A[1])), np.sum(entropy(A[2])), np.sum(entropy(A[3])), np.sum(entropy(A[4])), np.sum(entropy(A[5])), np.sum(entropy(A[6])), np.sum(entropy(B[0])) ])\n",
    "        \n",
    "        if(t == 0):\n",
    "            D = pymdp.learning.update_state_prior_dirichlet(pD, qs0, lr=1.0, factors='all')\n",
    "            D[0] = pymdp.maths.softmax(D[0])\n",
    "        \n",
    "        # End of episode i.e last action\n",
    "        if(t == T-1):\n",
    "            t = 0\n",
    "            for i in range(numS):\n",
    "                A[0][:,i] = dirichlet.mean(A[0][:,i])\n",
    "                A[1][:,i] = dirichlet.mean(A[1][:,i])\n",
    "                A[2][:,i] = dirichlet.mean(A[2][:,i])\n",
    "                A[3][:,i] = dirichlet.mean(A[3][:,i])\n",
    "                A[4][:,i] = dirichlet.mean(A[4][:,i])\n",
    "                A[5][:,i] = dirichlet.mean(A[5][:,i])\n",
    "                A[6][:,i] = dirichlet.mean(A[6][:,i])\n",
    "                for j in range(numA):\n",
    "                    B[0][:,i,j]=dirichlet.mean(B[0][:,i,j])\n",
    "\n",
    "        qs_prev = qs\n",
    "        \n",
    "    #print('Episode:{} Score:{}'.format(episode, score))\n",
    "    \n",
    "env.close()"
   ]
  },
  {
   "cell_type": "code",
   "execution_count": 19,
   "id": "ad06a09c",
   "metadata": {},
   "outputs": [
    {
     "data": {
      "text/plain": [
       "[<matplotlib.lines.Line2D at 0x1e1a6703280>]"
      ]
     },
     "execution_count": 19,
     "metadata": {},
     "output_type": "execute_result"
    },
    {
     "data": {
      "image/png": "[encoded data removed]",
      "text/plain": [
       "<Figure size 432x288 with 1 Axes>"
      ]
     },
     "metadata": {
      "needs_background": "light"
     },
     "output_type": "display_data"
    }
   ],
   "source": [
    "from matplotlib import pyplot as plt\n",
    "x = np.array(e)\n",
    "plt.plot(x[:,0])"
   ]
  },
  {
   "cell_type": "code",
   "execution_count": 20,
   "id": "9a564353",
   "metadata": {},
   "outputs": [
    {
     "data": {
      "text/plain": [
       "[<matplotlib.lines.Line2D at 0x1e1a67e7820>]"
      ]
     },
     "execution_count": 20,
     "metadata": {},
     "output_type": "execute_result"
    },
    {
     "data": {
      "image/png": "[encoded data removed]",
      "text/plain": [
       "<Figure size 432x288 with 1 Axes>"
      ]
     },
     "metadata": {
      "needs_background": "light"
     },
     "output_type": "display_data"
    }
   ],
   "source": [
    "plt.plot(x[:,1])"
   ]
  },
  {
   "cell_type": "code",
   "execution_count": 21,
   "id": "525d6ddb",
   "metadata": {
    "scrolled": true
   },
   "outputs": [
    {
     "data": {
      "text/plain": [
       "[<matplotlib.lines.Line2D at 0x1e1a6839610>]"
      ]
     },
     "execution_count": 21,
     "metadata": {},
     "output_type": "execute_result"
    },
    {
     "data": {
      "image/png": "[encoded data removed]",
      "text/plain": [
       "<Figure size 432x288 with 1 Axes>"
      ]
     },
     "metadata": {
      "needs_background": "light"
     },
     "output_type": "display_data"
    }
   ],
   "source": [
    "plt.plot(x[:,2])"
   ]
  },
  {
   "cell_type": "code",
   "execution_count": 22,
   "id": "4c2cb445",
   "metadata": {},
   "outputs": [
    {
     "data": {
      "text/plain": [
       "[<matplotlib.lines.Line2D at 0x1e1a7860b20>]"
      ]
     },
     "execution_count": 22,
     "metadata": {},
     "output_type": "execute_result"
    },
    {
     "data": {
      "image/png": "[encoded data removed]",
      "text/plain": [
       "<Figure size 432x288 with 1 Axes>"
      ]
     },
     "metadata": {
      "needs_background": "light"
     },
     "output_type": "display_data"
    }
   ],
   "source": [
    "plt.plot(x[:,3])"
   ]
  },
  {
   "cell_type": "code",
   "execution_count": 23,
   "id": "95c0dfef",
   "metadata": {},
   "outputs": [
    {
     "data": {
      "text/plain": [
       "[<matplotlib.lines.Line2D at 0x1e1a78c60a0>]"
      ]
     },
     "execution_count": 23,
     "metadata": {},
     "output_type": "execute_result"
    },
    {
     "data": {
      "image/png": "[encoded data removed]",
      "text/plain": [
       "<Figure size 432x288 with 1 Axes>"
      ]
     },
     "metadata": {
      "needs_background": "light"
     },
     "output_type": "display_data"
    }
   ],
   "source": [
    "plt.plot(x[:,4])"
   ]
  },
  {
   "cell_type": "code",
   "execution_count": 24,
   "id": "be862ecc",
   "metadata": {},
   "outputs": [
    {
     "data": {
      "text/plain": [
       "[<matplotlib.lines.Line2D at 0x1e1a78c63d0>]"
      ]
     },
     "execution_count": 24,
     "metadata": {},
     "output_type": "execute_result"
    },
    {
     "data": {
      "image/png": "[encoded data removed]",
      "text/plain": [
       "<Figure size 432x288 with 1 Axes>"
      ]
     },
     "metadata": {
      "needs_background": "light"
     },
     "output_type": "display_data"
    }
   ],
   "source": [
    "plt.plot(x[:,5])"
   ]
  },
  {
   "cell_type": "code",
   "execution_count": 25,
   "id": "e58dd2e0",
   "metadata": {},
   "outputs": [
    {
     "data": {
      "text/plain": [
       "[<matplotlib.lines.Line2D at 0x1e1a797bf10>]"
      ]
     },
     "execution_count": 25,
     "metadata": {},
     "output_type": "execute_result"
    },
    {
     "data": {
      "image/png": "[encoded data removed]",
      "text/plain": [
       "<Figure size 432x288 with 1 Axes>"
      ]
     },
     "metadata": {
      "needs_background": "light"
     },
     "output_type": "display_data"
    }
   ],
   "source": [
    "plt.plot(x[:,6])"
   ]
  },
  {
   "cell_type": "code",
   "execution_count": 26,
   "id": "338bf217",
   "metadata": {},
   "outputs": [
    {
     "data": {
      "text/plain": [
       "[<matplotlib.lines.Line2D at 0x1e1a79d8cd0>]"
      ]
     },
     "execution_count": 26,
     "metadata": {},
     "output_type": "execute_result"
    },
    {
     "data": {
      "image/png": "[encoded data removed]",
      "text/plain": [
       "<Figure size 432x288 with 1 Axes>"
      ]
     },
     "metadata": {
      "needs_background": "light"
     },
     "output_type": "display_data"
    }
   ],
   "source": [
    "plt.plot(x[:,7])"
   ]
  },
  {
   "cell_type": "code",
   "execution_count": null,
   "id": "8bd5fa21",
   "metadata": {},
   "outputs": [],
   "source": []
  },
  {
   "cell_type": "code",
   "execution_count": null,
   "id": "f2213f26",
   "metadata": {},
   "outputs": [],
   "source": []
  }
 ],
 "metadata": {
  "kernelspec": {
   "display_name": "Python 3 (ipykernel)",
   "language": "python",
   "name": "python3"
  },
  "language_info": {
   "codemirror_mode": {
    "name": "ipython",
    "version": 3
   },
   "file_extension": ".py",
   "mimetype": "text/x-python",
   "name": "python",
   "nbconvert_exporter": "python",
   "pygments_lexer": "ipython3",
   "version": "3.9.12"
  }
 },
 "nbformat": 4,
 "nbformat_minor": 5
}
