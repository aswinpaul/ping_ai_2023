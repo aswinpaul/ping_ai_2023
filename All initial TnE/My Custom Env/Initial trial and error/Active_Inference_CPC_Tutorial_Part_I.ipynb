{
 "cells": [
  {
   "cell_type": "markdown",
   "metadata": {
    "id": "Lggo6pjkdPhS"
   },
   "source": [
    "## **Imports some helpful libraries, most importantly `numpy`**"
   ]
  },
  {
   "cell_type": "code",
   "execution_count": 1,
   "metadata": {
    "id": "hk0kXw1RRmTf"
   },
   "outputs": [],
   "source": [
    "import numpy as np\n",
    "import matplotlib.pyplot as plt\n",
    "import seaborn as sns"
   ]
  },
  {
   "cell_type": "markdown",
   "metadata": {
    "id": "iSS6oO3RWrwp"
   },
   "source": [
    "## **Auxiliary functions**\n",
    "\n",
    "###Here are some plotting functions that will come in handy throughout the tutorial. Please define these functions by running the cells below before proceeding with the rest of the exercise."
   ]
  },
  {
   "cell_type": "code",
   "execution_count": 2,
   "metadata": {
    "id": "Y0QiIF8SWxot"
   },
   "outputs": [],
   "source": [
    "def plot_likelihood(matrix, xlabels = list(range(9)), ylabels = list(range(9)), title_str = \"Likelihood distribution (A)\"):\n",
    "    \"\"\"\n",
    "    Plots a 2-D likelihood matrix as a heatmap\n",
    "    \"\"\"\n",
    "\n",
    "    if not np.isclose(matrix.sum(axis=0), 1.0).all():\n",
    "      raise ValueError(\"Distribution not column-normalized! Please normalize (ensure matrix.sum(axis=0) == 1.0 for all columns)\")\n",
    "    \n",
    "    fig = plt.figure(figsize = (6,6))\n",
    "    ax = sns.heatmap(matrix, xticklabels = xlabels, yticklabels = ylabels, cmap = 'gray', cbar = False, vmin = 0.0, vmax = 1.0)\n",
    "    plt.title(title_str)\n",
    "    plt.show()\n",
    "\n",
    "def plot_grid(grid_locations, num_x = 3, num_y = 3 ):\n",
    "    \"\"\"\n",
    "    Plots the spatial coordinates of GridWorld as a heatmap, with each (X, Y) coordinate \n",
    "    labeled with its linear index (its `state id`)\n",
    "    \"\"\"\n",
    "\n",
    "    grid_heatmap = np.zeros((num_x, num_y))\n",
    "    for linear_idx, location in enumerate(grid_locations):\n",
    "      y, x = location\n",
    "      grid_heatmap[y, x] = linear_idx\n",
    "    sns.set(font_scale=1.5)\n",
    "    sns.heatmap(grid_heatmap, annot=True, cbar = False, fmt='.0f', cmap='crest')\n",
    "\n",
    "def plot_point_on_grid(state_vector, grid_locations):\n",
    "    \"\"\"\n",
    "    Plots the current location of the agent on the grid world\n",
    "    \"\"\"\n",
    "    state_index = np.where(state_vector)[0][0]\n",
    "    y, x = grid_locations[state_index]\n",
    "    grid_heatmap = np.zeros((3,3))\n",
    "    grid_heatmap[y,x] = 1.0\n",
    "    sns.heatmap(grid_heatmap, cbar = False, fmt='.0f')\n",
    "\n",
    "def plot_beliefs(belief_dist, title_str=\"\"):\n",
    "    \"\"\"\n",
    "    Plot a categorical distribution or belief distribution, stored in the 1-D numpy vector `belief_dist`\n",
    "    \"\"\"\n",
    "\n",
    "    if not np.isclose(belief_dist.sum(), 1.0):\n",
    "      raise ValueError(\"Distribution not normalized! Please normalize\")\n",
    "\n",
    "    plt.grid(zorder=0)\n",
    "    plt.bar(range(belief_dist.shape[0]), belief_dist, color='r', zorder=3)\n",
    "    plt.xticks(range(belief_dist.shape[0]))\n",
    "    plt.title(title_str)\n",
    "    plt.show()\n"
   ]
  },
  {
   "cell_type": "markdown",
   "metadata": {
    "id": "5RsP7hVidcfn"
   },
   "source": [
    "## **The Basics: Categorical distributions**\n",
    "\n",
    "### Let's start by creating a simple Categorical distribution $P(x)$. We will represent this distribution numerically with a 1-D `numpy` array (i.e. a `numpy.ndarray` where `ndim == 1`). The discrete entries of this vector can be thought of as the probabilities of seeing each of the $K$ alternative outcomes (the support of the distribution), if we were to sample once from the distribution. We can write the distribution as a vector of probabilities, follows:\n",
    "\n",
    "\n",
    "\\begin{align}\n",
    "P(x) = \\begin{bmatrix} P(x = 0) \\\\\\ P(x = 1)\\\\\\ \\vdots \\\\\\ P(x = K) \\end{bmatrix}\n",
    "\\end{align}  \n",
    "\n",
    "### We can use `numpy` and the `norm_dist` function from `utils` library of `pymdp` to quickly create a random Categorical distribution.\n"
   ]
  },
  {
   "cell_type": "code",
   "execution_count": 3,
   "metadata": {
    "id": "3qeyE-O_dgaV"
   },
   "outputs": [],
   "source": [
    "from pymdp import utils"
   ]
  },
  {
   "cell_type": "code",
   "execution_count": 4,
   "metadata": {
    "id": "HYaJr7Uldil_"
   },
   "outputs": [
    {
     "name": "stdout",
     "output_type": "stream",
     "text": [
      "[[0.3]\n",
      " [0.4]\n",
      " [0.3]]\n"
     ]
    }
   ],
   "source": [
    "\"\"\" Create a random Categorical distribution \"\"\"\n",
    "my_categorical = np.array([0.3,0.4,0.3])\n",
    "print(my_categorical.reshape(-1,1)) # we reshape it to display it like a column vector"
   ]
  },
  {
   "cell_type": "code",
   "execution_count": 5,
   "metadata": {
    "id": "PZsLSdDh4Afs"
   },
   "outputs": [
    {
     "name": "stdout",
     "output_type": "stream",
     "text": [
      "Integral of the distribution: 1.0\n"
     ]
    }
   ],
   "source": [
    "print(f'Integral of the distribution: {round(my_categorical.sum(), 2)}')"
   ]
  },
  {
   "cell_type": "markdown",
   "metadata": {
    "id": "yJ9312In3r0Y"
   },
   "source": [
    "### *Solution*"
   ]
  },
  {
   "cell_type": "code",
   "execution_count": 6,
   "metadata": {
    "id": "P0RZ91Xb34GY"
   },
   "outputs": [
    {
     "name": "stdout",
     "output_type": "stream",
     "text": [
      "[[0.28999566]\n",
      " [0.38978757]\n",
      " [0.32021677]]\n",
      "Integral of the distribution: 1.0\n"
     ]
    }
   ],
   "source": [
    "my_categorical = np.random.rand(3)\n",
    "# my_categorical = np.array([0.5, 0.3, 0.8]) # could also just write in your own numbers\n",
    "my_categorical = utils.norm_dist(my_categorical) # normalizes the distribution so it integrates to 1.0\n",
    "\n",
    "print(my_categorical.reshape(-1,1)) # we reshape it to display it like a column vector\n",
    "print(f'Integral of the distribution: {round(my_categorical.sum(), 2)}')"
   ]
  },
  {
   "cell_type": "markdown",
   "metadata": {
    "id": "uJmzJ7tFdptc"
   },
   "source": [
    "### We can sample a discrete outcome from this distribution using the `sample()` function from the `utils` module"
   ]
  },
  {
   "cell_type": "code",
   "execution_count": 7,
   "metadata": {
    "id": "t0TmtTB8do1F"
   },
   "outputs": [
    {
     "name": "stdout",
     "output_type": "stream",
     "text": [
      "Sampled outcome: 0\n"
     ]
    }
   ],
   "source": [
    "\"\"\" Sample from `my_categorical` \"\"\"\n",
    "sampled_outcome = utils.sample(my_categorical)\n",
    "print(f'Sampled outcome: {sampled_outcome}')"
   ]
  },
  {
   "cell_type": "markdown",
   "metadata": {
    "id": "kZmnZPB74Sc1"
   },
   "source": [
    "### *Solution*"
   ]
  },
  {
   "cell_type": "code",
   "execution_count": 8,
   "metadata": {
    "id": "1LvlfKJ54ibe"
   },
   "outputs": [
    {
     "name": "stdout",
     "output_type": "stream",
     "text": [
      "Sampled outcome: 0\n"
     ]
    }
   ],
   "source": [
    "sampled_outcome = utils.sample(my_categorical)\n",
    "print(f'Sampled outcome: {sampled_outcome}')"
   ]
  },
  {
   "cell_type": "markdown",
   "metadata": {
    "id": "x5co79ug4UVy"
   },
   "source": [
    "### Now plot the beliefs using our `plot_beliefs()` function that we defined in the beginning. Don't worry if your plot looks different from ours -- since we sampled these distributions randomly, everyone's plot will look different :) "
   ]
  },
  {
   "cell_type": "code",
   "execution_count": 9,
   "metadata": {
    "id": "13yT2uB_dzFc"
   },
   "outputs": [
    {
     "data": {
      "image/png": "[encoded data removed]",
      "text/plain": [
       "<Figure size 432x288 with 1 Axes>"
      ]
     },
     "metadata": {
      "needs_background": "light"
     },
     "output_type": "display_data"
    }
   ],
   "source": [
    "plot_beliefs(my_categorical, title_str = \"A random (unconditional) Categorical distribution\")"
   ]
  },
  {
   "cell_type": "markdown",
   "metadata": {
    "id": "vfDpOZ25dzpG"
   },
   "source": [
    "### Now let's move onto _conditional_ Categorical distributions or likelihoods, i.e. how we represent the distribution of one discrete random variable X, conditioned on the settings of another discrete random variable Y.\n",
    "\n",
    "### We would write these mathematically as:\n",
    "\n",
    "\n",
    "## $$ \\begin{align}\n",
    "P(X | Y)\n",
    "\\end{align}\n",
    "$$\n",
    "\n",
    "### And can represent them using 2-D `numpy.ndarrays` i.e. matrices"
   ]
  },
  {
   "cell_type": "code",
   "execution_count": 10,
   "metadata": {
    "id": "BI-rClsrdz59"
   },
   "outputs": [
    {
     "name": "stdout",
     "output_type": "stream",
     "text": [
      "[[0.485 0.717 0.21  0.972]\n",
      " [0.757 0.781 0.867 0.178]\n",
      " [0.057 0.316 0.091 0.466]]\n"
     ]
    }
   ],
   "source": [
    "\"\"\" Create a matrix representing a conditional probability or likelihood \"\"\"\n",
    "\n",
    "# initialize it with random numbers\n",
    "p_x_given_y = np.random.rand(3, 4)\n",
    "print(p_x_given_y.round(3))"
   ]
  },
  {
   "cell_type": "code",
   "execution_count": 11,
   "metadata": {
    "id": "SxxzvK7zB-Gk"
   },
   "outputs": [
    {
     "name": "stdout",
     "output_type": "stream",
     "text": [
      "[[0.373 0.395 0.18  0.602]\n",
      " [0.583 0.431 0.742 0.11 ]\n",
      " [0.044 0.174 0.078 0.288]]\n"
     ]
    }
   ],
   "source": [
    "# normalize it\n",
    "p_x_given_y = utils.norm_dist(p_x_given_y)\n",
    "print(p_x_given_y.round(3))"
   ]
  },
  {
   "cell_type": "markdown",
   "metadata": {
    "id": "61gmngb9449T"
   },
   "source": [
    "### *Solution*"
   ]
  },
  {
   "cell_type": "code",
   "execution_count": 12,
   "metadata": {
    "id": "_PZ8VMWc46kk"
   },
   "outputs": [
    {
     "name": "stdout",
     "output_type": "stream",
     "text": [
      "[[0.065 0.273 0.756 0.245]\n",
      " [0.456 0.852 0.701 0.582]\n",
      " [0.028 0.714 0.798 0.155]]\n"
     ]
    }
   ],
   "source": [
    "# initialize it with random numbers\n",
    "p_x_given_y = np.random.rand(3, 4)\n",
    "print(p_x_given_y.round(3))"
   ]
  },
  {
   "cell_type": "code",
   "execution_count": 13,
   "metadata": {
    "id": "G8HyWdgE48Ts"
   },
   "outputs": [
    {
     "name": "stdout",
     "output_type": "stream",
     "text": [
      "[[0.118 0.149 0.335 0.249]\n",
      " [0.83  0.463 0.311 0.593]\n",
      " [0.052 0.388 0.354 0.158]]\n"
     ]
    }
   ],
   "source": [
    "# normalize it\n",
    "p_x_given_y = utils.norm_dist(p_x_given_y)\n",
    "print(p_x_given_y.round(3))"
   ]
  },
  {
   "cell_type": "markdown",
   "metadata": {
    "id": "2doBWPTW5Lix"
   },
   "source": [
    "### Now print the first column (i.e. $P(X | Y = 0)$) and show that it's a proper Categorical distribution"
   ]
  },
  {
   "cell_type": "code",
   "execution_count": 14,
   "metadata": {
    "id": "9mtgjyb1d7ht"
   },
   "outputs": [
    {
     "name": "stdout",
     "output_type": "stream",
     "text": [
      "[[0.11790721]\n",
      " [0.83025704]\n",
      " [0.05183575]]\n",
      "Integral of P(X|Y=0): 0.9999999999999999\n"
     ]
    }
   ],
   "source": [
    "print(p_x_given_y[:,0].reshape(-1,1))\n",
    "print(f'Integral of P(X|Y=0): {p_x_given_y[:,0].sum()}')"
   ]
  },
  {
   "cell_type": "markdown",
   "metadata": {
    "id": "fqsar3k5d8lm"
   },
   "source": [
    "### So column `i` of the matrix `p_x_given_y` represents the conditional probability of $X$, given the `i`-th level of the random variable $Y$, i.e. $P(X | Y = i)$\n",
    "\n",
    "### Next: taking expectations of random variables using matrix-vector products"
   ]
  },
  {
   "cell_type": "code",
   "execution_count": 15,
   "metadata": {
    "id": "XKkJuevmd-7H"
   },
   "outputs": [],
   "source": [
    "\"\"\" Create a P(Y) and P(X|Y) using the same numbers from the slides \"\"\"\n",
    "\n",
    "p_y = np.array([0.75, 0.25]) # this is already normalized - you don't need to `utils.norm_dist()` it!\n",
    "\n",
    "# the columns here are already normalized - you don't need to `utils.norm_dist()` it!\n",
    "p_x_given_y = np.array([[0.6, 0.5],\n",
    "                        [0.15, 0.41], \n",
    "                        [0.25, 0.09]])"
   ]
  },
  {
   "cell_type": "code",
   "execution_count": 16,
   "metadata": {
    "id": "fFWzGXVDeGq9"
   },
   "outputs": [
    {
     "name": "stdout",
     "output_type": "stream",
     "text": [
      "[[0.75]\n",
      " [0.25]]\n"
     ]
    }
   ],
   "source": [
    "print(p_y.round(3).reshape(-1,1))"
   ]
  },
  {
   "cell_type": "code",
   "execution_count": 17,
   "metadata": {
    "id": "5FdXURdkeG3t"
   },
   "outputs": [
    {
     "name": "stdout",
     "output_type": "stream",
     "text": [
      "[[0.6  0.5 ]\n",
      " [0.15 0.41]\n",
      " [0.25 0.09]]\n"
     ]
    }
   ],
   "source": [
    "print(p_x_given_y.round(3))"
   ]
  },
  {
   "cell_type": "markdown",
   "metadata": {
    "id": "iGFLbNSteN5h"
   },
   "source": [
    "### Calculate expected value of $X$, given our current _belief_ about $Y$, i.e. $P(Y)$ using a simple matrix-vector product, of the form $\\mathbf{A}\\mathbf{x}$."
   ]
  },
  {
   "cell_type": "code",
   "execution_count": 18,
   "metadata": {
    "id": "qbGg8k4Q5kvn"
   },
   "outputs": [
    {
     "data": {
      "text/plain": [
       "array([0.575, 0.215, 0.21 ])"
      ]
     },
     "execution_count": 18,
     "metadata": {},
     "output_type": "execute_result"
    }
   ],
   "source": [
    "\"\"\" Calculate the expectation using numpy's dot product functionality \"\"\"\n",
    "\n",
    "# calculate the dot product of `p_x_given_y` and `p_y`\n",
    "E_x_wrt_y = p_x_given_y.dot(p_y)\n",
    "E_x_wrt_y"
   ]
  },
  {
   "cell_type": "markdown",
   "metadata": {
    "id": "v_ACEjni5fXJ"
   },
   "source": [
    "### *Solution*"
   ]
  },
  {
   "cell_type": "code",
   "execution_count": 19,
   "metadata": {
    "id": "JMUFrn0FeOMY"
   },
   "outputs": [],
   "source": [
    "\"\"\" Calculate the expectation using numpy's dot product functionality \"\"\"\n",
    "\n",
    "# first version of the dot product (using the method of a numpy array)\n",
    "E_x_wrt_y = p_x_given_y.dot(p_y)\n",
    "\n",
    "# second version of the dot product (using the function np.dot with two arguments)\n",
    "# E_x_wrt_y = np.dot(p_x_given_y, p_y)"
   ]
  },
  {
   "cell_type": "markdown",
   "metadata": {
    "id": "XGzohGsF5taF"
   },
   "source": [
    "### Now print it and verify the result is a proper Categorical distribution (integrates to 1.0)"
   ]
  },
  {
   "cell_type": "code",
   "execution_count": 20,
   "metadata": {
    "id": "aqq_fV165yqp"
   },
   "outputs": [
    {
     "name": "stdout",
     "output_type": "stream",
     "text": [
      "[0.575 0.215 0.21 ]\n",
      "Integral: 1.0\n"
     ]
    }
   ],
   "source": [
    "print(E_x_wrt_y)\n",
    "print(f'Integral: {E_x_wrt_y.sum().round(3)}')"
   ]
  },
  {
   "cell_type": "markdown",
   "metadata": {
    "id": "EStsKt14JxNP"
   },
   "source": [
    "\n",
    "\n",
    "---\n",
    "\n",
    "\n",
    "## **QUESTION BREAK**\n",
    "\n",
    "\n",
    "\n",
    "---\n",
    "\n"
   ]
  },
  {
   "cell_type": "markdown",
   "metadata": {
    "id": "YxwopW4heRcb"
   },
   "source": [
    "## **A simple environment: Grid-world**\n",
    "### Now that we understand Categorical distributions and how to take conditional expectations of random variables, with Categorical conditional and prior distributions, let's move onto a worked example of Active Inference, so-called 'Grid-World'. \n",
    "\n",
    "### Before we write down the generative model $P(o,s)$ of an active inference agent who will navigate Grid-World, let's start by establishing what exactly this environment is and how we're going to represent it mathematically."
   ]
  },
  {
   "cell_type": "code",
   "execution_count": 21,
   "metadata": {
    "id": "rZYA7vDreRo5"
   },
   "outputs": [
    {
     "name": "stdout",
     "output_type": "stream",
     "text": [
      "[(0, 0), (0, 1), (0, 2), (1, 0), (1, 1), (1, 2), (2, 0), (2, 1), (2, 2)]\n"
     ]
    }
   ],
   "source": [
    "import itertools\n",
    "\n",
    "\"\"\" Create  the grid locations in the form of a list of (Y, X) tuples -- HINT: use itertools \"\"\"\n",
    "grid_locations = list(itertools.product(range(3), repeat = 2))\n",
    "print(grid_locations)"
   ]
  },
  {
   "cell_type": "code",
   "execution_count": 22,
   "metadata": {
    "id": "HLr-vvmLefyb"
   },
   "outputs": [
    {
     "data": {
      "image/png": "[encoded data removed]",
      "text/plain": [
       "<Figure size 432x288 with 1 Axes>"
      ]
     },
     "metadata": {},
     "output_type": "display_data"
    }
   ],
   "source": [
    "plot_grid(grid_locations)"
   ]
  },
  {
   "cell_type": "markdown",
   "metadata": {
    "id": "PQ1Rm_w23sLO"
   },
   "source": [
    "## **Generative model**\n",
    "### Breaking it down into $\\mathbf{A}$, $\\mathbf{B}$, $\\mathbf{C}$, and $\\mathbf{D}$\n"
   ]
  },
  {
   "cell_type": "markdown",
   "metadata": {
    "id": "0q32yTQEeiqw"
   },
   "source": [
    "## 1. The **A** matrix or $P(o\\mid s)$. \n",
    "\n",
    "---\n",
    "\n",
    "\n",
    "### The generative model's \"prior beliefs\" about how hidden states relate to observations"
   ]
  },
  {
   "cell_type": "code",
   "execution_count": 23,
   "metadata": {
    "id": "ki7RSJ3kep5o"
   },
   "outputs": [
    {
     "name": "stdout",
     "output_type": "stream",
     "text": [
      "Dimensionality of hidden states: 9\n",
      "Dimensionality of observations: 9\n"
     ]
    }
   ],
   "source": [
    "\"\"\" Create variables for the storing the dimensionalities of the hidden states and the observations \"\"\"\n",
    "\n",
    "n_states = len(grid_locations)\n",
    "\n",
    "n_observations = len(grid_locations)\n",
    "\n",
    "print(f'Dimensionality of hidden states: {n_states}')\n",
    "print(f'Dimensionality of observations: {n_observations}')"
   ]
  },
  {
   "cell_type": "code",
   "execution_count": 24,
   "metadata": {
    "id": "kW4N-FshexfI"
   },
   "outputs": [
    {
     "data": {
      "text/plain": [
       "' Create the A matrix  '"
      ]
     },
     "execution_count": 24,
     "metadata": {},
     "output_type": "execute_result"
    }
   ],
   "source": [
    "\"\"\" Create the A matrix  \"\"\"\n"
   ]
  },
  {
   "cell_type": "code",
   "execution_count": 25,
   "metadata": {
    "id": "Z_I-bUS7e7ri"
   },
   "outputs": [
    {
     "data": {
      "text/plain": [
       "\" Create an umambiguous or 'noise-less' mapping between hidden states and observations \""
      ]
     },
     "execution_count": 25,
     "metadata": {},
     "output_type": "execute_result"
    }
   ],
   "source": [
    "\"\"\" Create an umambiguous or 'noise-less' mapping between hidden states and observations \"\"\""
   ]
  },
  {
   "cell_type": "markdown",
   "metadata": {
    "id": "_JMDEO2H6wMj"
   },
   "source": [
    "### *Solution*"
   ]
  },
  {
   "cell_type": "code",
   "execution_count": 26,
   "metadata": {
    "id": "uRUbpndA61Lg"
   },
   "outputs": [
    {
     "name": "stdout",
     "output_type": "stream",
     "text": [
      "Dimensionality of hidden states: 9\n",
      "Dimensionality of observations: 9\n"
     ]
    }
   ],
   "source": [
    "\"\"\" Create variables for the storing the dimensionalities of the hidden states and the observations \"\"\"\n",
    "\n",
    "n_states = len(grid_locations)\n",
    "n_observations = len(grid_locations)\n",
    "\n",
    "print(f'Dimensionality of hidden states: {n_states}')\n",
    "print(f'Dimensionality of observations: {n_observations}')"
   ]
  },
  {
   "cell_type": "code",
   "execution_count": 27,
   "metadata": {
    "id": "3QLSmiYu67j4"
   },
   "outputs": [],
   "source": [
    "\"\"\" Create the A matrix  \"\"\"\n",
    "\n",
    "A = np.zeros( (n_states, n_observations) )"
   ]
  },
  {
   "cell_type": "code",
   "execution_count": 28,
   "metadata": {
    "id": "k-i2_Uxc6_QY"
   },
   "outputs": [],
   "source": [
    "\"\"\" Create an umambiguous or 'noise-less' mapping between hidden states and observations \"\"\"\n",
    "\n",
    "np.fill_diagonal(A, 1.0)\n",
    "\n",
    "# alternative:\n",
    "A = np.eye(n_observations, n_states)"
   ]
  },
  {
   "cell_type": "markdown",
   "metadata": {
    "id": "DuU1UHLTfAHo"
   },
   "source": [
    "### Likelihood matrices show relationships between indices of the state space, which are indexed linearly. Remember the (Y, X) coordinates of the grid world don't necessarily neatly map onto to the locations in the matrix here, which has 'unwrapped' the Grid World's (Y, X) locations into columns/rows."
   ]
  },
  {
   "cell_type": "code",
   "execution_count": 29,
   "metadata": {
    "id": "HdmHQ2l-fKhR"
   },
   "outputs": [
    {
     "data": {
      "image/png": "[encoded data removed]",
      "text/plain": [
       "<Figure size 432x432 with 1 Axes>"
      ]
     },
     "metadata": {},
     "output_type": "display_data"
    }
   ],
   "source": [
    "plot_likelihood(A, title_str = \"A matrix or $P(o|s)$\")"
   ]
  },
  {
   "cell_type": "markdown",
   "metadata": {
    "id": "xZx08e6YfL7r"
   },
   "source": [
    "### How could we introduce uncertainty into this A matrix? I.e. how do we introduce ambiguity or uncertainty into the agent's model of the world? "
   ]
  },
  {
   "cell_type": "code",
   "execution_count": 30,
   "metadata": {
    "id": "OQycm296fCZN"
   },
   "outputs": [
    {
     "data": {
      "image/png": "[encoded data removed]",
      "text/plain": [
       "<Figure size 432x288 with 1 Axes>"
      ]
     },
     "metadata": {},
     "output_type": "display_data"
    }
   ],
   "source": [
    "\"\"\" Remind yourself of the mapping between linear indices (0 through 8) and grid locations (Y, X) \"\"\"\n",
    "plot_grid(grid_locations)"
   ]
  },
  {
   "cell_type": "code",
   "execution_count": 31,
   "metadata": {
    "id": "MboJWmdqfRX0"
   },
   "outputs": [],
   "source": [
    "A_noisy = A.copy()\n",
    "\n",
    "# this line says: the probability of seeing yourself in location 0, given you're in location 0, is 1/3, AKA P(o == 0 | s == 0) = 0.3333....\n",
    "A_noisy[0,0] = 1 / 3.0 # corresponds to location (0,0)\n",
    "\n",
    "# this line says: the probability of seeing yourself in location 1, given you're in location 0, is 1/3, AKA P(o == 1 | s == 0) = 0.3333....\n",
    "A_noisy[1,0] = 1 / 3.0 # corresponds to one step to the right from (0, 1)\n",
    "\n",
    "# this line says: the probability of seeing yourself in location 3, given you're in location 0, is 1/3, AKA P(o == 3 | s == 0) = 0.3333....\n",
    "A_noisy[3,0] = 1 / 3.0 # corresponds to one step down from (1, 0)"
   ]
  },
  {
   "cell_type": "code",
   "execution_count": 32,
   "metadata": {
    "id": "7hh5dxG-fRva"
   },
   "outputs": [
    {
     "data": {
      "image/png": "[encoded data removed]",
      "text/plain": [
       "<Figure size 432x432 with 1 Axes>"
      ]
     },
     "metadata": {},
     "output_type": "display_data"
    }
   ],
   "source": [
    "plot_likelihood(A_noisy, title_str = 'modified A matrix where location (0,0) is \"blurry\"')"
   ]
  },
  {
   "cell_type": "markdown",
   "metadata": {
    "id": "I6cs9BOJGJkI"
   },
   "source": [
    "### Now do the same for another state or grid location. Your task is to make  **location 6** a \"blurry\" location. In other words, make the conditional distribution over observations, given that you're in **location 6**, be distributed among locations close to **location 6**."
   ]
  },
  {
   "cell_type": "code",
   "execution_count": 33,
   "metadata": {
    "id": "BFj1C-MMGWWa"
   },
   "outputs": [
    {
     "data": {
      "image/png": "[encoded data removed]",
      "text/plain": [
       "<Figure size 432x288 with 1 Axes>"
      ]
     },
     "metadata": {},
     "output_type": "display_data"
    }
   ],
   "source": [
    "\"\"\" Before going ahead, I recommend reminding yourself of the mapping between linear indices (0 through 8) and grid locations (Y, X) \"\"\"\n",
    "plot_grid(grid_locations)"
   ]
  },
  {
   "cell_type": "code",
   "execution_count": 34,
   "metadata": {
    "id": "xjZZLY1Z2GtC"
   },
   "outputs": [],
   "source": [
    "\"\"\" Now do the same for another state index and plot the resulting likelihood mapping. I.e. make one grid location \"ambiguous\" in the sense that it could be easily confused with neighbouring locations \"\"\"\n",
    "my_A_noisy = A_noisy.copy()\n",
    "\n",
    "\"\"\" Fill out the below \"\"\"\n",
    "my_A_noisy[3,6] = 1.0 / 3.0\n",
    "my_A_noisy[6,6] = 1.0 / 3.0\n",
    "my_A_noisy[7,6] = 1.0 / 3.0"
   ]
  },
  {
   "cell_type": "markdown",
   "metadata": {
    "id": "ttPFk03l8PDa"
   },
   "source": [
    "### *Solution*"
   ]
  },
  {
   "cell_type": "code",
   "execution_count": 35,
   "metadata": {
    "id": "2duo3znv8SQp"
   },
   "outputs": [],
   "source": [
    "\"\"\" Now do the same for another state index and plot the resulting likelihood mapping. I.e. make one grid location \"ambiguous\" in the sense that it could be easily confused with neighbouring locations \"\"\"\n",
    "my_A_noisy = A_noisy.copy()\n",
    "\n",
    "# locations 3 and 7 are the nearest neighbours to location 6\n",
    "my_A_noisy[3,6] = 1.0 / 3.0\n",
    "my_A_noisy[6,6] = 1.0 / 3.0\n",
    "my_A_noisy[7,6] = 1.0 / 3.0\n",
    "\n",
    "# Alternatively: you could have the probability spread among locations 3, 4, 6, and 7. This is basically saying, that whole lower-left corner of grid-world is blurry, if you're in location 6\n",
    "# Remember to make sure the A matrix is column normalized. So if you do it this way, with the probabilities spread among 4 perceived locations, then you'll have to make sure the probabilities sum to 1.0\n",
    "# my_A_noisy[3,6] = 1.0 / 4.0\n",
    "# my_A_noisy[4,6] = 1.0 / 4.0\n",
    "# my_A_noisy[6,6] = 1.0 / 4.0\n",
    "# my_A_noisy[7,6] = 1.0 / 4.0"
   ]
  },
  {
   "cell_type": "markdown",
   "metadata": {
    "id": "e4eyxN618ZgW"
   },
   "source": [
    "### Now plot your new A matrix, that now has two \"blurry\" locations"
   ]
  },
  {
   "cell_type": "code",
   "execution_count": 36,
   "metadata": {
    "id": "CZDtd3u63Qn0"
   },
   "outputs": [
    {
     "data": {
      "image/png": "[encoded data removed]",
      "text/plain": [
       "<Figure size 432x432 with 1 Axes>"
      ]
     },
     "metadata": {},
     "output_type": "display_data"
    }
   ],
   "source": [
    "plot_likelihood(my_A_noisy, title_str = \"Noisy A matrix now with TWO ambiguous locations\")"
   ]
  },
  {
   "cell_type": "markdown",
   "metadata": {
    "id": "oAF6htnwfVgP"
   },
   "source": [
    "## **Back to slides for a quick remark about the Generative model vs Generative process**\n",
    "\n",
    "---\n",
    "\n"
   ]
  },
  {
   "cell_type": "markdown",
   "metadata": {
    "id": "VVh-pexGuwnh"
   },
   "source": [
    "## The **B** matrix or $P(s_{t}\\mid s_{t-1}, u_{t-1})$.\n",
    "\n",
    "\n",
    "---\n",
    "\n",
    "\n",
    "### The generative model's \"prior beliefs\" about (controllable) transitions between hidden states over time. Namely, how do hidden states at time $t$ result from hidden states at some previous time $t-1$. These transition dynamics are further conditioned on some past action $u_t$."
   ]
  },
  {
   "cell_type": "code",
   "execution_count": 37,
   "metadata": {
    "id": "ihPWs7X_fVw3"
   },
   "outputs": [],
   "source": [
    "actions = [\"UP\", \"DOWN\", \"LEFT\", \"RIGHT\", \"STAY\"]\n",
    "\n",
    "def create_B_matrix():\n",
    "  B = np.zeros( (len(grid_locations), len(grid_locations), len(actions)) )\n",
    "\n",
    "  for action_id, action_label in enumerate(actions):\n",
    "\n",
    "    for curr_state, grid_location in enumerate(grid_locations):\n",
    "\n",
    "      y, x = grid_location\n",
    "\n",
    "      if action_label == \"UP\":\n",
    "        next_y = y - 1 if y > 0 else y \n",
    "        next_x = x\n",
    "      elif action_label == \"DOWN\":\n",
    "        next_y = y + 1 if y < 2 else y \n",
    "        next_x = x\n",
    "      elif action_label == \"LEFT\":\n",
    "        next_x = x - 1 if x > 0 else x \n",
    "        next_y = y\n",
    "      elif action_label == \"RIGHT\":\n",
    "        next_x = x + 1 if x < 2 else x \n",
    "        next_y = y\n",
    "      elif action_label == \"STAY\":\n",
    "        next_x = x\n",
    "        next_y = y\n",
    "      new_location = (next_y, next_x)\n",
    "      next_state = grid_locations.index(new_location)\n",
    "      B[next_state, curr_state, action_id] = 1.0\n",
    "  return B\n",
    "\n",
    "B = create_B_matrix()"
   ]
  },
  {
   "cell_type": "markdown",
   "metadata": {
    "id": "njx3RFJS-H87"
   },
   "source": [
    "### Let's now explore what it looks to \"take\" an action, using matrix-vector product of an action-conditioned \"slice\" of the $\\mathbf{B}$ array and a previous state vector"
   ]
  },
  {
   "cell_type": "code",
   "execution_count": 38,
   "metadata": {
    "id": "I8wrEfF5-IR1"
   },
   "outputs": [
    {
     "data": {
      "image/png": "[encoded data removed]",
      "text/plain": [
       "<Figure size 432x288 with 1 Axes>"
      ]
     },
     "metadata": {},
     "output_type": "display_data"
    }
   ],
   "source": [
    "\"\"\" Define a starting location\"\"\" \n",
    "starting_location = (1,0)\n",
    "\n",
    "\"\"\"get the linear index of the state\"\"\"\n",
    "state_index = grid_locations.index(starting_location)\n",
    "\n",
    "\"\"\"  and create a state vector out of it \"\"\"\n",
    "starting_state = utils.onehot(state_index, n_states)\n",
    "\n",
    "plot_point_on_grid(starting_state, grid_locations)"
   ]
  },
  {
   "cell_type": "code",
   "execution_count": 39,
   "metadata": {
    "id": "pgR4S3gaBo0Z"
   },
   "outputs": [
    {
     "data": {
      "text/plain": [
       "array([[0., 0., 0., 0., 0., 0., 0., 0., 0.],\n",
       "       [0., 0., 0., 0., 0., 0., 0., 0., 0.],\n",
       "       [0., 0., 0., 0., 0., 0., 0., 0., 0.],\n",
       "       [1., 0., 0., 0., 0., 0., 0., 0., 0.],\n",
       "       [0., 1., 0., 0., 0., 0., 0., 0., 0.],\n",
       "       [0., 0., 1., 0., 0., 0., 0., 0., 0.],\n",
       "       [0., 0., 0., 1., 0., 0., 1., 0., 0.],\n",
       "       [0., 0., 0., 0., 1., 0., 0., 1., 0.],\n",
       "       [0., 0., 0., 0., 0., 1., 0., 0., 1.]])"
      ]
     },
     "execution_count": 39,
     "metadata": {},
     "output_type": "execute_result"
    }
   ],
   "source": [
    "B[:,:,1]"
   ]
  },
  {
   "cell_type": "code",
   "execution_count": 40,
   "metadata": {
    "id": "mX5gdrUrMHgz"
   },
   "outputs": [
    {
     "data": {
      "image/png": "[encoded data removed]",
      "text/plain": [
       "<Figure size 432x288 with 1 Axes>"
      ]
     },
     "metadata": {},
     "output_type": "display_data"
    }
   ],
   "source": [
    "plot_beliefs(starting_state, \"Categorical distribution over the starting state\")"
   ]
  },
  {
   "cell_type": "markdown",
   "metadata": {
    "id": "k1hodf-fI02_"
   },
   "source": [
    "### Now let's imagine we're moving **\"RIGHT\"** - write the conditional expectation, that will create the state vector corresponding to the new state after taking a step to the right."
   ]
  },
  {
   "cell_type": "code",
   "execution_count": 41,
   "metadata": {
    "id": "D8Q_dTRSMSje"
   },
   "outputs": [],
   "source": [
    "\"\"\" Redefine the action here, just for reference \"\"\"\n",
    "actions = [\"UP\", \"DOWN\", \"LEFT\", \"RIGHT\", \"STAY\"]"
   ]
  },
  {
   "cell_type": "code",
   "execution_count": 42,
   "metadata": {
    "id": "3Fj22xI0-OVP"
   },
   "outputs": [],
   "source": [
    "\"\"\" Generate the next state vector, given the starting state and the B matrix\"\"\"\n",
    "right_action_idx = actions.index(\"RIGHT\") \n",
    "next_state = B[:,:, right_action_idx].dot(starting_state) # input the correct indices to the B matrix"
   ]
  },
  {
   "cell_type": "markdown",
   "metadata": {
    "id": "rh2fsJo_My-7"
   },
   "source": [
    "### *Solution*"
   ]
  },
  {
   "cell_type": "code",
   "execution_count": 43,
   "metadata": {
    "id": "GH9R6_iMM1yA"
   },
   "outputs": [],
   "source": [
    "\"\"\" Generate the next state vector, given the starting state and the B matrix\"\"\"\n",
    "right_action_idx = actions.index(\"RIGHT\") \n",
    "next_state = B[:,:, right_action_idx].dot(starting_state) # input the indices to the B matrix"
   ]
  },
  {
   "cell_type": "markdown",
   "metadata": {
    "id": "-T4LefBiNCCy"
   },
   "source": [
    "### Plot the new state vector, after making the movement"
   ]
  },
  {
   "cell_type": "code",
   "execution_count": 44,
   "metadata": {
    "id": "zjeiAGAINA7W"
   },
   "outputs": [
    {
     "data": {
      "image/png": "[encoded data removed]",
      "text/plain": [
       "<Figure size 432x288 with 1 Axes>"
      ]
     },
     "metadata": {},
     "output_type": "display_data"
    }
   ],
   "source": [
    "plot_point_on_grid(next_state, grid_locations)"
   ]
  },
  {
   "cell_type": "markdown",
   "metadata": {
    "id": "0h9yH5ARJI-E"
   },
   "source": [
    "### Now let's imagine we're moving **\"DOWN\"** from where we just landed - write the conditional expectation, that will create the state vector corresponding to the new state after taking a step down."
   ]
  },
  {
   "cell_type": "code",
   "execution_count": 45,
   "metadata": {
    "id": "uniEnpjSMIpt"
   },
   "outputs": [],
   "source": [
    "\"\"\" Generate the next state vector, given the previous state and the B matrix\"\"\"\n",
    "prev_state = next_state.copy()\n",
    "down_action_index = actions.index(\"DOWN\")\n",
    "next_state = B[:,:,down_action_index].dot(prev_state) # input the correct indices to the B matrix"
   ]
  },
  {
   "cell_type": "markdown",
   "metadata": {
    "id": "E519ke5jNOIX"
   },
   "source": [
    "### *Solution*"
   ]
  },
  {
   "cell_type": "code",
   "execution_count": 46,
   "metadata": {
    "id": "nXaYlJElNRAO"
   },
   "outputs": [],
   "source": [
    "\"\"\" Generate the next state vector, given the previous state and the B matrix\"\"\"\n",
    "prev_state = next_state.copy()\n",
    "down_action_index = actions.index(\"DOWN\")\n",
    "next_state = B[:,:,down_action_index].dot(prev_state)"
   ]
  },
  {
   "cell_type": "markdown",
   "metadata": {
    "id": "NpuukrAfNTUx"
   },
   "source": [
    "### Plot the new state vector, after making the movement"
   ]
  },
  {
   "cell_type": "code",
   "execution_count": 47,
   "metadata": {
    "id": "7Du4rwQINVvL"
   },
   "outputs": [
    {
     "data": {
      "image/png": "[encoded data removed]",
      "text/plain": [
       "<Figure size 432x288 with 1 Axes>"
      ]
     },
     "metadata": {},
     "output_type": "display_data"
    }
   ],
   "source": [
    "plot_point_on_grid(next_state, grid_locations)"
   ]
  },
  {
   "cell_type": "markdown",
   "metadata": {
    "id": "YkxsKuonRbjX"
   },
   "source": [
    "### Now let's encode the prior over observations -- the $\\mathbf{C}$ vector\n",
    "\n"
   ]
  },
  {
   "cell_type": "code",
   "execution_count": 48,
   "metadata": {
    "id": "glg-sQ3YRc-w"
   },
   "outputs": [],
   "source": [
    "\"\"\" Create an empty vector to store the preferences over observations \"\"\"\n",
    "C = np.zeros(n_observations) "
   ]
  },
  {
   "cell_type": "code",
   "execution_count": 49,
   "metadata": {
    "id": "PsgKhAE1RduU"
   },
   "outputs": [],
   "source": [
    "\"\"\" Choose an observation index to be the 'desired' rewarding index, and fill out the C vector accordingly \"\"\"\n",
    "desired_location = (2,1) \n",
    "desired_location_index =grid_locations.index(desired_location)\n",
    "\n",
    "C[desired_location_index] = 1.0 # set the preference for that location to be 100%, i.e. 1.0"
   ]
  },
  {
   "cell_type": "markdown",
   "metadata": {
    "id": "Hi0XgIjzPrYX"
   },
   "source": [
    "### *Solution*"
   ]
  },
  {
   "cell_type": "code",
   "execution_count": 50,
   "metadata": {
    "id": "3jSjRkyoPt1w"
   },
   "outputs": [],
   "source": [
    "\"\"\" Create an empty vector to store the preferences over observations \"\"\"\n",
    "C = np.zeros(n_observations)"
   ]
  },
  {
   "cell_type": "code",
   "execution_count": 51,
   "metadata": {
    "id": "rM_XGPpVPvMC"
   },
   "outputs": [],
   "source": [
    "\"\"\" Choose an observation index to be the 'desired' rewarding index, and fill out the C vector accordingly \"\"\"\n",
    "desired_location = (2,2) # choose a desired location\n",
    "desired_location_index = grid_locations.index(desired_location) # get the linear index of the grid location, in terms of 0 through 8\n",
    "\n",
    "C[desired_location_index] = 1.0 # set the preference for that location to be 100%, i.e. 1.0"
   ]
  },
  {
   "cell_type": "markdown",
   "metadata": {
    "id": "VEqWhK5hP-Rh"
   },
   "source": [
    "### Let's look at the prior preference distribution"
   ]
  },
  {
   "cell_type": "code",
   "execution_count": 52,
   "metadata": {
    "id": "uYvluDsrRh8S"
   },
   "outputs": [
    {
     "data": {
      "image/png": "[encoded data removed]",
      "text/plain": [
       "<Figure size 432x288 with 1 Axes>"
      ]
     },
     "metadata": {},
     "output_type": "display_data"
    }
   ],
   "source": [
    "plot_beliefs(C, title_str = \"Preferences over observations\")"
   ]
  },
  {
   "cell_type": "markdown",
   "metadata": {
    "id": "syuovouSRmQe"
   },
   "source": [
    "### Now let's encode the prior over initial states -- the $\\mathbf{D}$ vector\n"
   ]
  },
  {
   "cell_type": "code",
   "execution_count": 53,
   "metadata": {
    "id": "hVifIMXYRm0x"
   },
   "outputs": [],
   "source": [
    "\"\"\" Create a D vector, basically a belief that the agent has about its own starting location \"\"\"\n",
    "\n",
    "# create a one-hot / certain belief about initial state\n",
    "D = np.zeros(n_states)\n",
    "starting_location_index=grid_locations.index(starting_location)\n",
    "\n",
    "D[starting_location_index] =1.0"
   ]
  },
  {
   "cell_type": "markdown",
   "metadata": {
    "id": "hBrU3E67QCYB"
   },
   "source": [
    "### *Solution* "
   ]
  },
  {
   "cell_type": "code",
   "execution_count": 54,
   "metadata": {
    "id": "ElcxKHl_QHpv"
   },
   "outputs": [],
   "source": [
    "\"\"\" Create a D vector, basically a belief that the agent has about its own starting location \"\"\"\n",
    "\n",
    "# create a one-hot / certain belief about initial state\n",
    "D = utils.onehot(0, n_states)\n",
    "\n",
    "# demonstrate hwo belief about initial state can also be uncertain / spread among different possible initial states\n",
    "# alternative, where you have a degenerate/noisy prior belief\n",
    "# D = utils.norm_dist(np.ones(n_states))"
   ]
  },
  {
   "cell_type": "markdown",
   "metadata": {
    "id": "zOjGUB6TQFU9"
   },
   "source": [
    "### Let's look at the prior over hidden states"
   ]
  },
  {
   "cell_type": "code",
   "execution_count": 55,
   "metadata": {
    "id": "bRorYSLJRo9e"
   },
   "outputs": [
    {
     "data": {
      "image/png": "[encoded data removed]",
      "text/plain": [
       "<Figure size 432x288 with 1 Axes>"
      ]
     },
     "metadata": {},
     "output_type": "display_data"
    }
   ],
   "source": [
    "plot_beliefs(D, title_str = \"Prior beliefs over states\")"
   ]
  },
  {
   "cell_type": "markdown",
   "metadata": {
    "id": "OT9qqFTqRrvv"
   },
   "source": [
    "## We've finished with the minimial components of any generative model -- now let's move onto hidden state inference via finding the minimum of free energy, given an observation.\n",
    "\n",
    "# $$\n",
    "\\begin{align}\n",
    "q(s_t) = \\sigma\\left(\\ln \\mathbf{A}[o,:] + \\ln\\mathbf{B}[:,:,u] \\cdot q(s_{t-1})\\right)\n",
    "\\end{align}\n",
    "$$\n"
   ]
  },
  {
   "cell_type": "markdown",
   "metadata": {
    "id": "YCtY7o4bpGTq"
   },
   "source": [
    "### Import the `softmax` function and a numerically-stable version of `np.log` from `pymdp.maths`"
   ]
  },
  {
   "cell_type": "code",
   "execution_count": 56,
   "metadata": {
    "id": "UIJgNbv_RsFV"
   },
   "outputs": [],
   "source": [
    "from pymdp.maths import softmax\n",
    "from pymdp.maths import spm_log_single as log_stable"
   ]
  },
  {
   "cell_type": "markdown",
   "metadata": {
    "id": "ugPbd0lXpOED"
   },
   "source": [
    "### Implement the `infer_states()` function"
   ]
  },
  {
   "cell_type": "code",
   "execution_count": null,
   "metadata": {
    "id": "joXPhuq8Qfv0"
   },
   "outputs": [],
   "source": [
    "\"\"\" Create an infer states function that implements the math we just discussed\"\"\"\n",
    "\n",
    "def infer_states(observation_index, A, prior):\n",
    "\n",
    "  \"\"\" Implement inference here -- NOTE: prior is already passed in, so you don't need to do anything with the B matrix. \"\"\"\n",
    "  \"\"\" This function has already been given P(s_t). The conditional expectation that creates \"today's prior\", using \"yesterday's posterior\", will happen *before calling* this function\"\"\"\n",
    "  \n",
    "  # log_likelihood =\n",
    "\n",
    "  # log_prior = \n",
    "\n",
    "  # qs = \n",
    "  return qs"
   ]
  },
  {
   "cell_type": "markdown",
   "metadata": {
    "id": "gu73H44qQXwg"
   },
   "source": [
    "### *Solution*"
   ]
  },
  {
   "cell_type": "code",
   "execution_count": null,
   "metadata": {
    "id": "7gtv82kiQhJF"
   },
   "outputs": [],
   "source": [
    "\"\"\" Create an infer states function that implements the math we just discussed\"\"\"\n",
    "\n",
    "def infer_states(observation_index, A, prior):\n",
    "\n",
    "  \"\"\" Implement inference here -- NOTE: prior is already passed in, so you don't need to do anything with the B matrix. \"\"\"\n",
    "  \"\"\" This function has already been given P(s_t). The conditional expectation that creates \"today's prior\", using \"yesterday's posterior\", will happen *before calling* this function\"\"\"\n",
    "  \n",
    "  log_likelihood = log_stable(A[observation_index,:])\n",
    "\n",
    "  log_prior = log_stable(prior)\n",
    "\n",
    "  qs = softmax(log_likelihood + log_prior)\n",
    "   \n",
    "  return qs"
   ]
  },
  {
   "cell_type": "markdown",
   "metadata": {
    "id": "Al62xDgvQbFy"
   },
   "source": [
    "### Replot the grid locations for quick reference for the next exercise"
   ]
  },
  {
   "cell_type": "code",
   "execution_count": null,
   "metadata": {
    "id": "l4eVHVOLnKye"
   },
   "outputs": [],
   "source": [
    "plot_grid(grid_locations)"
   ]
  },
  {
   "cell_type": "code",
   "execution_count": null,
   "metadata": {
    "id": "YPaAhj-2nv5c"
   },
   "outputs": [],
   "source": [
    "\"\"\" Let's do a simulated round of hidden state inference \"\"\"\n",
    "\n",
    "qs_past = utils.onehot(4, n_states) # agent believes they were at location 4 -- i.e. (1,1) one timestep ago\n",
    "\n",
    "last_action = \"UP\" # the agent knew it moved \"UP\" one timestep ago\n",
    "action_id = actions.index(last_action) # get the action index for moving \"UP\""
   ]
  },
  {
   "cell_type": "markdown",
   "metadata": {
    "id": "V7yvEyGgRhn4"
   },
   "source": [
    "### Get \"today's prior\" using the past posterior and the past action, i.e. calculate:\n",
    "\n",
    "\n",
    "## $$ \\begin{align}\n",
    "\\mathbf{E}_{q(s_{t-1})}\\left[P(s_t | s_{t-1}, u_{t-1})\\right]\n",
    "\\end{align}\n",
    "$$\n",
    "\n"
   ]
  },
  {
   "cell_type": "code",
   "execution_count": null,
   "metadata": {
    "id": "tfFF5giGSD6G"
   },
   "outputs": [],
   "source": [
    "\"\"\" Compute the new prior below \"\"\"\n",
    "# prior = "
   ]
  },
  {
   "cell_type": "markdown",
   "metadata": {
    "id": "rKkZTJHtRUhl"
   },
   "source": [
    "### *Solution*"
   ]
  },
  {
   "cell_type": "code",
   "execution_count": null,
   "metadata": {
    "id": "sbtcFip-SOI6"
   },
   "outputs": [],
   "source": [
    "prior = B[:,:,action_id].dot(qs_past)"
   ]
  },
  {
   "cell_type": "code",
   "execution_count": null,
   "metadata": {
    "id": "G6BQdShX3K2U"
   },
   "outputs": [],
   "source": [
    "prior"
   ]
  },
  {
   "cell_type": "markdown",
   "metadata": {
    "id": "_o0NJVqHSRhL"
   },
   "source": [
    "### ...and choose an observation that is consistent with the new location \n"
   ]
  },
  {
   "cell_type": "code",
   "execution_count": null,
   "metadata": {
    "id": "sHItDM8eSURL"
   },
   "outputs": [],
   "source": [
    "observation_index = 1"
   ]
  },
  {
   "cell_type": "markdown",
   "metadata": {
    "id": "SGwNJDJdRXJ8"
   },
   "source": [
    "### Now run the infer states function, using the observation, the $\\mathbf{A}$ matrix, and the prior we just calculated above"
   ]
  },
  {
   "cell_type": "code",
   "execution_count": null,
   "metadata": {
    "id": "YIDxVmMzmdrQ"
   },
   "outputs": [],
   "source": [
    "\"\"\" Use our `infer_states` function to get the posterior over hidden states \"\"\"\n",
    "qs_new = infer_states(observation_index, A, prior)"
   ]
  },
  {
   "cell_type": "code",
   "execution_count": null,
   "metadata": {
    "id": "hYs2q0wTmnN3"
   },
   "outputs": [],
   "source": [
    "plot_beliefs(qs_new, title_str = \"Beliefs about hidden states\")"
   ]
  },
  {
   "cell_type": "code",
   "execution_count": null,
   "metadata": {
    "id": "p4GHVhpaoHCL"
   },
   "outputs": [],
   "source": [
    "print(f\"Agent believes that it's in location: {grid_locations[utils.sample(qs_new)]}\")"
   ]
  },
  {
   "cell_type": "markdown",
   "metadata": {
    "id": "Juc77Bs8JwsI"
   },
   "source": [
    "### What happens if observation and the prior \"disagree\" with eachother?"
   ]
  },
  {
   "cell_type": "code",
   "execution_count": null,
   "metadata": {
    "id": "TN0g4BnYKEyF"
   },
   "outputs": [],
   "source": [
    "\"\"\" Get an observation that 'conflicts' with the prior \"\"\"\n",
    "observation_index = 2 # this is like the agent is seeing itself in location (0, 2)\n",
    "qs_new = infer_states(observation_index, A, prior)\n",
    "plot_beliefs(qs_new)"
   ]
  },
  {
   "cell_type": "code",
   "execution_count": null,
   "metadata": {
    "id": "K7htVNGm3Rb4"
   },
   "outputs": [],
   "source": [
    "prior"
   ]
  },
  {
   "cell_type": "markdown",
   "metadata": {
    "id": "DmAiGBsyLjk7"
   },
   "source": [
    "### What happens if likelihood and prior are partially ambiguous?"
   ]
  },
  {
   "cell_type": "code",
   "execution_count": null,
   "metadata": {
    "id": "5JFCey-ShsQg"
   },
   "outputs": [],
   "source": [
    "\"\"\" Create an ambiguous A matrix \"\"\"\n",
    "A_partially_ambiguous = softmax(A)\n",
    "print(A_partially_ambiguous.round(3))"
   ]
  },
  {
   "cell_type": "code",
   "execution_count": null,
   "metadata": {
    "id": "4uxGju2V3WJy"
   },
   "outputs": [],
   "source": [
    "noisy_prior,prior"
   ]
  },
  {
   "cell_type": "code",
   "execution_count": null,
   "metadata": {
    "id": "w_altXG0hyYV"
   },
   "outputs": [],
   "source": [
    "\"\"\" ... and a noisy prior \"\"\"\n",
    "noisy_prior = softmax(prior) \n",
    "plot_beliefs(noisy_prior)"
   ]
  },
  {
   "cell_type": "code",
   "execution_count": null,
   "metadata": {
    "id": "v2tpfddELr_t"
   },
   "outputs": [],
   "source": [
    "\"\"\" Do inference with the new, partially-ambiguous A matrix and the noised-up prior \"\"\"\n",
    "qs_new = infer_states(observation_index, A_partially_ambiguous, noisy_prior)\n",
    "plot_beliefs(qs_new)"
   ]
  },
  {
   "cell_type": "markdown",
   "metadata": {
    "id": "zePg4oheSei7"
   },
   "source": [
    "\n",
    "---\n",
    "\n",
    "##Break for questions and possibly start the EFE section / Part II, depending on time...\n",
    "\n",
    "\n",
    "---\n",
    "\n"
   ]
  },
  {
   "cell_type": "markdown",
   "metadata": {
    "id": "pN1-wqky3yRH"
   },
   "source": [
    "## **NOTE**: If you're runtime was interrupted or you're starting the notebook fresh, you can reload all required packages and variables we've defined up until now by running the (collapsed) code blocks below"
   ]
  },
  {
   "cell_type": "code",
   "execution_count": 1,
   "metadata": {
    "id": "YFnI9oyt4Gpr"
   },
   "outputs": [],
   "source": [
    "import numpy as np\n",
    "import matplotlib.pyplot as plt\n",
    "import seaborn as sns"
   ]
  },
  {
   "cell_type": "code",
   "execution_count": 2,
   "metadata": {
    "id": "Mf1vFwtK6jzZ"
   },
   "outputs": [],
   "source": [
    "from pymdp import utils"
   ]
  },
  {
   "cell_type": "code",
   "execution_count": 3,
   "metadata": {
    "id": "pf0eveRr4Gpr"
   },
   "outputs": [],
   "source": [
    "def plot_likelihood(matrix, xlabels = list(range(9)), ylabels = list(range(9)), title_str = \"Likelihood distribution (A)\"):\n",
    "    \"\"\"\n",
    "    Plots a 2-D likelihood matrix as a heatmap\n",
    "    \"\"\"\n",
    "\n",
    "    if not np.isclose(matrix.sum(axis=0), 1.0).all():\n",
    "      raise ValueError(\"Distribution not column-normalized! Please normalize (ensure matrix.sum(axis=0) == 1.0 for all columns)\")\n",
    "    \n",
    "    fig = plt.figure(figsize = (6,6))\n",
    "    ax = sns.heatmap(matrix, xticklabels = xlabels, yticklabels = ylabels, cmap = 'gray', cbar = False, vmin = 0.0, vmax = 1.0)\n",
    "    plt.title(title_str)\n",
    "    plt.show()\n",
    "\n",
    "def plot_grid(grid_locations, num_x = 3, num_y = 3 ):\n",
    "    \"\"\"\n",
    "    Plots the spatial coordinates of GridWorld as a heatmap, with each (X, Y) coordinate \n",
    "    labeled with its linear index (its `state id`)\n",
    "    \"\"\"\n",
    "\n",
    "    grid_heatmap = np.zeros((num_x, num_y))\n",
    "    for linear_idx, location in enumerate(grid_locations):\n",
    "      y, x = location\n",
    "      grid_heatmap[y, x] = linear_idx\n",
    "    sns.set(font_scale=1.5)\n",
    "    sns.heatmap(grid_heatmap, annot=True, cbar = False, fmt='.0f', cmap='crest')\n",
    "\n",
    "def plot_point_on_grid(state_vector, grid_locations):\n",
    "    \"\"\"\n",
    "    Plots the current location of the agent on the grid world\n",
    "    \"\"\"\n",
    "    state_index = np.where(state_vector)[0][0]\n",
    "    y, x = grid_locations[state_index]\n",
    "    grid_heatmap = np.zeros((3,3))\n",
    "    grid_heatmap[y,x] = 1.0\n",
    "    sns.heatmap(grid_heatmap, cbar = False, fmt='.0f')\n",
    "\n",
    "def plot_beliefs(belief_dist, title_str=\"\"):\n",
    "    \"\"\"\n",
    "    Plot a categorical distribution or belief distribution, stored in the 1-D numpy vector `belief_dist`\n",
    "    \"\"\"\n",
    "\n",
    "    if not np.isclose(belief_dist.sum(), 1.0):\n",
    "      raise ValueError(\"Distribution not normalized! Please normalize\")\n",
    "\n",
    "    plt.grid(zorder=0)\n",
    "    plt.bar(range(belief_dist.shape[0]), belief_dist, color='r', zorder=3)\n",
    "    plt.xticks(range(belief_dist.shape[0]))\n",
    "    plt.title(title_str)\n",
    "    plt.show()\n"
   ]
  },
  {
   "cell_type": "code",
   "execution_count": 4,
   "metadata": {
    "id": "OPUbO3gr4U8L"
   },
   "outputs": [],
   "source": [
    "import itertools\n",
    "\n",
    "\"\"\" Create  the grid locations in the form of a list of (Y, X) tuples -- HINT: use itertools \"\"\"\n",
    "grid_locations = list(itertools.product(range(3), repeat = 2))"
   ]
  },
  {
   "cell_type": "code",
   "execution_count": 5,
   "metadata": {
    "id": "CH770G1R4jL5"
   },
   "outputs": [],
   "source": [
    "n_states = len(grid_locations)\n",
    "n_observations = len(grid_locations)\n",
    "A = np.eye(n_observations, n_states)"
   ]
  },
  {
   "cell_type": "code",
   "execution_count": 6,
   "metadata": {
    "id": "hRElAssQ4cof"
   },
   "outputs": [],
   "source": [
    "actions = [\"UP\", \"DOWN\", \"LEFT\", \"RIGHT\", \"STAY\"]\n",
    "\n",
    "def create_B_matrix():\n",
    "  B = np.zeros( (len(grid_locations), len(grid_locations), len(actions)) )\n",
    "\n",
    "  for action_id, action_label in enumerate(actions):\n",
    "\n",
    "    for curr_state, grid_location in enumerate(grid_locations):\n",
    "\n",
    "      y, x = grid_location\n",
    "\n",
    "      if action_label == \"UP\":\n",
    "        next_y = y - 1 if y > 0 else y \n",
    "        next_x = x\n",
    "      elif action_label == \"DOWN\":\n",
    "        next_y = y + 1 if y < 2 else y \n",
    "        next_x = x\n",
    "      elif action_label == \"LEFT\":\n",
    "        next_x = x - 1 if x > 0 else x \n",
    "        next_y = y\n",
    "      elif action_label == \"RIGHT\":\n",
    "        next_x = x + 1 if x < 2 else x \n",
    "        next_y = y\n",
    "      elif action_label == \"STAY\":\n",
    "        next_x = x\n",
    "        next_y = y\n",
    "      new_location = (next_y, next_x)\n",
    "      next_state = grid_locations.index(new_location)\n",
    "      B[next_state, curr_state, action_id] = 1.0\n",
    "  return B\n",
    "\n",
    "B = create_B_matrix()"
   ]
  },
  {
   "cell_type": "code",
   "execution_count": 7,
   "metadata": {
    "id": "3dAR4jkV4zuH"
   },
   "outputs": [],
   "source": [
    "from pymdp.maths import softmax\n",
    "from pymdp.maths import spm_log_single as log_stable\n",
    "\n",
    "def infer_states(observation_index, A, prior):\n",
    "\n",
    "  log_likelihood = log_stable(A[observation_index,:])\n",
    "\n",
    "  log_prior = log_stable(prior)\n",
    "\n",
    "  qs = softmax(log_likelihood + log_prior)\n",
    "   \n",
    "  return qs"
   ]
  },
  {
   "cell_type": "markdown",
   "metadata": {
    "id": "xec2mpugs4rh"
   },
   "source": [
    "## **Action Selection and the Expected Free Energy** "
   ]
  },
  {
   "cell_type": "markdown",
   "metadata": {
    "id": "n-3cHIUyqtfS"
   },
   "source": [
    "### Write functions to compute the expected states $Q(s_{t+1}|u_t)$, expected observations $Q(o_{t+1}|u_t)$, the entropy of $P(o|s)$: $\\mathbf{H}\\left[\\mathbf{A}\\right]$, and the KL divergence between the expected observations and the prior preferences $\\mathbf{C}$."
   ]
  },
  {
   "cell_type": "code",
   "execution_count": 8,
   "metadata": {
    "id": "hBtftGDwq2VO"
   },
   "outputs": [],
   "source": [
    "\"\"\" define component functions for computing expected free energy \"\"\"\n",
    "\n",
    "def get_expected_states(B, qs_current, action):\n",
    "  \"\"\" Compute the expected states one step into the future, given a particular action \"\"\"\n",
    "  qs_u = B[:,:,action].dot(qs_current)\n",
    "\n",
    "  return qs_u\n",
    "\n",
    "def get_expected_observations(A, qs_u):\n",
    "  \"\"\" Compute the expected observations one step into the future, given a particular action \"\"\"\n",
    "\n",
    "  qo_u = A.dot(qs_u)\n",
    "\n",
    "  return qo_u\n",
    "\n",
    "def entropy(A):\n",
    "  \"\"\" Compute the entropy of a set of condition distributions, i.e. one entropy value per column \"\"\"\n",
    "\n",
    "  H_A = - (A * log_stable(A)).sum(axis=0)\n",
    "\n",
    "  return H_A\n",
    "\n",
    "def kl_divergence(qo_u, C):\n",
    "  \"\"\" Compute the Kullback-Leibler divergence between two 1-D categorical distributions\"\"\"\n",
    "  \n",
    "  return (log_stable(qo_u) - log_stable(C)).dot(qo_u)"
   ]
  },
  {
   "cell_type": "markdown",
   "metadata": {
    "id": "oUoKd1s6PZbT"
   },
   "source": [
    "### Now let's imagine we're in some starting state, like (1,1)\n",
    "#### N.B. This is the generative process we're talking about -- i.e. the true state of the world"
   ]
  },
  {
   "cell_type": "code",
   "execution_count": 9,
   "metadata": {
    "id": "H2hh-d6HNQ-R"
   },
   "outputs": [
    {
     "data": {
      "image/png": "[encoded data removed]",
      "text/plain": [
       "<Figure size 432x288 with 1 Axes>"
      ]
     },
     "metadata": {
      "needs_background": "light"
     },
     "output_type": "display_data"
    }
   ],
   "source": [
    "\"\"\" Get state index, create state vector for (1,1) \"\"\"\n",
    "\n",
    "state_idx = grid_locations.index((1,1))\n",
    "state_vector = utils.onehot(state_idx, n_states)\n",
    "plot_point_on_grid(state_vector, grid_locations)"
   ]
  },
  {
   "cell_type": "markdown",
   "metadata": {
    "id": "VOLwt7CgUW61"
   },
   "source": [
    "### And let's furthermore assume we start with the (accurate) belief about our location, that we are in location (1,1). So let's just make our current $Q(s_t)$ equal to the true state vector. You could think of this as if we just did one 'step' of inference using our current observation along with precise `A`/`B` matrices."
   ]
  },
  {
   "cell_type": "code",
   "execution_count": 10,
   "metadata": {
    "id": "Pv9UFpcuUY5F"
   },
   "outputs": [
    {
     "data": {
      "image/png": "[encoded data removed]",
      "text/plain": [
       "<Figure size 432x288 with 1 Axes>"
      ]
     },
     "metadata": {
      "needs_background": "light"
     },
     "output_type": "display_data"
    }
   ],
   "source": [
    "\"\"\" Make qs_current identical to the true starting state \"\"\" \n",
    "qs_current = state_vector.copy()\n",
    "plot_beliefs(qs_current, title_str =\"Where do we believe we are?\")"
   ]
  },
  {
   "cell_type": "markdown",
   "metadata": {
    "id": "jBXAqRmNPv07"
   },
   "source": [
    "### And we prefer to be in state (1,2). So we express that as high probability over the corresponding entry of the $\\mathbf{C}$ vector -- that happens to be index 5."
   ]
  },
  {
   "cell_type": "code",
   "execution_count": 11,
   "metadata": {
    "id": "Ya77s9O9WlMs"
   },
   "outputs": [
    {
     "data": {
      "image/png": "[encoded data removed]",
      "text/plain": [
       "<Figure size 432x288 with 1 Axes>"
      ]
     },
     "metadata": {},
     "output_type": "display_data"
    }
   ],
   "source": [
    "plot_grid(grid_locations)"
   ]
  },
  {
   "cell_type": "code",
   "execution_count": 12,
   "metadata": {
    "id": "IMD0HkBCPsXL"
   },
   "outputs": [
    {
     "data": {
      "image/png": "[encoded data removed]",
      "text/plain": [
       "<Figure size 432x288 with 1 Axes>"
      ]
     },
     "metadata": {},
     "output_type": "display_data"
    }
   ],
   "source": [
    "\"\"\" Create a preference to be in (1,2) \"\"\"\n",
    "\n",
    "desired_idx = grid_locations.index((1,2))\n",
    "\n",
    "C = utils.onehot(desired_idx, n_observations)\n",
    "\n",
    "plot_beliefs(C, title_str = \"Preferences\")"
   ]
  },
  {
   "cell_type": "markdown",
   "metadata": {
    "id": "JPg-sC00QCLI"
   },
   "source": [
    "### Now to keep things simple, let's evaluate the expected free energies $\\mathbf{G}$ of just two actions that we could take from our current position -- either moving LEFT or moving RIGHT. Let's remind ourselves of what action indices those are"
   ]
  },
  {
   "cell_type": "code",
   "execution_count": 13,
   "metadata": {
    "id": "ggCUDAf4QUQg"
   },
   "outputs": [
    {
     "name": "stdout",
     "output_type": "stream",
     "text": [
      "Action index of moving left: 2\n",
      "Action index of moving right: 3\n"
     ]
    }
   ],
   "source": [
    "left_idx = actions.index(\"LEFT\")\n",
    "right_idx = actions.index(\"RIGHT\")\n",
    "\n",
    "print(f'Action index of moving left: {left_idx}')\n",
    "print(f'Action index of moving right: {right_idx}')"
   ]
  },
  {
   "cell_type": "markdown",
   "metadata": {
    "id": "w3G4KPVyQhoF"
   },
   "source": [
    "### And now let's use the functions we've just defined, in combination with our `A`, `B`, `C` arrays and our current posterior `qa_current`, to compute the expected free energies for the two actions"
   ]
  },
  {
   "cell_type": "code",
   "execution_count": 14,
   "metadata": {
    "id": "Bhfr5WAKQmzU"
   },
   "outputs": [
    {
     "data": {
      "text/plain": [
       "'\\nCompute G for MOVE RIGHT here \\n'"
      ]
     },
     "execution_count": 14,
     "metadata": {},
     "output_type": "execute_result"
    }
   ],
   "source": [
    "\"\"\" Compute the expected free energies for moving left vs. moving right \"\"\"\n",
    "G = np.zeros(2) # store the expected free energies for each action in here\n",
    "\n",
    "\"\"\"\n",
    "Compute G for MOVE LEFT here \n",
    "\"\"\"\n",
    "#1. compute expected states, under the moce left action\n",
    "\n",
    "qs_u=get_expected_states(B,qs_current,left_idx)\n",
    "\n",
    "#2. entropy of A-matrix\n",
    "\n",
    "H_A=entropy(A)\n",
    "\n",
    "predicted_uncertainty_left = H_A.dot(qs_u) \n",
    "#3. compute expected observations\n",
    "qo_u=get_expected_observations(A,qs_u)\n",
    "\n",
    "# 4. compute KLD betweem qo_u and C\n",
    "\n",
    "predicted_divergence_left = kl_divergence(qo_u,C)\n",
    "G[0] = predicted_uncertainty_left + predicted_divergence_left\n",
    "\n",
    "\"\"\"\n",
    "Compute G for MOVE RIGHT here \n",
    "\"\"\"\n",
    "# predicted_uncertainty_right = \n",
    "# predicted_divergence_right = \n",
    "# G[1] = predicted_uncertainty_right + predicted_divergence_right"
   ]
  },
  {
   "cell_type": "markdown",
   "metadata": {
    "id": "_FXn27owS96w"
   },
   "source": [
    "### *Solution*"
   ]
  },
  {
   "cell_type": "code",
   "execution_count": 15,
   "metadata": {
    "id": "FNeEYmIETAZh"
   },
   "outputs": [],
   "source": [
    "\"\"\" Compute the expected free energies for moving left vs. moving right \"\"\"\n",
    "G = np.zeros(2) # store the expected free energies for each action in here\n",
    "\n",
    "\"\"\"\n",
    "Compute G for MOVE LEFT here \n",
    "\"\"\"\n",
    "\n",
    "qs_u_left = get_expected_states(B, qs_current, left_idx)\n",
    "# alternative\n",
    "# qs_u_left = B[:,:,left_idx].dot(qs_current)\n",
    "\n",
    "H_A = entropy(A)\n",
    "qo_u_left = get_expected_observations(A, qs_u_left)\n",
    "# alternative\n",
    "# qo_u_left = A.dot(qs_u_left)\n",
    "\n",
    "predicted_uncertainty_left = H_A.dot(qs_u_left)\n",
    "predicted_divergence_left = kl_divergence(qo_u_left, C)\n",
    "G[0] = predicted_uncertainty_left + predicted_divergence_left\n",
    "\n",
    "\"\"\"\n",
    "Compute G for MOVE RIGHT here \n",
    "\"\"\"\n",
    "\n",
    "qs_u_right = get_expected_states(B, qs_current, right_idx)\n",
    "# alternative\n",
    "# qs_u_right = B[:,:,right_idx].dot(qs_current)\n",
    "\n",
    "H_A = entropy(A)\n",
    "qo_u_right = get_expected_observations(A, qs_u_right)\n",
    "# alternative\n",
    "# qo_u_right = A.dot(qs_u_right)\n",
    "\n",
    "predicted_uncertainty_right = H_A.dot(qs_u_right)\n",
    "predicted_divergence_right = kl_divergence(qo_u_right, C)\n",
    "G[1] = predicted_uncertainty_right + predicted_divergence_right"
   ]
  },
  {
   "cell_type": "markdown",
   "metadata": {
    "id": "Wdtn4uCQToN2"
   },
   "source": [
    "### Now print the expected free energies for the two actions, that we just calculated"
   ]
  },
  {
   "cell_type": "code",
   "execution_count": 16,
   "metadata": {
    "id": "O-q0NytfRp8r"
   },
   "outputs": [
    {
     "name": "stdout",
     "output_type": "stream",
     "text": [
      "Expected free energy of moving left: 36.841361487904734\n",
      "\n",
      "Expected free energy of moving right: 0.0\n",
      "\n"
     ]
    }
   ],
   "source": [
    "print(f'Expected free energy of moving left: {G[0]}\\n')\n",
    "print(f'Expected free energy of moving right: {G[1]}\\n')"
   ]
  },
  {
   "cell_type": "markdown",
   "metadata": {
    "id": "w8JbcjuMR5FU"
   },
   "source": [
    "### Now let's use formula for the posterior over actions, i.e. \n",
    "\n",
    "\n",
    "# $$ \\begin{align}\n",
    "Q(u_t) = \\sigma(-\\mathbf{G})\n",
    "\\end{align} $$\n",
    "\n",
    "### to compute the probabilities of each action"
   ]
  },
  {
   "cell_type": "code",
   "execution_count": 17,
   "metadata": {
    "id": "bkqqeOYPSJ_n"
   },
   "outputs": [],
   "source": [
    "\"\"\" Compute the action posterior using the vector of negative expected free energies \"\"\"\n",
    "Q_u = softmax(-G)"
   ]
  },
  {
   "cell_type": "markdown",
   "metadata": {
    "id": "6HAHCc7bT5eC"
   },
   "source": [
    "### *Solution*"
   ]
  },
  {
   "cell_type": "code",
   "execution_count": 18,
   "metadata": {
    "id": "tpY1lva_TwuM"
   },
   "outputs": [],
   "source": [
    "Q_u = softmax(-G)"
   ]
  },
  {
   "cell_type": "markdown",
   "metadata": {
    "id": "ybZhqVnITz6R"
   },
   "source": [
    "### Now print the probability of each action"
   ]
  },
  {
   "cell_type": "code",
   "execution_count": 19,
   "metadata": {
    "id": "np8nptvzT3Qq"
   },
   "outputs": [
    {
     "name": "stdout",
     "output_type": "stream",
     "text": [
      "Probability of moving left: 9.999999999999965e-17\n",
      "Probability of moving right: 1.0\n"
     ]
    }
   ],
   "source": [
    "print(f'Probability of moving left: {Q_u[0]}')\n",
    "print(f'Probability of moving right: {Q_u[1]}')"
   ]
  },
  {
   "cell_type": "markdown",
   "metadata": {
    "id": "iLk1LqB9X3fC"
   },
   "source": [
    "## For usefulness later on, let's wrap the expected free energy calculations into a function"
   ]
  },
  {
   "cell_type": "code",
   "execution_count": 20,
   "metadata": {
    "id": "tkdwjTLPX2ti"
   },
   "outputs": [],
   "source": [
    "\"\"\" Write the expected free energy function, that loops over actions and computes their expected free energies, returning a vector of expected free energies \"\"\"\n",
    "\n",
    "def calculate_G(A, B, C, qs_current, actions):\n",
    "\n",
    "  G = np.zeros(len(actions))\n",
    "\n",
    "  for action_i in range(len(actions)):\n",
    "    \"\"\" Fill this out \"\"\"\n",
    "    \"\"\"\n",
    "    \"\"\"\n",
    "    # G[action_i] = \n",
    "  \n",
    "\n",
    "  return G"
   ]
  },
  {
   "cell_type": "markdown",
   "metadata": {
    "id": "N92RX3OxUB4P"
   },
   "source": [
    "### *Solution*"
   ]
  },
  {
   "cell_type": "code",
   "execution_count": 21,
   "metadata": {
    "id": "dwBJxv1bUEOK"
   },
   "outputs": [],
   "source": [
    "\"\"\" Write the expected free energy function, that loops over actions and computes their expected free energies, returning a vector of expected free energies \"\"\"\n",
    "\n",
    "def calculate_G(A, B, C, qs_current, actions):\n",
    "\n",
    "  G = np.zeros(len(actions))\n",
    "\n",
    "  H_A = entropy(A)\n",
    "\n",
    "  for action_i in range(len(actions)):\n",
    "    \"\"\" Fill this out \"\"\"\n",
    "    \n",
    "    qs_u = get_expected_states(B, qs_current, action_i)\n",
    "    qo_u = get_expected_observations(A, qs_u)\n",
    "\n",
    "    pred_uncertainty = H_A.dot(qs_u)\n",
    "    pred_div = kl_divergence(qo_u, C)\n",
    "\n",
    "    G[action_i] = pred_uncertainty + pred_div\n",
    "  \n",
    "  return G"
   ]
  },
  {
   "cell_type": "markdown",
   "metadata": {
    "id": "nk1LwDA_fVzF"
   },
   "source": [
    "\n",
    "\n",
    "---\n",
    "\n",
    "## **QUESTION BREAK**\n",
    "\n",
    "---\n",
    "\n"
   ]
  },
  {
   "cell_type": "markdown",
   "metadata": {
    "id": "midF2HSEswHJ"
   },
   "source": [
    "## **Complete Recipe for Active Inference**\n",
    "\n",
    "\n",
    "## 1.   Sample an observation $o_t$ from the current state of the environment\n",
    "## 2.   Perform inference over hidden states i.e., optimize $q(s)$ through free-energy minimization\n",
    "## 3. Calculate expected free energy of actions $\\mathbf{G}$ \n",
    "## 4. Sample action from the posterior over actions $Q(u_t) \\sim \\sigma(-\\mathbf{G})$.\n",
    "## 5. Use the sampled action $a_t$ to perturb the generative process and go back to step 1.\n",
    "\n",
    "\n",
    "\n",
    "\n",
    "\n",
    "\n",
    "\n",
    "\n"
   ]
  },
  {
   "cell_type": "markdown",
   "metadata": {
    "id": "JQ0aKj_wDsr0"
   },
   "source": [
    "---\n",
    "\n",
    "### Next, let's create a class that will represent the Grid World environment (i.e., _generative process_) that our active inference agent will navigate within. Note that we don't need to specify the generative process in terms of `A` and `B` matrices - the generative process will be as arbitrary and complex as the environment is. The `A` and `B` matrices are just the agent's _representation_ of the world and the task, which in this case happen to capture the Markovian, noiseless dynamics of the world perfectly."
   ]
  },
  {
   "cell_type": "code",
   "execution_count": 22,
   "metadata": {
    "id": "az0jx39hsySI"
   },
   "outputs": [
    {
     "name": "stdout",
     "output_type": "stream",
     "text": [
      "Starting state is (0, 0)\n"
     ]
    }
   ],
   "source": [
    "class GridWorldEnv():\n",
    "    \n",
    "    def __init__(self,starting_state = (0,0)):\n",
    "\n",
    "        self.init_state = starting_state\n",
    "        self.current_state = self.init_state\n",
    "        print(f'Starting state is {starting_state}')\n",
    "    \n",
    "    def step(self,action_label):\n",
    "\n",
    "        (Y, X) = self.current_state\n",
    "\n",
    "        if action_label == \"UP\": \n",
    "          \n",
    "          Y_new = Y - 1 if Y > 0 else Y\n",
    "          X_new = X\n",
    "\n",
    "        elif action_label == \"DOWN\": \n",
    "\n",
    "          Y_new = Y + 1 if Y < 2 else Y\n",
    "          X_new = X\n",
    "\n",
    "        elif action_label == \"LEFT\": \n",
    "          Y_new = Y\n",
    "          X_new = X - 1 if X > 0 else X\n",
    "\n",
    "        elif action_label == \"RIGHT\": \n",
    "          Y_new = Y\n",
    "          X_new = X +1 if X < 2 else X\n",
    "\n",
    "        elif action_label == \"STAY\":\n",
    "          Y_new, X_new = Y, X \n",
    "        \n",
    "        self.current_state = (Y_new, X_new) # store the new grid location\n",
    "\n",
    "        obs = self.current_state # agent always directly observes the grid location they're in \n",
    "\n",
    "        return obs\n",
    "\n",
    "    def reset(self):\n",
    "        self.current_state = self.init_state\n",
    "        print(f'Re-initialized location to {self.init_state}')\n",
    "        obs = self.current_state\n",
    "        print(f'..and sampled observation {obs}')\n",
    "\n",
    "        return obs\n",
    "    \n",
    "env = GridWorldEnv()"
   ]
  },
  {
   "cell_type": "markdown",
   "metadata": {
    "id": "N9dSgKgkNXWp"
   },
   "source": [
    "## Now equipped with an environment and a generative model (our `A`, `B`, `C`, and `D`), we can code up the entire active inference loop\n",
    "\n",
    "\n",
    "---\n",
    "\n",
    "\n",
    "## To have everything in one place, let's re-create the whole generative model\n"
   ]
  },
  {
   "cell_type": "code",
   "execution_count": 23,
   "metadata": {
    "id": "ML3UMFXlNNXA"
   },
   "outputs": [],
   "source": [
    "\"\"\" Fill out the components of the generative model \"\"\"\n",
    "\n",
    "A = np.eye(n_observations, n_states)\n",
    "\n",
    "B = create_B_matrix()\n",
    "\n",
    "C = utils.onehot(grid_locations.index( (2, 2) ), n_observations) # make the agent prefer location (2,2) (lower right corner of grid world)\n",
    "\n",
    "D = utils.onehot(grid_locations.index( (0,0) ), n_states) # start the agent with the prior belief that it starts in location (1,2) \n",
    "\n",
    "actions = [\"UP\", \"DOWN\", \"LEFT\", \"RIGHT\", \"STAY\"]"
   ]
  },
  {
   "cell_type": "markdown",
   "metadata": {
    "id": "S_cDKHlJQpxl"
   },
   "source": [
    "## Now let's initialize the environment with starting state `(1,2)`, so that the agent has accurate beliefs about where it's starting."
   ]
  },
  {
   "cell_type": "code",
   "execution_count": 24,
   "metadata": {
    "id": "wLq3n2bDQwRh"
   },
   "outputs": [
    {
     "name": "stdout",
     "output_type": "stream",
     "text": [
      "Starting state is (0, 0)\n"
     ]
    }
   ],
   "source": [
    "env = GridWorldEnv(starting_state = (0,0))"
   ]
  },
  {
   "cell_type": "markdown",
   "metadata": {
    "id": "bYSh6_UPRKuS"
   },
   "source": [
    "## Now write a function that runs the whole active inference loop. Run it for `T = 5` timesteps."
   ]
  },
  {
   "cell_type": "code",
   "execution_count": 25,
   "metadata": {
    "id": "AhC96iFoRENl"
   },
   "outputs": [],
   "source": [
    "\"\"\" Write a function that, when called, runs the entire active inference loop for a desired number of timesteps\"\"\"\n",
    "\n",
    "def run_active_inference_loop(A, B, C, D, actions, env, T = 5):\n",
    "\n",
    "  \"\"\" Initialize the prior that will be passed in during inference to be the same as `D` \"\"\"\n",
    "\n",
    "  \"\"\" Initialize the observation that will be passed in during inference - HINT: use env.reset()\"\"\"\n",
    "\n",
    "  for t in range(T):\n",
    "\n",
    "    \"\"\" Fill this out \"\"\"\n",
    "\n",
    "  return qs_current # return the final belief, after temporal loop has ended"
   ]
  },
  {
   "cell_type": "markdown",
   "metadata": {
    "id": "3fJN2_BSUqBc"
   },
   "source": [
    "### *Solution*"
   ]
  },
  {
   "cell_type": "code",
   "execution_count": 26,
   "metadata": {
    "id": "i7G_aqbAUsEJ"
   },
   "outputs": [],
   "source": [
    "\"\"\" Write a function that, when called, runs the entire active inference loop for a desired number of timesteps\"\"\"\n",
    "\n",
    "def run_active_inference_loop(A, B, C, D, actions, env, T = 5):\n",
    "\n",
    "  \"\"\" Initialize the prior that will be passed in during inference to be the same as `D` \"\"\"\n",
    "  prior = D.copy() # initial prior should be the D vector\n",
    "\n",
    "  \"\"\" Initialize the observation that will be passed in during inference - hint use env.reset()\"\"\"\n",
    "  obs = env.reset() # initialize the `obs` variable to be the first observation you sample from the environment, before `step`-ing it.\n",
    "\n",
    "  for t in range(T):\n",
    "\n",
    "    print(f'Time {t}: Agent observes itself in location: {obs}')\n",
    "\n",
    "    # convert the observation into the agent's observational state space (in terms of 0 through 8)\n",
    "    obs_idx = grid_locations.index(obs)\n",
    "\n",
    "    # perform inference over hidden states\n",
    "    qs_current = infer_states(obs_idx, A, prior)\n",
    "\n",
    "    plot_beliefs(qs_current, title_str = f\"Beliefs about location at time {t}\")\n",
    "\n",
    "    # calculate expected free energy of actions\n",
    "    G = calculate_G(A, B, C, qs_current, actions)\n",
    "    \n",
    "    # compute action posterior\n",
    "    Q_u = softmax(-G)\n",
    "\n",
    "    # sample action from probability distribution over actions\n",
    "    chosen_action = utils.sample(Q_u)\n",
    "\n",
    "    # compute prior for next timestep of inference\n",
    "    prior = B[:,:,chosen_action].dot(qs_current) \n",
    "\n",
    "    # update generative process\n",
    "    action_label = actions[chosen_action]\n",
    "\n",
    "    obs = env.step(action_label)\n",
    "  \n",
    "  return qs_current\n"
   ]
  },
  {
   "cell_type": "markdown",
   "metadata": {
    "id": "pbT8nijrtLPW"
   },
   "source": [
    "### Now run the full active inference loop using the function you just wrote!"
   ]
  },
  {
   "cell_type": "code",
   "execution_count": 27,
   "metadata": {
    "id": "W0n6WhyIu3Ot"
   },
   "outputs": [
    {
     "name": "stdout",
     "output_type": "stream",
     "text": [
      "Re-initialized location to (0, 0)\n",
      "..and sampled observation (0, 0)\n",
      "Time 0: Agent observes itself in location: (0, 0)\n"
     ]
    },
    {
     "data": {
      "image/png": "[encoded data removed]",
      "text/plain": [
       "<Figure size 432x288 with 1 Axes>"
      ]
     },
     "metadata": {},
     "output_type": "display_data"
    },
    {
     "name": "stdout",
     "output_type": "stream",
     "text": [
      "Time 1: Agent observes itself in location: (0, 0)\n"
     ]
    },
    {
     "data": {
      "image/png": "[encoded data removed]",
      "text/plain": [
       "<Figure size 432x288 with 1 Axes>"
      ]
     },
     "metadata": {},
     "output_type": "display_data"
    },
    {
     "name": "stdout",
     "output_type": "stream",
     "text": [
      "Time 2: Agent observes itself in location: (0, 0)\n"
     ]
    },
    {
     "data": {
      "image/png": "[encoded data removed]",
      "text/plain": [
       "<Figure size 432x288 with 1 Axes>"
      ]
     },
     "metadata": {},
     "output_type": "display_data"
    },
    {
     "name": "stdout",
     "output_type": "stream",
     "text": [
      "Time 3: Agent observes itself in location: (0, 0)\n"
     ]
    },
    {
     "data": {
      "image/png": "[encoded data removed]",
      "text/plain": [
       "<Figure size 432x288 with 1 Axes>"
      ]
     },
     "metadata": {},
     "output_type": "display_data"
    },
    {
     "name": "stdout",
     "output_type": "stream",
     "text": [
      "Time 4: Agent observes itself in location: (0, 0)\n"
     ]
    },
    {
     "data": {
      "image/png": "[encoded data removed]",
      "text/plain": [
       "<Figure size 432x288 with 1 Axes>"
      ]
     },
     "metadata": {},
     "output_type": "display_data"
    }
   ],
   "source": [
    "qs = run_active_inference_loop(A, B, C, D, actions, env, T = 5)"
   ]
  },
  {
   "cell_type": "markdown",
   "metadata": {
    "id": "2yPtKG0rUczW"
   },
   "source": [
    "\n",
    "---\n",
    "\n",
    "## EXTRA MATERIAL ON PLANNING.... TBD IF WE'LL HAVE ENOUGH TIME TO DO IT\n",
    "\n",
    "\n",
    "---\n",
    "\n"
   ]
  },
  {
   "cell_type": "markdown",
   "metadata": {
    "id": "W9V2E_DwWhBl"
   },
   "source": [
    "## But there's a problem. Imagine we started the agent at the top left corner (coordinate `(0,0)`) rather than one step away from the target location"
   ]
  },
  {
   "cell_type": "code",
   "execution_count": 28,
   "metadata": {
    "id": "2w4TX0q2WcFl"
   },
   "outputs": [
    {
     "name": "stdout",
     "output_type": "stream",
     "text": [
      "Starting state is (0, 0)\n",
      "Re-initialized location to (0, 0)\n",
      "..and sampled observation (0, 0)\n",
      "Time 0: Agent observes itself in location: (0, 0)\n"
     ]
    },
    {
     "data": {
      "image/png": "[encoded data removed]",
      "text/plain": [
       "<Figure size 432x288 with 1 Axes>"
      ]
     },
     "metadata": {},
     "output_type": "display_data"
    },
    {
     "name": "stdout",
     "output_type": "stream",
     "text": [
      "Time 1: Agent observes itself in location: (0, 0)\n"
     ]
    },
    {
     "data": {
      "image/png": "[encoded data removed]",
      "text/plain": [
       "<Figure size 432x288 with 1 Axes>"
      ]
     },
     "metadata": {},
     "output_type": "display_data"
    },
    {
     "name": "stdout",
     "output_type": "stream",
     "text": [
      "Time 2: Agent observes itself in location: (1, 0)\n"
     ]
    },
    {
     "data": {
      "image/png": "[encoded data removed]",
      "text/plain": [
       "<Figure size 432x288 with 1 Axes>"
      ]
     },
     "metadata": {},
     "output_type": "display_data"
    },
    {
     "name": "stdout",
     "output_type": "stream",
     "text": [
      "Time 3: Agent observes itself in location: (2, 0)\n"
     ]
    },
    {
     "data": {
      "image/png": "[encoded data removed]",
      "text/plain": [
       "<Figure size 432x288 with 1 Axes>"
      ]
     },
     "metadata": {},
     "output_type": "display_data"
    },
    {
     "name": "stdout",
     "output_type": "stream",
     "text": [
      "Time 4: Agent observes itself in location: (2, 0)\n"
     ]
    },
    {
     "data": {
      "image/png": "[encoded data removed]",
      "text/plain": [
       "<Figure size 432x288 with 1 Axes>"
      ]
     },
     "metadata": {},
     "output_type": "display_data"
    }
   ],
   "source": [
    "D = utils.onehot(grid_locations.index((0,0)), n_states) # let's have the agent believe it starts in location (0,0)\n",
    "\n",
    "env = GridWorldEnv(starting_state = (0,0))\n",
    "qs = run_active_inference_loop(A, B, C, D, actions, env, T = 5)"
   ]
  },
  {
   "cell_type": "markdown",
   "metadata": {
    "id": "r0sC3oyIW_f7"
   },
   "source": [
    "## Because the expected free energy of each action is only evaluated for one timestep in the future, the agent has no way of knowing which action to initially take, to get closer to its final \"goal\" of `(2,2)`. This is because the expected divergence term for all actions $\\operatorname{D}_{KL}(Q(o|u) \\parallel \\mathbf{C})$ is identical for all considered actions (which are just 1-step moves away from starting from `(0,0)` ). This speaks to the importance of planning, or _multiple timestep policies_. \n",
    "\n",
    "---\n",
    "\n",
    "\n",
    "## Back to the slides...\n"
   ]
  },
  {
   "cell_type": "markdown",
   "metadata": {
    "id": "SQoxPD7g3VtT"
   },
   "source": [
    "### Now let's do active inference with multi-step policies\n",
    "\n",
    "#### We can rely on a useful function from `pymdp`'s `control` module called `construct_policies()` to automatically generate a list of all the policies we want to entertain, for a given number of control states (actions) and a desired temporal horizon. "
   ]
  },
  {
   "cell_type": "code",
   "execution_count": 29,
   "metadata": {
    "id": "DPuFHY1kW4K2"
   },
   "outputs": [],
   "source": [
    "from pymdp.control import construct_policies"
   ]
  },
  {
   "cell_type": "code",
   "execution_count": 30,
   "metadata": {
    "id": "EsL5zFC93oCC"
   },
   "outputs": [
    {
     "name": "stdout",
     "output_type": "stream",
     "text": [
      "Total number of policies for 5 possible actions and a planning horizon of 4: 625\n"
     ]
    }
   ],
   "source": [
    "policy_len = 4\n",
    "n_actions = len(actions)\n",
    "\n",
    "# we have to wrap `n_states` and `n_actions` in a list for reasons that will become clear in Part II\n",
    "all_policies = construct_policies([n_states], [n_actions], policy_len = policy_len)\n",
    "\n",
    "print(f'Total number of policies for {n_actions} possible actions and a planning horizon of {policy_len}: {len(all_policies)}')"
   ]
  },
  {
   "cell_type": "code",
   "execution_count": 39,
   "metadata": {},
   "outputs": [
    {
     "data": {
      "text/plain": [
       "[array([[0],\n",
       "        [0],\n",
       "        [0],\n",
       "        [0]]),\n",
       " array([[0],\n",
       "        [0],\n",
       "        [0],\n",
       "        [1]]),\n",
       " array([[0],\n",
       "        [0],\n",
       "        [0],\n",
       "        [2]]),\n",
       " array([[0],\n",
       "        [0],\n",
       "        [0],\n",
       "        [3]]),\n",
       " array([[0],\n",
       "        [0],\n",
       "        [0],\n",
       "        [4]]),\n",
       " array([[0],\n",
       "        [0],\n",
       "        [1],\n",
       "        [0]]),\n",
       " array([[0],\n",
       "        [0],\n",
       "        [1],\n",
       "        [1]]),\n",
       " array([[0],\n",
       "        [0],\n",
       "        [1],\n",
       "        [2]]),\n",
       " array([[0],\n",
       "        [0],\n",
       "        [1],\n",
       "        [3]]),\n",
       " array([[0],\n",
       "        [0],\n",
       "        [1],\n",
       "        [4]]),\n",
       " array([[0],\n",
       "        [0],\n",
       "        [2],\n",
       "        [0]]),\n",
       " array([[0],\n",
       "        [0],\n",
       "        [2],\n",
       "        [1]]),\n",
       " array([[0],\n",
       "        [0],\n",
       "        [2],\n",
       "        [2]]),\n",
       " array([[0],\n",
       "        [0],\n",
       "        [2],\n",
       "        [3]]),\n",
       " array([[0],\n",
       "        [0],\n",
       "        [2],\n",
       "        [4]]),\n",
       " array([[0],\n",
       "        [0],\n",
       "        [3],\n",
       "        [0]]),\n",
       " array([[0],\n",
       "        [0],\n",
       "        [3],\n",
       "        [1]]),\n",
       " array([[0],\n",
       "        [0],\n",
       "        [3],\n",
       "        [2]]),\n",
       " array([[0],\n",
       "        [0],\n",
       "        [3],\n",
       "        [3]]),\n",
       " array([[0],\n",
       "        [0],\n",
       "        [3],\n",
       "        [4]]),\n",
       " array([[0],\n",
       "        [0],\n",
       "        [4],\n",
       "        [0]]),\n",
       " array([[0],\n",
       "        [0],\n",
       "        [4],\n",
       "        [1]]),\n",
       " array([[0],\n",
       "        [0],\n",
       "        [4],\n",
       "        [2]]),\n",
       " array([[0],\n",
       "        [0],\n",
       "        [4],\n",
       "        [3]]),\n",
       " array([[0],\n",
       "        [0],\n",
       "        [4],\n",
       "        [4]]),\n",
       " array([[0],\n",
       "        [1],\n",
       "        [0],\n",
       "        [0]]),\n",
       " array([[0],\n",
       "        [1],\n",
       "        [0],\n",
       "        [1]]),\n",
       " array([[0],\n",
       "        [1],\n",
       "        [0],\n",
       "        [2]]),\n",
       " array([[0],\n",
       "        [1],\n",
       "        [0],\n",
       "        [3]]),\n",
       " array([[0],\n",
       "        [1],\n",
       "        [0],\n",
       "        [4]]),\n",
       " array([[0],\n",
       "        [1],\n",
       "        [1],\n",
       "        [0]]),\n",
       " array([[0],\n",
       "        [1],\n",
       "        [1],\n",
       "        [1]]),\n",
       " array([[0],\n",
       "        [1],\n",
       "        [1],\n",
       "        [2]]),\n",
       " array([[0],\n",
       "        [1],\n",
       "        [1],\n",
       "        [3]]),\n",
       " array([[0],\n",
       "        [1],\n",
       "        [1],\n",
       "        [4]]),\n",
       " array([[0],\n",
       "        [1],\n",
       "        [2],\n",
       "        [0]]),\n",
       " array([[0],\n",
       "        [1],\n",
       "        [2],\n",
       "        [1]]),\n",
       " array([[0],\n",
       "        [1],\n",
       "        [2],\n",
       "        [2]]),\n",
       " array([[0],\n",
       "        [1],\n",
       "        [2],\n",
       "        [3]]),\n",
       " array([[0],\n",
       "        [1],\n",
       "        [2],\n",
       "        [4]]),\n",
       " array([[0],\n",
       "        [1],\n",
       "        [3],\n",
       "        [0]]),\n",
       " array([[0],\n",
       "        [1],\n",
       "        [3],\n",
       "        [1]]),\n",
       " array([[0],\n",
       "        [1],\n",
       "        [3],\n",
       "        [2]]),\n",
       " array([[0],\n",
       "        [1],\n",
       "        [3],\n",
       "        [3]]),\n",
       " array([[0],\n",
       "        [1],\n",
       "        [3],\n",
       "        [4]]),\n",
       " array([[0],\n",
       "        [1],\n",
       "        [4],\n",
       "        [0]]),\n",
       " array([[0],\n",
       "        [1],\n",
       "        [4],\n",
       "        [1]]),\n",
       " array([[0],\n",
       "        [1],\n",
       "        [4],\n",
       "        [2]]),\n",
       " array([[0],\n",
       "        [1],\n",
       "        [4],\n",
       "        [3]]),\n",
       " array([[0],\n",
       "        [1],\n",
       "        [4],\n",
       "        [4]]),\n",
       " array([[0],\n",
       "        [2],\n",
       "        [0],\n",
       "        [0]]),\n",
       " array([[0],\n",
       "        [2],\n",
       "        [0],\n",
       "        [1]]),\n",
       " array([[0],\n",
       "        [2],\n",
       "        [0],\n",
       "        [2]]),\n",
       " array([[0],\n",
       "        [2],\n",
       "        [0],\n",
       "        [3]]),\n",
       " array([[0],\n",
       "        [2],\n",
       "        [0],\n",
       "        [4]]),\n",
       " array([[0],\n",
       "        [2],\n",
       "        [1],\n",
       "        [0]]),\n",
       " array([[0],\n",
       "        [2],\n",
       "        [1],\n",
       "        [1]]),\n",
       " array([[0],\n",
       "        [2],\n",
       "        [1],\n",
       "        [2]]),\n",
       " array([[0],\n",
       "        [2],\n",
       "        [1],\n",
       "        [3]]),\n",
       " array([[0],\n",
       "        [2],\n",
       "        [1],\n",
       "        [4]]),\n",
       " array([[0],\n",
       "        [2],\n",
       "        [2],\n",
       "        [0]]),\n",
       " array([[0],\n",
       "        [2],\n",
       "        [2],\n",
       "        [1]]),\n",
       " array([[0],\n",
       "        [2],\n",
       "        [2],\n",
       "        [2]]),\n",
       " array([[0],\n",
       "        [2],\n",
       "        [2],\n",
       "        [3]]),\n",
       " array([[0],\n",
       "        [2],\n",
       "        [2],\n",
       "        [4]]),\n",
       " array([[0],\n",
       "        [2],\n",
       "        [3],\n",
       "        [0]]),\n",
       " array([[0],\n",
       "        [2],\n",
       "        [3],\n",
       "        [1]]),\n",
       " array([[0],\n",
       "        [2],\n",
       "        [3],\n",
       "        [2]]),\n",
       " array([[0],\n",
       "        [2],\n",
       "        [3],\n",
       "        [3]]),\n",
       " array([[0],\n",
       "        [2],\n",
       "        [3],\n",
       "        [4]]),\n",
       " array([[0],\n",
       "        [2],\n",
       "        [4],\n",
       "        [0]]),\n",
       " array([[0],\n",
       "        [2],\n",
       "        [4],\n",
       "        [1]]),\n",
       " array([[0],\n",
       "        [2],\n",
       "        [4],\n",
       "        [2]]),\n",
       " array([[0],\n",
       "        [2],\n",
       "        [4],\n",
       "        [3]]),\n",
       " array([[0],\n",
       "        [2],\n",
       "        [4],\n",
       "        [4]]),\n",
       " array([[0],\n",
       "        [3],\n",
       "        [0],\n",
       "        [0]]),\n",
       " array([[0],\n",
       "        [3],\n",
       "        [0],\n",
       "        [1]]),\n",
       " array([[0],\n",
       "        [3],\n",
       "        [0],\n",
       "        [2]]),\n",
       " array([[0],\n",
       "        [3],\n",
       "        [0],\n",
       "        [3]]),\n",
       " array([[0],\n",
       "        [3],\n",
       "        [0],\n",
       "        [4]]),\n",
       " array([[0],\n",
       "        [3],\n",
       "        [1],\n",
       "        [0]]),\n",
       " array([[0],\n",
       "        [3],\n",
       "        [1],\n",
       "        [1]]),\n",
       " array([[0],\n",
       "        [3],\n",
       "        [1],\n",
       "        [2]]),\n",
       " array([[0],\n",
       "        [3],\n",
       "        [1],\n",
       "        [3]]),\n",
       " array([[0],\n",
       "        [3],\n",
       "        [1],\n",
       "        [4]]),\n",
       " array([[0],\n",
       "        [3],\n",
       "        [2],\n",
       "        [0]]),\n",
       " array([[0],\n",
       "        [3],\n",
       "        [2],\n",
       "        [1]]),\n",
       " array([[0],\n",
       "        [3],\n",
       "        [2],\n",
       "        [2]]),\n",
       " array([[0],\n",
       "        [3],\n",
       "        [2],\n",
       "        [3]]),\n",
       " array([[0],\n",
       "        [3],\n",
       "        [2],\n",
       "        [4]]),\n",
       " array([[0],\n",
       "        [3],\n",
       "        [3],\n",
       "        [0]]),\n",
       " array([[0],\n",
       "        [3],\n",
       "        [3],\n",
       "        [1]]),\n",
       " array([[0],\n",
       "        [3],\n",
       "        [3],\n",
       "        [2]]),\n",
       " array([[0],\n",
       "        [3],\n",
       "        [3],\n",
       "        [3]]),\n",
       " array([[0],\n",
       "        [3],\n",
       "        [3],\n",
       "        [4]]),\n",
       " array([[0],\n",
       "        [3],\n",
       "        [4],\n",
       "        [0]]),\n",
       " array([[0],\n",
       "        [3],\n",
       "        [4],\n",
       "        [1]]),\n",
       " array([[0],\n",
       "        [3],\n",
       "        [4],\n",
       "        [2]]),\n",
       " array([[0],\n",
       "        [3],\n",
       "        [4],\n",
       "        [3]]),\n",
       " array([[0],\n",
       "        [3],\n",
       "        [4],\n",
       "        [4]]),\n",
       " array([[0],\n",
       "        [4],\n",
       "        [0],\n",
       "        [0]]),\n",
       " array([[0],\n",
       "        [4],\n",
       "        [0],\n",
       "        [1]]),\n",
       " array([[0],\n",
       "        [4],\n",
       "        [0],\n",
       "        [2]]),\n",
       " array([[0],\n",
       "        [4],\n",
       "        [0],\n",
       "        [3]]),\n",
       " array([[0],\n",
       "        [4],\n",
       "        [0],\n",
       "        [4]]),\n",
       " array([[0],\n",
       "        [4],\n",
       "        [1],\n",
       "        [0]]),\n",
       " array([[0],\n",
       "        [4],\n",
       "        [1],\n",
       "        [1]]),\n",
       " array([[0],\n",
       "        [4],\n",
       "        [1],\n",
       "        [2]]),\n",
       " array([[0],\n",
       "        [4],\n",
       "        [1],\n",
       "        [3]]),\n",
       " array([[0],\n",
       "        [4],\n",
       "        [1],\n",
       "        [4]]),\n",
       " array([[0],\n",
       "        [4],\n",
       "        [2],\n",
       "        [0]]),\n",
       " array([[0],\n",
       "        [4],\n",
       "        [2],\n",
       "        [1]]),\n",
       " array([[0],\n",
       "        [4],\n",
       "        [2],\n",
       "        [2]]),\n",
       " array([[0],\n",
       "        [4],\n",
       "        [2],\n",
       "        [3]]),\n",
       " array([[0],\n",
       "        [4],\n",
       "        [2],\n",
       "        [4]]),\n",
       " array([[0],\n",
       "        [4],\n",
       "        [3],\n",
       "        [0]]),\n",
       " array([[0],\n",
       "        [4],\n",
       "        [3],\n",
       "        [1]]),\n",
       " array([[0],\n",
       "        [4],\n",
       "        [3],\n",
       "        [2]]),\n",
       " array([[0],\n",
       "        [4],\n",
       "        [3],\n",
       "        [3]]),\n",
       " array([[0],\n",
       "        [4],\n",
       "        [3],\n",
       "        [4]]),\n",
       " array([[0],\n",
       "        [4],\n",
       "        [4],\n",
       "        [0]]),\n",
       " array([[0],\n",
       "        [4],\n",
       "        [4],\n",
       "        [1]]),\n",
       " array([[0],\n",
       "        [4],\n",
       "        [4],\n",
       "        [2]]),\n",
       " array([[0],\n",
       "        [4],\n",
       "        [4],\n",
       "        [3]]),\n",
       " array([[0],\n",
       "        [4],\n",
       "        [4],\n",
       "        [4]]),\n",
       " array([[1],\n",
       "        [0],\n",
       "        [0],\n",
       "        [0]]),\n",
       " array([[1],\n",
       "        [0],\n",
       "        [0],\n",
       "        [1]]),\n",
       " array([[1],\n",
       "        [0],\n",
       "        [0],\n",
       "        [2]]),\n",
       " array([[1],\n",
       "        [0],\n",
       "        [0],\n",
       "        [3]]),\n",
       " array([[1],\n",
       "        [0],\n",
       "        [0],\n",
       "        [4]]),\n",
       " array([[1],\n",
       "        [0],\n",
       "        [1],\n",
       "        [0]]),\n",
       " array([[1],\n",
       "        [0],\n",
       "        [1],\n",
       "        [1]]),\n",
       " array([[1],\n",
       "        [0],\n",
       "        [1],\n",
       "        [2]]),\n",
       " array([[1],\n",
       "        [0],\n",
       "        [1],\n",
       "        [3]]),\n",
       " array([[1],\n",
       "        [0],\n",
       "        [1],\n",
       "        [4]]),\n",
       " array([[1],\n",
       "        [0],\n",
       "        [2],\n",
       "        [0]]),\n",
       " array([[1],\n",
       "        [0],\n",
       "        [2],\n",
       "        [1]]),\n",
       " array([[1],\n",
       "        [0],\n",
       "        [2],\n",
       "        [2]]),\n",
       " array([[1],\n",
       "        [0],\n",
       "        [2],\n",
       "        [3]]),\n",
       " array([[1],\n",
       "        [0],\n",
       "        [2],\n",
       "        [4]]),\n",
       " array([[1],\n",
       "        [0],\n",
       "        [3],\n",
       "        [0]]),\n",
       " array([[1],\n",
       "        [0],\n",
       "        [3],\n",
       "        [1]]),\n",
       " array([[1],\n",
       "        [0],\n",
       "        [3],\n",
       "        [2]]),\n",
       " array([[1],\n",
       "        [0],\n",
       "        [3],\n",
       "        [3]]),\n",
       " array([[1],\n",
       "        [0],\n",
       "        [3],\n",
       "        [4]]),\n",
       " array([[1],\n",
       "        [0],\n",
       "        [4],\n",
       "        [0]]),\n",
       " array([[1],\n",
       "        [0],\n",
       "        [4],\n",
       "        [1]]),\n",
       " array([[1],\n",
       "        [0],\n",
       "        [4],\n",
       "        [2]]),\n",
       " array([[1],\n",
       "        [0],\n",
       "        [4],\n",
       "        [3]]),\n",
       " array([[1],\n",
       "        [0],\n",
       "        [4],\n",
       "        [4]]),\n",
       " array([[1],\n",
       "        [1],\n",
       "        [0],\n",
       "        [0]]),\n",
       " array([[1],\n",
       "        [1],\n",
       "        [0],\n",
       "        [1]]),\n",
       " array([[1],\n",
       "        [1],\n",
       "        [0],\n",
       "        [2]]),\n",
       " array([[1],\n",
       "        [1],\n",
       "        [0],\n",
       "        [3]]),\n",
       " array([[1],\n",
       "        [1],\n",
       "        [0],\n",
       "        [4]]),\n",
       " array([[1],\n",
       "        [1],\n",
       "        [1],\n",
       "        [0]]),\n",
       " array([[1],\n",
       "        [1],\n",
       "        [1],\n",
       "        [1]]),\n",
       " array([[1],\n",
       "        [1],\n",
       "        [1],\n",
       "        [2]]),\n",
       " array([[1],\n",
       "        [1],\n",
       "        [1],\n",
       "        [3]]),\n",
       " array([[1],\n",
       "        [1],\n",
       "        [1],\n",
       "        [4]]),\n",
       " array([[1],\n",
       "        [1],\n",
       "        [2],\n",
       "        [0]]),\n",
       " array([[1],\n",
       "        [1],\n",
       "        [2],\n",
       "        [1]]),\n",
       " array([[1],\n",
       "        [1],\n",
       "        [2],\n",
       "        [2]]),\n",
       " array([[1],\n",
       "        [1],\n",
       "        [2],\n",
       "        [3]]),\n",
       " array([[1],\n",
       "        [1],\n",
       "        [2],\n",
       "        [4]]),\n",
       " array([[1],\n",
       "        [1],\n",
       "        [3],\n",
       "        [0]]),\n",
       " array([[1],\n",
       "        [1],\n",
       "        [3],\n",
       "        [1]]),\n",
       " array([[1],\n",
       "        [1],\n",
       "        [3],\n",
       "        [2]]),\n",
       " array([[1],\n",
       "        [1],\n",
       "        [3],\n",
       "        [3]]),\n",
       " array([[1],\n",
       "        [1],\n",
       "        [3],\n",
       "        [4]]),\n",
       " array([[1],\n",
       "        [1],\n",
       "        [4],\n",
       "        [0]]),\n",
       " array([[1],\n",
       "        [1],\n",
       "        [4],\n",
       "        [1]]),\n",
       " array([[1],\n",
       "        [1],\n",
       "        [4],\n",
       "        [2]]),\n",
       " array([[1],\n",
       "        [1],\n",
       "        [4],\n",
       "        [3]]),\n",
       " array([[1],\n",
       "        [1],\n",
       "        [4],\n",
       "        [4]]),\n",
       " array([[1],\n",
       "        [2],\n",
       "        [0],\n",
       "        [0]]),\n",
       " array([[1],\n",
       "        [2],\n",
       "        [0],\n",
       "        [1]]),\n",
       " array([[1],\n",
       "        [2],\n",
       "        [0],\n",
       "        [2]]),\n",
       " array([[1],\n",
       "        [2],\n",
       "        [0],\n",
       "        [3]]),\n",
       " array([[1],\n",
       "        [2],\n",
       "        [0],\n",
       "        [4]]),\n",
       " array([[1],\n",
       "        [2],\n",
       "        [1],\n",
       "        [0]]),\n",
       " array([[1],\n",
       "        [2],\n",
       "        [1],\n",
       "        [1]]),\n",
       " array([[1],\n",
       "        [2],\n",
       "        [1],\n",
       "        [2]]),\n",
       " array([[1],\n",
       "        [2],\n",
       "        [1],\n",
       "        [3]]),\n",
       " array([[1],\n",
       "        [2],\n",
       "        [1],\n",
       "        [4]]),\n",
       " array([[1],\n",
       "        [2],\n",
       "        [2],\n",
       "        [0]]),\n",
       " array([[1],\n",
       "        [2],\n",
       "        [2],\n",
       "        [1]]),\n",
       " array([[1],\n",
       "        [2],\n",
       "        [2],\n",
       "        [2]]),\n",
       " array([[1],\n",
       "        [2],\n",
       "        [2],\n",
       "        [3]]),\n",
       " array([[1],\n",
       "        [2],\n",
       "        [2],\n",
       "        [4]]),\n",
       " array([[1],\n",
       "        [2],\n",
       "        [3],\n",
       "        [0]]),\n",
       " array([[1],\n",
       "        [2],\n",
       "        [3],\n",
       "        [1]]),\n",
       " array([[1],\n",
       "        [2],\n",
       "        [3],\n",
       "        [2]]),\n",
       " array([[1],\n",
       "        [2],\n",
       "        [3],\n",
       "        [3]]),\n",
       " array([[1],\n",
       "        [2],\n",
       "        [3],\n",
       "        [4]]),\n",
       " array([[1],\n",
       "        [2],\n",
       "        [4],\n",
       "        [0]]),\n",
       " array([[1],\n",
       "        [2],\n",
       "        [4],\n",
       "        [1]]),\n",
       " array([[1],\n",
       "        [2],\n",
       "        [4],\n",
       "        [2]]),\n",
       " array([[1],\n",
       "        [2],\n",
       "        [4],\n",
       "        [3]]),\n",
       " array([[1],\n",
       "        [2],\n",
       "        [4],\n",
       "        [4]]),\n",
       " array([[1],\n",
       "        [3],\n",
       "        [0],\n",
       "        [0]]),\n",
       " array([[1],\n",
       "        [3],\n",
       "        [0],\n",
       "        [1]]),\n",
       " array([[1],\n",
       "        [3],\n",
       "        [0],\n",
       "        [2]]),\n",
       " array([[1],\n",
       "        [3],\n",
       "        [0],\n",
       "        [3]]),\n",
       " array([[1],\n",
       "        [3],\n",
       "        [0],\n",
       "        [4]]),\n",
       " array([[1],\n",
       "        [3],\n",
       "        [1],\n",
       "        [0]]),\n",
       " array([[1],\n",
       "        [3],\n",
       "        [1],\n",
       "        [1]]),\n",
       " array([[1],\n",
       "        [3],\n",
       "        [1],\n",
       "        [2]]),\n",
       " array([[1],\n",
       "        [3],\n",
       "        [1],\n",
       "        [3]]),\n",
       " array([[1],\n",
       "        [3],\n",
       "        [1],\n",
       "        [4]]),\n",
       " array([[1],\n",
       "        [3],\n",
       "        [2],\n",
       "        [0]]),\n",
       " array([[1],\n",
       "        [3],\n",
       "        [2],\n",
       "        [1]]),\n",
       " array([[1],\n",
       "        [3],\n",
       "        [2],\n",
       "        [2]]),\n",
       " array([[1],\n",
       "        [3],\n",
       "        [2],\n",
       "        [3]]),\n",
       " array([[1],\n",
       "        [3],\n",
       "        [2],\n",
       "        [4]]),\n",
       " array([[1],\n",
       "        [3],\n",
       "        [3],\n",
       "        [0]]),\n",
       " array([[1],\n",
       "        [3],\n",
       "        [3],\n",
       "        [1]]),\n",
       " array([[1],\n",
       "        [3],\n",
       "        [3],\n",
       "        [2]]),\n",
       " array([[1],\n",
       "        [3],\n",
       "        [3],\n",
       "        [3]]),\n",
       " array([[1],\n",
       "        [3],\n",
       "        [3],\n",
       "        [4]]),\n",
       " array([[1],\n",
       "        [3],\n",
       "        [4],\n",
       "        [0]]),\n",
       " array([[1],\n",
       "        [3],\n",
       "        [4],\n",
       "        [1]]),\n",
       " array([[1],\n",
       "        [3],\n",
       "        [4],\n",
       "        [2]]),\n",
       " array([[1],\n",
       "        [3],\n",
       "        [4],\n",
       "        [3]]),\n",
       " array([[1],\n",
       "        [3],\n",
       "        [4],\n",
       "        [4]]),\n",
       " array([[1],\n",
       "        [4],\n",
       "        [0],\n",
       "        [0]]),\n",
       " array([[1],\n",
       "        [4],\n",
       "        [0],\n",
       "        [1]]),\n",
       " array([[1],\n",
       "        [4],\n",
       "        [0],\n",
       "        [2]]),\n",
       " array([[1],\n",
       "        [4],\n",
       "        [0],\n",
       "        [3]]),\n",
       " array([[1],\n",
       "        [4],\n",
       "        [0],\n",
       "        [4]]),\n",
       " array([[1],\n",
       "        [4],\n",
       "        [1],\n",
       "        [0]]),\n",
       " array([[1],\n",
       "        [4],\n",
       "        [1],\n",
       "        [1]]),\n",
       " array([[1],\n",
       "        [4],\n",
       "        [1],\n",
       "        [2]]),\n",
       " array([[1],\n",
       "        [4],\n",
       "        [1],\n",
       "        [3]]),\n",
       " array([[1],\n",
       "        [4],\n",
       "        [1],\n",
       "        [4]]),\n",
       " array([[1],\n",
       "        [4],\n",
       "        [2],\n",
       "        [0]]),\n",
       " array([[1],\n",
       "        [4],\n",
       "        [2],\n",
       "        [1]]),\n",
       " array([[1],\n",
       "        [4],\n",
       "        [2],\n",
       "        [2]]),\n",
       " array([[1],\n",
       "        [4],\n",
       "        [2],\n",
       "        [3]]),\n",
       " array([[1],\n",
       "        [4],\n",
       "        [2],\n",
       "        [4]]),\n",
       " array([[1],\n",
       "        [4],\n",
       "        [3],\n",
       "        [0]]),\n",
       " array([[1],\n",
       "        [4],\n",
       "        [3],\n",
       "        [1]]),\n",
       " array([[1],\n",
       "        [4],\n",
       "        [3],\n",
       "        [2]]),\n",
       " array([[1],\n",
       "        [4],\n",
       "        [3],\n",
       "        [3]]),\n",
       " array([[1],\n",
       "        [4],\n",
       "        [3],\n",
       "        [4]]),\n",
       " array([[1],\n",
       "        [4],\n",
       "        [4],\n",
       "        [0]]),\n",
       " array([[1],\n",
       "        [4],\n",
       "        [4],\n",
       "        [1]]),\n",
       " array([[1],\n",
       "        [4],\n",
       "        [4],\n",
       "        [2]]),\n",
       " array([[1],\n",
       "        [4],\n",
       "        [4],\n",
       "        [3]]),\n",
       " array([[1],\n",
       "        [4],\n",
       "        [4],\n",
       "        [4]]),\n",
       " array([[2],\n",
       "        [0],\n",
       "        [0],\n",
       "        [0]]),\n",
       " array([[2],\n",
       "        [0],\n",
       "        [0],\n",
       "        [1]]),\n",
       " array([[2],\n",
       "        [0],\n",
       "        [0],\n",
       "        [2]]),\n",
       " array([[2],\n",
       "        [0],\n",
       "        [0],\n",
       "        [3]]),\n",
       " array([[2],\n",
       "        [0],\n",
       "        [0],\n",
       "        [4]]),\n",
       " array([[2],\n",
       "        [0],\n",
       "        [1],\n",
       "        [0]]),\n",
       " array([[2],\n",
       "        [0],\n",
       "        [1],\n",
       "        [1]]),\n",
       " array([[2],\n",
       "        [0],\n",
       "        [1],\n",
       "        [2]]),\n",
       " array([[2],\n",
       "        [0],\n",
       "        [1],\n",
       "        [3]]),\n",
       " array([[2],\n",
       "        [0],\n",
       "        [1],\n",
       "        [4]]),\n",
       " array([[2],\n",
       "        [0],\n",
       "        [2],\n",
       "        [0]]),\n",
       " array([[2],\n",
       "        [0],\n",
       "        [2],\n",
       "        [1]]),\n",
       " array([[2],\n",
       "        [0],\n",
       "        [2],\n",
       "        [2]]),\n",
       " array([[2],\n",
       "        [0],\n",
       "        [2],\n",
       "        [3]]),\n",
       " array([[2],\n",
       "        [0],\n",
       "        [2],\n",
       "        [4]]),\n",
       " array([[2],\n",
       "        [0],\n",
       "        [3],\n",
       "        [0]]),\n",
       " array([[2],\n",
       "        [0],\n",
       "        [3],\n",
       "        [1]]),\n",
       " array([[2],\n",
       "        [0],\n",
       "        [3],\n",
       "        [2]]),\n",
       " array([[2],\n",
       "        [0],\n",
       "        [3],\n",
       "        [3]]),\n",
       " array([[2],\n",
       "        [0],\n",
       "        [3],\n",
       "        [4]]),\n",
       " array([[2],\n",
       "        [0],\n",
       "        [4],\n",
       "        [0]]),\n",
       " array([[2],\n",
       "        [0],\n",
       "        [4],\n",
       "        [1]]),\n",
       " array([[2],\n",
       "        [0],\n",
       "        [4],\n",
       "        [2]]),\n",
       " array([[2],\n",
       "        [0],\n",
       "        [4],\n",
       "        [3]]),\n",
       " array([[2],\n",
       "        [0],\n",
       "        [4],\n",
       "        [4]]),\n",
       " array([[2],\n",
       "        [1],\n",
       "        [0],\n",
       "        [0]]),\n",
       " array([[2],\n",
       "        [1],\n",
       "        [0],\n",
       "        [1]]),\n",
       " array([[2],\n",
       "        [1],\n",
       "        [0],\n",
       "        [2]]),\n",
       " array([[2],\n",
       "        [1],\n",
       "        [0],\n",
       "        [3]]),\n",
       " array([[2],\n",
       "        [1],\n",
       "        [0],\n",
       "        [4]]),\n",
       " array([[2],\n",
       "        [1],\n",
       "        [1],\n",
       "        [0]]),\n",
       " array([[2],\n",
       "        [1],\n",
       "        [1],\n",
       "        [1]]),\n",
       " array([[2],\n",
       "        [1],\n",
       "        [1],\n",
       "        [2]]),\n",
       " array([[2],\n",
       "        [1],\n",
       "        [1],\n",
       "        [3]]),\n",
       " array([[2],\n",
       "        [1],\n",
       "        [1],\n",
       "        [4]]),\n",
       " array([[2],\n",
       "        [1],\n",
       "        [2],\n",
       "        [0]]),\n",
       " array([[2],\n",
       "        [1],\n",
       "        [2],\n",
       "        [1]]),\n",
       " array([[2],\n",
       "        [1],\n",
       "        [2],\n",
       "        [2]]),\n",
       " array([[2],\n",
       "        [1],\n",
       "        [2],\n",
       "        [3]]),\n",
       " array([[2],\n",
       "        [1],\n",
       "        [2],\n",
       "        [4]]),\n",
       " array([[2],\n",
       "        [1],\n",
       "        [3],\n",
       "        [0]]),\n",
       " array([[2],\n",
       "        [1],\n",
       "        [3],\n",
       "        [1]]),\n",
       " array([[2],\n",
       "        [1],\n",
       "        [3],\n",
       "        [2]]),\n",
       " array([[2],\n",
       "        [1],\n",
       "        [3],\n",
       "        [3]]),\n",
       " array([[2],\n",
       "        [1],\n",
       "        [3],\n",
       "        [4]]),\n",
       " array([[2],\n",
       "        [1],\n",
       "        [4],\n",
       "        [0]]),\n",
       " array([[2],\n",
       "        [1],\n",
       "        [4],\n",
       "        [1]]),\n",
       " array([[2],\n",
       "        [1],\n",
       "        [4],\n",
       "        [2]]),\n",
       " array([[2],\n",
       "        [1],\n",
       "        [4],\n",
       "        [3]]),\n",
       " array([[2],\n",
       "        [1],\n",
       "        [4],\n",
       "        [4]]),\n",
       " array([[2],\n",
       "        [2],\n",
       "        [0],\n",
       "        [0]]),\n",
       " array([[2],\n",
       "        [2],\n",
       "        [0],\n",
       "        [1]]),\n",
       " array([[2],\n",
       "        [2],\n",
       "        [0],\n",
       "        [2]]),\n",
       " array([[2],\n",
       "        [2],\n",
       "        [0],\n",
       "        [3]]),\n",
       " array([[2],\n",
       "        [2],\n",
       "        [0],\n",
       "        [4]]),\n",
       " array([[2],\n",
       "        [2],\n",
       "        [1],\n",
       "        [0]]),\n",
       " array([[2],\n",
       "        [2],\n",
       "        [1],\n",
       "        [1]]),\n",
       " array([[2],\n",
       "        [2],\n",
       "        [1],\n",
       "        [2]]),\n",
       " array([[2],\n",
       "        [2],\n",
       "        [1],\n",
       "        [3]]),\n",
       " array([[2],\n",
       "        [2],\n",
       "        [1],\n",
       "        [4]]),\n",
       " array([[2],\n",
       "        [2],\n",
       "        [2],\n",
       "        [0]]),\n",
       " array([[2],\n",
       "        [2],\n",
       "        [2],\n",
       "        [1]]),\n",
       " array([[2],\n",
       "        [2],\n",
       "        [2],\n",
       "        [2]]),\n",
       " array([[2],\n",
       "        [2],\n",
       "        [2],\n",
       "        [3]]),\n",
       " array([[2],\n",
       "        [2],\n",
       "        [2],\n",
       "        [4]]),\n",
       " array([[2],\n",
       "        [2],\n",
       "        [3],\n",
       "        [0]]),\n",
       " array([[2],\n",
       "        [2],\n",
       "        [3],\n",
       "        [1]]),\n",
       " array([[2],\n",
       "        [2],\n",
       "        [3],\n",
       "        [2]]),\n",
       " array([[2],\n",
       "        [2],\n",
       "        [3],\n",
       "        [3]]),\n",
       " array([[2],\n",
       "        [2],\n",
       "        [3],\n",
       "        [4]]),\n",
       " array([[2],\n",
       "        [2],\n",
       "        [4],\n",
       "        [0]]),\n",
       " array([[2],\n",
       "        [2],\n",
       "        [4],\n",
       "        [1]]),\n",
       " array([[2],\n",
       "        [2],\n",
       "        [4],\n",
       "        [2]]),\n",
       " array([[2],\n",
       "        [2],\n",
       "        [4],\n",
       "        [3]]),\n",
       " array([[2],\n",
       "        [2],\n",
       "        [4],\n",
       "        [4]]),\n",
       " array([[2],\n",
       "        [3],\n",
       "        [0],\n",
       "        [0]]),\n",
       " array([[2],\n",
       "        [3],\n",
       "        [0],\n",
       "        [1]]),\n",
       " array([[2],\n",
       "        [3],\n",
       "        [0],\n",
       "        [2]]),\n",
       " array([[2],\n",
       "        [3],\n",
       "        [0],\n",
       "        [3]]),\n",
       " array([[2],\n",
       "        [3],\n",
       "        [0],\n",
       "        [4]]),\n",
       " array([[2],\n",
       "        [3],\n",
       "        [1],\n",
       "        [0]]),\n",
       " array([[2],\n",
       "        [3],\n",
       "        [1],\n",
       "        [1]]),\n",
       " array([[2],\n",
       "        [3],\n",
       "        [1],\n",
       "        [2]]),\n",
       " array([[2],\n",
       "        [3],\n",
       "        [1],\n",
       "        [3]]),\n",
       " array([[2],\n",
       "        [3],\n",
       "        [1],\n",
       "        [4]]),\n",
       " array([[2],\n",
       "        [3],\n",
       "        [2],\n",
       "        [0]]),\n",
       " array([[2],\n",
       "        [3],\n",
       "        [2],\n",
       "        [1]]),\n",
       " array([[2],\n",
       "        [3],\n",
       "        [2],\n",
       "        [2]]),\n",
       " array([[2],\n",
       "        [3],\n",
       "        [2],\n",
       "        [3]]),\n",
       " array([[2],\n",
       "        [3],\n",
       "        [2],\n",
       "        [4]]),\n",
       " array([[2],\n",
       "        [3],\n",
       "        [3],\n",
       "        [0]]),\n",
       " array([[2],\n",
       "        [3],\n",
       "        [3],\n",
       "        [1]]),\n",
       " array([[2],\n",
       "        [3],\n",
       "        [3],\n",
       "        [2]]),\n",
       " array([[2],\n",
       "        [3],\n",
       "        [3],\n",
       "        [3]]),\n",
       " array([[2],\n",
       "        [3],\n",
       "        [3],\n",
       "        [4]]),\n",
       " array([[2],\n",
       "        [3],\n",
       "        [4],\n",
       "        [0]]),\n",
       " array([[2],\n",
       "        [3],\n",
       "        [4],\n",
       "        [1]]),\n",
       " array([[2],\n",
       "        [3],\n",
       "        [4],\n",
       "        [2]]),\n",
       " array([[2],\n",
       "        [3],\n",
       "        [4],\n",
       "        [3]]),\n",
       " array([[2],\n",
       "        [3],\n",
       "        [4],\n",
       "        [4]]),\n",
       " array([[2],\n",
       "        [4],\n",
       "        [0],\n",
       "        [0]]),\n",
       " array([[2],\n",
       "        [4],\n",
       "        [0],\n",
       "        [1]]),\n",
       " array([[2],\n",
       "        [4],\n",
       "        [0],\n",
       "        [2]]),\n",
       " array([[2],\n",
       "        [4],\n",
       "        [0],\n",
       "        [3]]),\n",
       " array([[2],\n",
       "        [4],\n",
       "        [0],\n",
       "        [4]]),\n",
       " array([[2],\n",
       "        [4],\n",
       "        [1],\n",
       "        [0]]),\n",
       " array([[2],\n",
       "        [4],\n",
       "        [1],\n",
       "        [1]]),\n",
       " array([[2],\n",
       "        [4],\n",
       "        [1],\n",
       "        [2]]),\n",
       " array([[2],\n",
       "        [4],\n",
       "        [1],\n",
       "        [3]]),\n",
       " array([[2],\n",
       "        [4],\n",
       "        [1],\n",
       "        [4]]),\n",
       " array([[2],\n",
       "        [4],\n",
       "        [2],\n",
       "        [0]]),\n",
       " array([[2],\n",
       "        [4],\n",
       "        [2],\n",
       "        [1]]),\n",
       " array([[2],\n",
       "        [4],\n",
       "        [2],\n",
       "        [2]]),\n",
       " array([[2],\n",
       "        [4],\n",
       "        [2],\n",
       "        [3]]),\n",
       " array([[2],\n",
       "        [4],\n",
       "        [2],\n",
       "        [4]]),\n",
       " array([[2],\n",
       "        [4],\n",
       "        [3],\n",
       "        [0]]),\n",
       " array([[2],\n",
       "        [4],\n",
       "        [3],\n",
       "        [1]]),\n",
       " array([[2],\n",
       "        [4],\n",
       "        [3],\n",
       "        [2]]),\n",
       " array([[2],\n",
       "        [4],\n",
       "        [3],\n",
       "        [3]]),\n",
       " array([[2],\n",
       "        [4],\n",
       "        [3],\n",
       "        [4]]),\n",
       " array([[2],\n",
       "        [4],\n",
       "        [4],\n",
       "        [0]]),\n",
       " array([[2],\n",
       "        [4],\n",
       "        [4],\n",
       "        [1]]),\n",
       " array([[2],\n",
       "        [4],\n",
       "        [4],\n",
       "        [2]]),\n",
       " array([[2],\n",
       "        [4],\n",
       "        [4],\n",
       "        [3]]),\n",
       " array([[2],\n",
       "        [4],\n",
       "        [4],\n",
       "        [4]]),\n",
       " array([[3],\n",
       "        [0],\n",
       "        [0],\n",
       "        [0]]),\n",
       " array([[3],\n",
       "        [0],\n",
       "        [0],\n",
       "        [1]]),\n",
       " array([[3],\n",
       "        [0],\n",
       "        [0],\n",
       "        [2]]),\n",
       " array([[3],\n",
       "        [0],\n",
       "        [0],\n",
       "        [3]]),\n",
       " array([[3],\n",
       "        [0],\n",
       "        [0],\n",
       "        [4]]),\n",
       " array([[3],\n",
       "        [0],\n",
       "        [1],\n",
       "        [0]]),\n",
       " array([[3],\n",
       "        [0],\n",
       "        [1],\n",
       "        [1]]),\n",
       " array([[3],\n",
       "        [0],\n",
       "        [1],\n",
       "        [2]]),\n",
       " array([[3],\n",
       "        [0],\n",
       "        [1],\n",
       "        [3]]),\n",
       " array([[3],\n",
       "        [0],\n",
       "        [1],\n",
       "        [4]]),\n",
       " array([[3],\n",
       "        [0],\n",
       "        [2],\n",
       "        [0]]),\n",
       " array([[3],\n",
       "        [0],\n",
       "        [2],\n",
       "        [1]]),\n",
       " array([[3],\n",
       "        [0],\n",
       "        [2],\n",
       "        [2]]),\n",
       " array([[3],\n",
       "        [0],\n",
       "        [2],\n",
       "        [3]]),\n",
       " array([[3],\n",
       "        [0],\n",
       "        [2],\n",
       "        [4]]),\n",
       " array([[3],\n",
       "        [0],\n",
       "        [3],\n",
       "        [0]]),\n",
       " array([[3],\n",
       "        [0],\n",
       "        [3],\n",
       "        [1]]),\n",
       " array([[3],\n",
       "        [0],\n",
       "        [3],\n",
       "        [2]]),\n",
       " array([[3],\n",
       "        [0],\n",
       "        [3],\n",
       "        [3]]),\n",
       " array([[3],\n",
       "        [0],\n",
       "        [3],\n",
       "        [4]]),\n",
       " array([[3],\n",
       "        [0],\n",
       "        [4],\n",
       "        [0]]),\n",
       " array([[3],\n",
       "        [0],\n",
       "        [4],\n",
       "        [1]]),\n",
       " array([[3],\n",
       "        [0],\n",
       "        [4],\n",
       "        [2]]),\n",
       " array([[3],\n",
       "        [0],\n",
       "        [4],\n",
       "        [3]]),\n",
       " array([[3],\n",
       "        [0],\n",
       "        [4],\n",
       "        [4]]),\n",
       " array([[3],\n",
       "        [1],\n",
       "        [0],\n",
       "        [0]]),\n",
       " array([[3],\n",
       "        [1],\n",
       "        [0],\n",
       "        [1]]),\n",
       " array([[3],\n",
       "        [1],\n",
       "        [0],\n",
       "        [2]]),\n",
       " array([[3],\n",
       "        [1],\n",
       "        [0],\n",
       "        [3]]),\n",
       " array([[3],\n",
       "        [1],\n",
       "        [0],\n",
       "        [4]]),\n",
       " array([[3],\n",
       "        [1],\n",
       "        [1],\n",
       "        [0]]),\n",
       " array([[3],\n",
       "        [1],\n",
       "        [1],\n",
       "        [1]]),\n",
       " array([[3],\n",
       "        [1],\n",
       "        [1],\n",
       "        [2]]),\n",
       " array([[3],\n",
       "        [1],\n",
       "        [1],\n",
       "        [3]]),\n",
       " array([[3],\n",
       "        [1],\n",
       "        [1],\n",
       "        [4]]),\n",
       " array([[3],\n",
       "        [1],\n",
       "        [2],\n",
       "        [0]]),\n",
       " array([[3],\n",
       "        [1],\n",
       "        [2],\n",
       "        [1]]),\n",
       " array([[3],\n",
       "        [1],\n",
       "        [2],\n",
       "        [2]]),\n",
       " array([[3],\n",
       "        [1],\n",
       "        [2],\n",
       "        [3]]),\n",
       " array([[3],\n",
       "        [1],\n",
       "        [2],\n",
       "        [4]]),\n",
       " array([[3],\n",
       "        [1],\n",
       "        [3],\n",
       "        [0]]),\n",
       " array([[3],\n",
       "        [1],\n",
       "        [3],\n",
       "        [1]]),\n",
       " array([[3],\n",
       "        [1],\n",
       "        [3],\n",
       "        [2]]),\n",
       " array([[3],\n",
       "        [1],\n",
       "        [3],\n",
       "        [3]]),\n",
       " array([[3],\n",
       "        [1],\n",
       "        [3],\n",
       "        [4]]),\n",
       " array([[3],\n",
       "        [1],\n",
       "        [4],\n",
       "        [0]]),\n",
       " array([[3],\n",
       "        [1],\n",
       "        [4],\n",
       "        [1]]),\n",
       " array([[3],\n",
       "        [1],\n",
       "        [4],\n",
       "        [2]]),\n",
       " array([[3],\n",
       "        [1],\n",
       "        [4],\n",
       "        [3]]),\n",
       " array([[3],\n",
       "        [1],\n",
       "        [4],\n",
       "        [4]]),\n",
       " array([[3],\n",
       "        [2],\n",
       "        [0],\n",
       "        [0]]),\n",
       " array([[3],\n",
       "        [2],\n",
       "        [0],\n",
       "        [1]]),\n",
       " array([[3],\n",
       "        [2],\n",
       "        [0],\n",
       "        [2]]),\n",
       " array([[3],\n",
       "        [2],\n",
       "        [0],\n",
       "        [3]]),\n",
       " array([[3],\n",
       "        [2],\n",
       "        [0],\n",
       "        [4]]),\n",
       " array([[3],\n",
       "        [2],\n",
       "        [1],\n",
       "        [0]]),\n",
       " array([[3],\n",
       "        [2],\n",
       "        [1],\n",
       "        [1]]),\n",
       " array([[3],\n",
       "        [2],\n",
       "        [1],\n",
       "        [2]]),\n",
       " array([[3],\n",
       "        [2],\n",
       "        [1],\n",
       "        [3]]),\n",
       " array([[3],\n",
       "        [2],\n",
       "        [1],\n",
       "        [4]]),\n",
       " array([[3],\n",
       "        [2],\n",
       "        [2],\n",
       "        [0]]),\n",
       " array([[3],\n",
       "        [2],\n",
       "        [2],\n",
       "        [1]]),\n",
       " array([[3],\n",
       "        [2],\n",
       "        [2],\n",
       "        [2]]),\n",
       " array([[3],\n",
       "        [2],\n",
       "        [2],\n",
       "        [3]]),\n",
       " array([[3],\n",
       "        [2],\n",
       "        [2],\n",
       "        [4]]),\n",
       " array([[3],\n",
       "        [2],\n",
       "        [3],\n",
       "        [0]]),\n",
       " array([[3],\n",
       "        [2],\n",
       "        [3],\n",
       "        [1]]),\n",
       " array([[3],\n",
       "        [2],\n",
       "        [3],\n",
       "        [2]]),\n",
       " array([[3],\n",
       "        [2],\n",
       "        [3],\n",
       "        [3]]),\n",
       " array([[3],\n",
       "        [2],\n",
       "        [3],\n",
       "        [4]]),\n",
       " array([[3],\n",
       "        [2],\n",
       "        [4],\n",
       "        [0]]),\n",
       " array([[3],\n",
       "        [2],\n",
       "        [4],\n",
       "        [1]]),\n",
       " array([[3],\n",
       "        [2],\n",
       "        [4],\n",
       "        [2]]),\n",
       " array([[3],\n",
       "        [2],\n",
       "        [4],\n",
       "        [3]]),\n",
       " array([[3],\n",
       "        [2],\n",
       "        [4],\n",
       "        [4]]),\n",
       " array([[3],\n",
       "        [3],\n",
       "        [0],\n",
       "        [0]]),\n",
       " array([[3],\n",
       "        [3],\n",
       "        [0],\n",
       "        [1]]),\n",
       " array([[3],\n",
       "        [3],\n",
       "        [0],\n",
       "        [2]]),\n",
       " array([[3],\n",
       "        [3],\n",
       "        [0],\n",
       "        [3]]),\n",
       " array([[3],\n",
       "        [3],\n",
       "        [0],\n",
       "        [4]]),\n",
       " array([[3],\n",
       "        [3],\n",
       "        [1],\n",
       "        [0]]),\n",
       " array([[3],\n",
       "        [3],\n",
       "        [1],\n",
       "        [1]]),\n",
       " array([[3],\n",
       "        [3],\n",
       "        [1],\n",
       "        [2]]),\n",
       " array([[3],\n",
       "        [3],\n",
       "        [1],\n",
       "        [3]]),\n",
       " array([[3],\n",
       "        [3],\n",
       "        [1],\n",
       "        [4]]),\n",
       " array([[3],\n",
       "        [3],\n",
       "        [2],\n",
       "        [0]]),\n",
       " array([[3],\n",
       "        [3],\n",
       "        [2],\n",
       "        [1]]),\n",
       " array([[3],\n",
       "        [3],\n",
       "        [2],\n",
       "        [2]]),\n",
       " array([[3],\n",
       "        [3],\n",
       "        [2],\n",
       "        [3]]),\n",
       " array([[3],\n",
       "        [3],\n",
       "        [2],\n",
       "        [4]]),\n",
       " array([[3],\n",
       "        [3],\n",
       "        [3],\n",
       "        [0]]),\n",
       " array([[3],\n",
       "        [3],\n",
       "        [3],\n",
       "        [1]]),\n",
       " array([[3],\n",
       "        [3],\n",
       "        [3],\n",
       "        [2]]),\n",
       " array([[3],\n",
       "        [3],\n",
       "        [3],\n",
       "        [3]]),\n",
       " array([[3],\n",
       "        [3],\n",
       "        [3],\n",
       "        [4]]),\n",
       " array([[3],\n",
       "        [3],\n",
       "        [4],\n",
       "        [0]]),\n",
       " array([[3],\n",
       "        [3],\n",
       "        [4],\n",
       "        [1]]),\n",
       " array([[3],\n",
       "        [3],\n",
       "        [4],\n",
       "        [2]]),\n",
       " array([[3],\n",
       "        [3],\n",
       "        [4],\n",
       "        [3]]),\n",
       " array([[3],\n",
       "        [3],\n",
       "        [4],\n",
       "        [4]]),\n",
       " array([[3],\n",
       "        [4],\n",
       "        [0],\n",
       "        [0]]),\n",
       " array([[3],\n",
       "        [4],\n",
       "        [0],\n",
       "        [1]]),\n",
       " array([[3],\n",
       "        [4],\n",
       "        [0],\n",
       "        [2]]),\n",
       " array([[3],\n",
       "        [4],\n",
       "        [0],\n",
       "        [3]]),\n",
       " array([[3],\n",
       "        [4],\n",
       "        [0],\n",
       "        [4]]),\n",
       " array([[3],\n",
       "        [4],\n",
       "        [1],\n",
       "        [0]]),\n",
       " array([[3],\n",
       "        [4],\n",
       "        [1],\n",
       "        [1]]),\n",
       " array([[3],\n",
       "        [4],\n",
       "        [1],\n",
       "        [2]]),\n",
       " array([[3],\n",
       "        [4],\n",
       "        [1],\n",
       "        [3]]),\n",
       " array([[3],\n",
       "        [4],\n",
       "        [1],\n",
       "        [4]]),\n",
       " array([[3],\n",
       "        [4],\n",
       "        [2],\n",
       "        [0]]),\n",
       " array([[3],\n",
       "        [4],\n",
       "        [2],\n",
       "        [1]]),\n",
       " array([[3],\n",
       "        [4],\n",
       "        [2],\n",
       "        [2]]),\n",
       " array([[3],\n",
       "        [4],\n",
       "        [2],\n",
       "        [3]]),\n",
       " array([[3],\n",
       "        [4],\n",
       "        [2],\n",
       "        [4]]),\n",
       " array([[3],\n",
       "        [4],\n",
       "        [3],\n",
       "        [0]]),\n",
       " array([[3],\n",
       "        [4],\n",
       "        [3],\n",
       "        [1]]),\n",
       " array([[3],\n",
       "        [4],\n",
       "        [3],\n",
       "        [2]]),\n",
       " array([[3],\n",
       "        [4],\n",
       "        [3],\n",
       "        [3]]),\n",
       " array([[3],\n",
       "        [4],\n",
       "        [3],\n",
       "        [4]]),\n",
       " array([[3],\n",
       "        [4],\n",
       "        [4],\n",
       "        [0]]),\n",
       " array([[3],\n",
       "        [4],\n",
       "        [4],\n",
       "        [1]]),\n",
       " array([[3],\n",
       "        [4],\n",
       "        [4],\n",
       "        [2]]),\n",
       " array([[3],\n",
       "        [4],\n",
       "        [4],\n",
       "        [3]]),\n",
       " array([[3],\n",
       "        [4],\n",
       "        [4],\n",
       "        [4]]),\n",
       " array([[4],\n",
       "        [0],\n",
       "        [0],\n",
       "        [0]]),\n",
       " array([[4],\n",
       "        [0],\n",
       "        [0],\n",
       "        [1]]),\n",
       " array([[4],\n",
       "        [0],\n",
       "        [0],\n",
       "        [2]]),\n",
       " array([[4],\n",
       "        [0],\n",
       "        [0],\n",
       "        [3]]),\n",
       " array([[4],\n",
       "        [0],\n",
       "        [0],\n",
       "        [4]]),\n",
       " array([[4],\n",
       "        [0],\n",
       "        [1],\n",
       "        [0]]),\n",
       " array([[4],\n",
       "        [0],\n",
       "        [1],\n",
       "        [1]]),\n",
       " array([[4],\n",
       "        [0],\n",
       "        [1],\n",
       "        [2]]),\n",
       " array([[4],\n",
       "        [0],\n",
       "        [1],\n",
       "        [3]]),\n",
       " array([[4],\n",
       "        [0],\n",
       "        [1],\n",
       "        [4]]),\n",
       " array([[4],\n",
       "        [0],\n",
       "        [2],\n",
       "        [0]]),\n",
       " array([[4],\n",
       "        [0],\n",
       "        [2],\n",
       "        [1]]),\n",
       " array([[4],\n",
       "        [0],\n",
       "        [2],\n",
       "        [2]]),\n",
       " array([[4],\n",
       "        [0],\n",
       "        [2],\n",
       "        [3]]),\n",
       " array([[4],\n",
       "        [0],\n",
       "        [2],\n",
       "        [4]]),\n",
       " array([[4],\n",
       "        [0],\n",
       "        [3],\n",
       "        [0]]),\n",
       " array([[4],\n",
       "        [0],\n",
       "        [3],\n",
       "        [1]]),\n",
       " array([[4],\n",
       "        [0],\n",
       "        [3],\n",
       "        [2]]),\n",
       " array([[4],\n",
       "        [0],\n",
       "        [3],\n",
       "        [3]]),\n",
       " array([[4],\n",
       "        [0],\n",
       "        [3],\n",
       "        [4]]),\n",
       " array([[4],\n",
       "        [0],\n",
       "        [4],\n",
       "        [0]]),\n",
       " array([[4],\n",
       "        [0],\n",
       "        [4],\n",
       "        [1]]),\n",
       " array([[4],\n",
       "        [0],\n",
       "        [4],\n",
       "        [2]]),\n",
       " array([[4],\n",
       "        [0],\n",
       "        [4],\n",
       "        [3]]),\n",
       " array([[4],\n",
       "        [0],\n",
       "        [4],\n",
       "        [4]]),\n",
       " array([[4],\n",
       "        [1],\n",
       "        [0],\n",
       "        [0]]),\n",
       " array([[4],\n",
       "        [1],\n",
       "        [0],\n",
       "        [1]]),\n",
       " array([[4],\n",
       "        [1],\n",
       "        [0],\n",
       "        [2]]),\n",
       " array([[4],\n",
       "        [1],\n",
       "        [0],\n",
       "        [3]]),\n",
       " array([[4],\n",
       "        [1],\n",
       "        [0],\n",
       "        [4]]),\n",
       " array([[4],\n",
       "        [1],\n",
       "        [1],\n",
       "        [0]]),\n",
       " array([[4],\n",
       "        [1],\n",
       "        [1],\n",
       "        [1]]),\n",
       " array([[4],\n",
       "        [1],\n",
       "        [1],\n",
       "        [2]]),\n",
       " array([[4],\n",
       "        [1],\n",
       "        [1],\n",
       "        [3]]),\n",
       " array([[4],\n",
       "        [1],\n",
       "        [1],\n",
       "        [4]]),\n",
       " array([[4],\n",
       "        [1],\n",
       "        [2],\n",
       "        [0]]),\n",
       " array([[4],\n",
       "        [1],\n",
       "        [2],\n",
       "        [1]]),\n",
       " array([[4],\n",
       "        [1],\n",
       "        [2],\n",
       "        [2]]),\n",
       " array([[4],\n",
       "        [1],\n",
       "        [2],\n",
       "        [3]]),\n",
       " array([[4],\n",
       "        [1],\n",
       "        [2],\n",
       "        [4]]),\n",
       " array([[4],\n",
       "        [1],\n",
       "        [3],\n",
       "        [0]]),\n",
       " array([[4],\n",
       "        [1],\n",
       "        [3],\n",
       "        [1]]),\n",
       " array([[4],\n",
       "        [1],\n",
       "        [3],\n",
       "        [2]]),\n",
       " array([[4],\n",
       "        [1],\n",
       "        [3],\n",
       "        [3]]),\n",
       " array([[4],\n",
       "        [1],\n",
       "        [3],\n",
       "        [4]]),\n",
       " array([[4],\n",
       "        [1],\n",
       "        [4],\n",
       "        [0]]),\n",
       " array([[4],\n",
       "        [1],\n",
       "        [4],\n",
       "        [1]]),\n",
       " array([[4],\n",
       "        [1],\n",
       "        [4],\n",
       "        [2]]),\n",
       " array([[4],\n",
       "        [1],\n",
       "        [4],\n",
       "        [3]]),\n",
       " array([[4],\n",
       "        [1],\n",
       "        [4],\n",
       "        [4]]),\n",
       " array([[4],\n",
       "        [2],\n",
       "        [0],\n",
       "        [0]]),\n",
       " array([[4],\n",
       "        [2],\n",
       "        [0],\n",
       "        [1]]),\n",
       " array([[4],\n",
       "        [2],\n",
       "        [0],\n",
       "        [2]]),\n",
       " array([[4],\n",
       "        [2],\n",
       "        [0],\n",
       "        [3]]),\n",
       " array([[4],\n",
       "        [2],\n",
       "        [0],\n",
       "        [4]]),\n",
       " array([[4],\n",
       "        [2],\n",
       "        [1],\n",
       "        [0]]),\n",
       " array([[4],\n",
       "        [2],\n",
       "        [1],\n",
       "        [1]]),\n",
       " array([[4],\n",
       "        [2],\n",
       "        [1],\n",
       "        [2]]),\n",
       " array([[4],\n",
       "        [2],\n",
       "        [1],\n",
       "        [3]]),\n",
       " array([[4],\n",
       "        [2],\n",
       "        [1],\n",
       "        [4]]),\n",
       " array([[4],\n",
       "        [2],\n",
       "        [2],\n",
       "        [0]]),\n",
       " array([[4],\n",
       "        [2],\n",
       "        [2],\n",
       "        [1]]),\n",
       " array([[4],\n",
       "        [2],\n",
       "        [2],\n",
       "        [2]]),\n",
       " array([[4],\n",
       "        [2],\n",
       "        [2],\n",
       "        [3]]),\n",
       " array([[4],\n",
       "        [2],\n",
       "        [2],\n",
       "        [4]]),\n",
       " array([[4],\n",
       "        [2],\n",
       "        [3],\n",
       "        [0]]),\n",
       " array([[4],\n",
       "        [2],\n",
       "        [3],\n",
       "        [1]]),\n",
       " array([[4],\n",
       "        [2],\n",
       "        [3],\n",
       "        [2]]),\n",
       " array([[4],\n",
       "        [2],\n",
       "        [3],\n",
       "        [3]]),\n",
       " array([[4],\n",
       "        [2],\n",
       "        [3],\n",
       "        [4]]),\n",
       " array([[4],\n",
       "        [2],\n",
       "        [4],\n",
       "        [0]]),\n",
       " array([[4],\n",
       "        [2],\n",
       "        [4],\n",
       "        [1]]),\n",
       " array([[4],\n",
       "        [2],\n",
       "        [4],\n",
       "        [2]]),\n",
       " array([[4],\n",
       "        [2],\n",
       "        [4],\n",
       "        [3]]),\n",
       " array([[4],\n",
       "        [2],\n",
       "        [4],\n",
       "        [4]]),\n",
       " array([[4],\n",
       "        [3],\n",
       "        [0],\n",
       "        [0]]),\n",
       " array([[4],\n",
       "        [3],\n",
       "        [0],\n",
       "        [1]]),\n",
       " array([[4],\n",
       "        [3],\n",
       "        [0],\n",
       "        [2]]),\n",
       " array([[4],\n",
       "        [3],\n",
       "        [0],\n",
       "        [3]]),\n",
       " array([[4],\n",
       "        [3],\n",
       "        [0],\n",
       "        [4]]),\n",
       " array([[4],\n",
       "        [3],\n",
       "        [1],\n",
       "        [0]]),\n",
       " array([[4],\n",
       "        [3],\n",
       "        [1],\n",
       "        [1]]),\n",
       " array([[4],\n",
       "        [3],\n",
       "        [1],\n",
       "        [2]]),\n",
       " array([[4],\n",
       "        [3],\n",
       "        [1],\n",
       "        [3]]),\n",
       " array([[4],\n",
       "        [3],\n",
       "        [1],\n",
       "        [4]]),\n",
       " array([[4],\n",
       "        [3],\n",
       "        [2],\n",
       "        [0]]),\n",
       " array([[4],\n",
       "        [3],\n",
       "        [2],\n",
       "        [1]]),\n",
       " array([[4],\n",
       "        [3],\n",
       "        [2],\n",
       "        [2]]),\n",
       " array([[4],\n",
       "        [3],\n",
       "        [2],\n",
       "        [3]]),\n",
       " array([[4],\n",
       "        [3],\n",
       "        [2],\n",
       "        [4]]),\n",
       " array([[4],\n",
       "        [3],\n",
       "        [3],\n",
       "        [0]]),\n",
       " array([[4],\n",
       "        [3],\n",
       "        [3],\n",
       "        [1]]),\n",
       " array([[4],\n",
       "        [3],\n",
       "        [3],\n",
       "        [2]]),\n",
       " array([[4],\n",
       "        [3],\n",
       "        [3],\n",
       "        [3]]),\n",
       " array([[4],\n",
       "        [3],\n",
       "        [3],\n",
       "        [4]]),\n",
       " array([[4],\n",
       "        [3],\n",
       "        [4],\n",
       "        [0]]),\n",
       " array([[4],\n",
       "        [3],\n",
       "        [4],\n",
       "        [1]]),\n",
       " array([[4],\n",
       "        [3],\n",
       "        [4],\n",
       "        [2]]),\n",
       " array([[4],\n",
       "        [3],\n",
       "        [4],\n",
       "        [3]]),\n",
       " array([[4],\n",
       "        [3],\n",
       "        [4],\n",
       "        [4]]),\n",
       " array([[4],\n",
       "        [4],\n",
       "        [0],\n",
       "        [0]]),\n",
       " array([[4],\n",
       "        [4],\n",
       "        [0],\n",
       "        [1]]),\n",
       " array([[4],\n",
       "        [4],\n",
       "        [0],\n",
       "        [2]]),\n",
       " array([[4],\n",
       "        [4],\n",
       "        [0],\n",
       "        [3]]),\n",
       " array([[4],\n",
       "        [4],\n",
       "        [0],\n",
       "        [4]]),\n",
       " array([[4],\n",
       "        [4],\n",
       "        [1],\n",
       "        [0]]),\n",
       " array([[4],\n",
       "        [4],\n",
       "        [1],\n",
       "        [1]]),\n",
       " array([[4],\n",
       "        [4],\n",
       "        [1],\n",
       "        [2]]),\n",
       " array([[4],\n",
       "        [4],\n",
       "        [1],\n",
       "        [3]]),\n",
       " array([[4],\n",
       "        [4],\n",
       "        [1],\n",
       "        [4]]),\n",
       " array([[4],\n",
       "        [4],\n",
       "        [2],\n",
       "        [0]]),\n",
       " array([[4],\n",
       "        [4],\n",
       "        [2],\n",
       "        [1]]),\n",
       " array([[4],\n",
       "        [4],\n",
       "        [2],\n",
       "        [2]]),\n",
       " array([[4],\n",
       "        [4],\n",
       "        [2],\n",
       "        [3]]),\n",
       " array([[4],\n",
       "        [4],\n",
       "        [2],\n",
       "        [4]]),\n",
       " array([[4],\n",
       "        [4],\n",
       "        [3],\n",
       "        [0]]),\n",
       " array([[4],\n",
       "        [4],\n",
       "        [3],\n",
       "        [1]]),\n",
       " array([[4],\n",
       "        [4],\n",
       "        [3],\n",
       "        [2]]),\n",
       " array([[4],\n",
       "        [4],\n",
       "        [3],\n",
       "        [3]]),\n",
       " array([[4],\n",
       "        [4],\n",
       "        [3],\n",
       "        [4]]),\n",
       " array([[4],\n",
       "        [4],\n",
       "        [4],\n",
       "        [0]]),\n",
       " array([[4],\n",
       "        [4],\n",
       "        [4],\n",
       "        [1]]),\n",
       " array([[4],\n",
       "        [4],\n",
       "        [4],\n",
       "        [2]]),\n",
       " array([[4],\n",
       "        [4],\n",
       "        [4],\n",
       "        [3]]),\n",
       " array([[4],\n",
       "        [4],\n",
       "        [4],\n",
       "        [4]])]"
      ]
     },
     "execution_count": 39,
     "metadata": {},
     "output_type": "execute_result"
    }
   ],
   "source": [
    "all_policies"
   ]
  },
  {
   "cell_type": "markdown",
   "metadata": {
    "id": "QKA_YdDS5Qo2"
   },
   "source": [
    "## Now let's re-write our expected free energy function, but now we loop over policies (sequences of actions), rather than actions (1-step policies)"
   ]
  },
  {
   "cell_type": "code",
   "execution_count": 31,
   "metadata": {
    "id": "PJyzseqi4__8"
   },
   "outputs": [],
   "source": [
    "def calculate_G_policies(A, B, C, qs_current, policies):\n",
    "\n",
    "  G = np.zeros(len(policies)) # initialize the vector of expected free energies, one per policy\n",
    "\n",
    "  \"\"\"\n",
    "  Fill out the maths here \n",
    "  \"\"\"\n",
    "\n",
    "  return G"
   ]
  },
  {
   "cell_type": "markdown",
   "metadata": {
    "id": "jofLVCH7quQp"
   },
   "source": [
    "### *Solution*"
   ]
  },
  {
   "cell_type": "code",
   "execution_count": 32,
   "metadata": {
    "id": "gtv6cvy2qvtT"
   },
   "outputs": [],
   "source": [
    "def calculate_G_policies(A, B, C, qs_current, policies):\n",
    "\n",
    "  G = np.zeros(len(policies)) # initialize the vector of expected free energies, one per policy\n",
    "  H_A = entropy(A)            # can calculate the entropy of the A matrix beforehand, since it'll be the same for all policies\n",
    "\n",
    "  for policy_id, policy in enumerate(policies): # loop over policies - policy_id will be the linear index of the policy (0, 1, 2, ...) and `policy` will be a column vector where `policy[t,0]` indexes the action entailed by that policy at time `t`\n",
    "\n",
    "    t_horizon = policy.shape[0] # temporal depth of the policy\n",
    "\n",
    "    G_pi = 0.0 # initialize expected free energy for this policy\n",
    "\n",
    "    for t in range(t_horizon): # loop over temporal depth of the policy\n",
    "\n",
    "      action = policy[t,0] # action entailed by this particular policy, at time `t`\n",
    "\n",
    "      # get the past predictive posterior - which is either your current posterior at the current time (not the policy time) or the predictive posterior entailed by this policy, one timstep ago (in policy time)\n",
    "      if t == 0:\n",
    "        qs_prev = qs_current \n",
    "      else:\n",
    "        qs_prev = qs_pi_t\n",
    "        \n",
    "      qs_pi_t = get_expected_states(B, qs_prev, action) # expected states, under the action entailed by the policy at this particular time\n",
    "      qo_pi_t = get_expected_observations(A, qs_pi_t)   # expected observations, under the action entailed by the policy at this particular time\n",
    "\n",
    "      kld = kl_divergence(qo_pi_t, C) # Kullback-Leibler divergence between expected observations and the prior preferences C\n",
    "\n",
    "      G_pi_t = H_A.dot(qs_pi_t) + kld # predicted uncertainty + predicted divergence, for this policy & timepoint\n",
    "\n",
    "      G_pi += G_pi_t # accumulate the expected free energy for each timepoint into the overall EFE for the policy\n",
    "\n",
    "    G[policy_id] += G_pi\n",
    "  \n",
    "  return G\n"
   ]
  },
  {
   "cell_type": "markdown",
   "metadata": {
    "id": "kYYRyszL9L00"
   },
   "source": [
    "## Now let's write a function for computing the action posterior, given the posterior probability of each policy:"
   ]
  },
  {
   "cell_type": "code",
   "execution_count": 33,
   "metadata": {
    "id": "a7mesI2Y9RmU"
   },
   "outputs": [],
   "source": [
    "def compute_prob_actions(actions, policies, Q_pi):\n",
    "  \n",
    "  P_u = np.zeros(len(actions)) # initialize the vector of probabilities of each action\n",
    "\n",
    "  \"\"\"\n",
    "  Fill out the maths here \n",
    "  \"\"\"\n",
    "\n",
    "  return P_u\n"
   ]
  },
  {
   "cell_type": "markdown",
   "metadata": {
    "id": "_Bpows4RsRLd"
   },
   "source": [
    "### *Solution*"
   ]
  },
  {
   "cell_type": "code",
   "execution_count": 34,
   "metadata": {
    "id": "VvxYGhuwsSp9"
   },
   "outputs": [],
   "source": [
    "def compute_prob_actions(actions, policies, Q_pi):\n",
    "  P_u = np.zeros(len(actions)) # initialize the vector of probabilities of each action\n",
    "\n",
    "  for policy_id, policy in enumerate(policies):\n",
    "    P_u[int(policy[0,0])] += Q_pi[policy_id] # get the marginal probability for the given action, entailed by this policy at the first timestep\n",
    "  \n",
    "  P_u = utils.norm_dist(P_u) # normalize the action probabilities\n",
    "  \n",
    "  return P_u"
   ]
  },
  {
   "cell_type": "markdown",
   "metadata": {
    "id": "Do8CftUd6Vq2"
   },
   "source": [
    "## Now we can write a new active inference function, that uses temporally-deep planning"
   ]
  },
  {
   "cell_type": "code",
   "execution_count": 35,
   "metadata": {
    "id": "UZ6pEQgHvlxo"
   },
   "outputs": [],
   "source": [
    "def active_inference_with_planning(A, B, C, D, n_actions, env, policy_len = 2, T = 5):\n",
    "\n",
    "  \"\"\" Initialize prior, first observation, and policies \"\"\"\n",
    "\n",
    "  for t in range(T):\n",
    "\n",
    "    \"\"\" Fill this out \"\"\"\n",
    "\n",
    "  return qs_current"
   ]
  },
  {
   "cell_type": "markdown",
   "metadata": {
    "id": "JLPPVtrysl41"
   },
   "source": [
    "### *Solution*"
   ]
  },
  {
   "cell_type": "code",
   "execution_count": 36,
   "metadata": {
    "id": "d4YrbkGWslC-"
   },
   "outputs": [],
   "source": [
    "def active_inference_with_planning(A, B, C, D, n_actions, env, policy_len = 2, T = 5):\n",
    "\n",
    "  \"\"\" Initialize prior, first observation, and policies \"\"\"\n",
    "  \n",
    "  prior = D # initial prior should be the D vector\n",
    "\n",
    "  obs = env.reset() # get the initial observation\n",
    "\n",
    "  policies = construct_policies([n_states], [n_actions], policy_len = policy_len)\n",
    "\n",
    "  for t in range(T):\n",
    "\n",
    "    print(f'Time {t}: Agent observes itself in location: {obs}')\n",
    "\n",
    "    # convert the observation into the agent's observational state space (in terms of 0 through 8)\n",
    "    obs_idx = grid_locations.index(obs)\n",
    "\n",
    "    # perform inference over hidden states\n",
    "    qs_current = infer_states(obs_idx, A, prior)\n",
    "    plot_beliefs(qs_current, title_str = f\"Beliefs about location at time {t}\")\n",
    "\n",
    "    # calculate expected free energy of actions\n",
    "    G = calculate_G_policies(A, B, C, qs_current, policies)\n",
    "\n",
    "    # to get action posterior, we marginalize P(u|pi) with the probabilities of each policy Q(pi), given by \\sigma(-G)\n",
    "    Q_pi = softmax(-G)\n",
    "\n",
    "    # compute the probability of each action\n",
    "    P_u = compute_prob_actions(actions, policies, Q_pi)\n",
    "\n",
    "    # sample action from probability distribution over actions\n",
    "    chosen_action = utils.sample(P_u)\n",
    "\n",
    "    # compute prior for next timestep of inference\n",
    "    prior = B[:,:,chosen_action].dot(qs_current) \n",
    "\n",
    "    # step the generative process and get new observation\n",
    "    action_label = actions[chosen_action]\n",
    "    obs = env.step(action_label)\n",
    "  \n",
    "  return qs_current\n"
   ]
  },
  {
   "cell_type": "markdown",
   "metadata": {
    "id": "HXiiTwznw5bG"
   },
   "source": [
    "### Now run it to see if the agent is able to navigate to location `(2,2)`"
   ]
  },
  {
   "cell_type": "code",
   "execution_count": 49,
   "metadata": {
    "id": "Pn1WIMem6S_v"
   },
   "outputs": [
    {
     "name": "stdout",
     "output_type": "stream",
     "text": [
      "Starting state is (0, 0)\n",
      "Re-initialized location to (0, 0)\n",
      "..and sampled observation (0, 0)\n",
      "Time 0: Agent observes itself in location: (0, 0)\n"
     ]
    },
    {
     "data": {
      "image/png": "[encoded data removed]",
      "text/plain": [
       "<Figure size 432x288 with 1 Axes>"
      ]
     },
     "metadata": {},
     "output_type": "display_data"
    },
    {
     "name": "stdout",
     "output_type": "stream",
     "text": [
      "Time 1: Agent observes itself in location: (0, 1)\n"
     ]
    },
    {
     "data": {
      "image/png": "[encoded data removed]",
      "text/plain": [
       "<Figure size 432x288 with 1 Axes>"
      ]
     },
     "metadata": {},
     "output_type": "display_data"
    },
    {
     "name": "stdout",
     "output_type": "stream",
     "text": [
      "Time 2: Agent observes itself in location: (1, 1)\n"
     ]
    },
    {
     "data": {
      "image/png": "[encoded data removed]",
      "text/plain": [
       "<Figure size 432x288 with 1 Axes>"
      ]
     },
     "metadata": {},
     "output_type": "display_data"
    },
    {
     "name": "stdout",
     "output_type": "stream",
     "text": [
      "Time 3: Agent observes itself in location: (2, 1)\n"
     ]
    },
    {
     "data": {
      "image/png": "[encoded data removed]",
      "text/plain": [
       "<Figure size 432x288 with 1 Axes>"
      ]
     },
     "metadata": {},
     "output_type": "display_data"
    },
    {
     "name": "stdout",
     "output_type": "stream",
     "text": [
      "Time 4: Agent observes itself in location: (2, 2)\n"
     ]
    },
    {
     "data": {
      "image/png": "[encoded data removed]",
      "text/plain": [
       "<Figure size 432x288 with 1 Axes>"
      ]
     },
     "metadata": {},
     "output_type": "display_data"
    },
    {
     "name": "stdout",
     "output_type": "stream",
     "text": [
      "Time 5: Agent observes itself in location: (2, 2)\n"
     ]
    },
    {
     "data": {
      "image/png": "[encoded data removed]",
      "text/plain": [
       "<Figure size 432x288 with 1 Axes>"
      ]
     },
     "metadata": {},
     "output_type": "display_data"
    }
   ],
   "source": [
    "D = utils.onehot(grid_locations.index((0,0)), n_states) # let's have the agent believe it starts in location (0,0) (upper left corner) \n",
    "env = GridWorldEnv(starting_state = (0,0))\n",
    "qs_final = active_inference_with_planning(A, B, C, D, n_actions, env, policy_len = 3, T = 6)"
   ]
  },
  {
   "cell_type": "code",
   "execution_count": 40,
   "metadata": {},
   "outputs": [
    {
     "data": {
      "text/plain": [
       "array([1.e-32, 1.e-32, 1.e-32, 1.e-32, 1.e-32, 1.e-32, 1.e-32, 1.e+00,\n",
       "       1.e-32])"
      ]
     },
     "execution_count": 40,
     "metadata": {},
     "output_type": "execute_result"
    }
   ],
   "source": [
    "qs_final"
   ]
  },
  {
   "cell_type": "code",
   "execution_count": null,
   "metadata": {},
   "outputs": [],
   "source": []
  }
 ],
 "metadata": {
  "colab": {
   "collapsed_sections": [
    "ttPFk03l8PDa",
    "E519ke5jNOIX",
    "Hi0XgIjzPrYX",
    "hBrU3E67QCYB",
    "pN1-wqky3yRH",
    "6HAHCc7bT5eC",
    "jofLVCH7quQp",
    "_Bpows4RsRLd",
    "JLPPVtrysl41"
   ],
   "name": "Active Inference Tutorial, Part I",
   "provenance": []
  },
  "kernelspec": {
   "display_name": "Python 3 (ipykernel)",
   "language": "python",
   "name": "python3"
  },
  "language_info": {
   "codemirror_mode": {
    "name": "ipython",
    "version": 3
   },
   "file_extension": ".py",
   "mimetype": "text/x-python",
   "name": "python",
   "nbconvert_exporter": "python",
   "pygments_lexer": "ipython3",
   "version": "3.9.12"
  }
 },
 "nbformat": 4,
 "nbformat_minor": 1
}
