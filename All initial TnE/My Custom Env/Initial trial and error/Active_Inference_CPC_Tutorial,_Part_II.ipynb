{
 "cells": [
  {
   "cell_type": "markdown",
   "metadata": {
    "id": "pNEs7OkBaOl7"
   },
   "source": [
    "## **Imports some helpful libraries, most importantly `numpy`**"
   ]
  },
  {
   "cell_type": "code",
   "execution_count": 3,
   "metadata": {
    "id": "hk0kXw1RRmTf"
   },
   "outputs": [],
   "source": [
    "import numpy as np\n",
    "import matplotlib.pyplot as plt\n",
    "import seaborn as sns"
   ]
  },
  {
   "cell_type": "markdown",
   "metadata": {
    "id": "iSS6oO3RWrwp"
   },
   "source": [
    "## **Auxiliary functions**\n",
    "\n",
    "### Here are some plotting functions that will come in handy throughout the tutorial. Please define these functions by running the cells below before proceeding with the rest of the exercise."
   ]
  },
  {
   "cell_type": "code",
   "execution_count": 2,
   "metadata": {
    "id": "Y0QiIF8SWxot"
   },
   "outputs": [],
   "source": [
    "def plot_likelihood(matrix, title_str = \"Likelihood distribution (A)\"):\n",
    "    \"\"\"\n",
    "    Plots a 2-D likelihood matrix as a heatmap\n",
    "    \"\"\"\n",
    "\n",
    "    if not np.isclose(matrix.sum(axis=0), 1.0).all():\n",
    "      raise ValueError(\"Distribution not column-normalized! Please normalize (ensure matrix.sum(axis=0) == 1.0 for all columns)\")\n",
    "    \n",
    "    fig = plt.figure(figsize = (6,6))\n",
    "    ax = sns.heatmap(matrix, cmap = 'gray', cbar = False, vmin = 0.0, vmax = 1.0)\n",
    "    plt.title(title_str)\n",
    "    plt.show()\n",
    "\n",
    "\n",
    "def plot_beliefs(belief_dist, title_str=\"\"):\n",
    "    \"\"\"\n",
    "    Plot a categorical distribution or belief distribution, stored in the 1-D numpy vector `belief_dist`\n",
    "    \"\"\"\n",
    "\n",
    "    if not np.isclose(belief_dist.sum(), 1.0):\n",
    "      raise ValueError(\"Distribution not normalized! Please normalize\")\n",
    "\n",
    "    plt.grid(zorder=0)\n",
    "    plt.bar(range(belief_dist.shape[0]), belief_dist, color='r', zorder=3)\n",
    "    plt.xticks(range(belief_dist.shape[0]))\n",
    "    plt.title(title_str)\n",
    "    plt.show()"
   ]
  },
  {
   "cell_type": "markdown",
   "metadata": {
    "id": "qknzxudf593_"
   },
   "source": [
    "# **More complex generative models**\n",
    "\n",
    "## In this livecoding session we will build a more complicated generative model, with the following goals in mind:\n",
    "\n",
    "### 1. Demonstrate the unique behavior of active inference agents, as opposed to other agent-based approaches to solving POMDPs (e.g. utility-maximization / reinforcement learning)\n",
    "\n",
    "### 2. Provide a task example that is more relevant to decision-making research and computational psychiatry.\n",
    "\n",
    "### 3. Take advantage of the functionalities of `pymdp`, especially the `Agent()` class, to abstract away all the mathematical operations involved with inference and planning under active inference.\n",
    "\n",
    "\n",
    "## Before we dive into specifying this generative model, we need to talk about _observation modalities_ and _hidden state factors_...\n"
   ]
  },
  {
   "cell_type": "markdown",
   "metadata": {
    "id": "2YQ8gQrdkFE4"
   },
   "source": [
    "## The data structure we use in `pymdp` to represent different hidden state factors and observation modalities is the `object array` (referred to in other contexts as 'arrays of arrays' or 'jagged/ragged arrays').\n",
    "\n",
    "## They are no different than standard numpy `ndarrays` (they can arbitrarily multidimensional shape), except for the fact that their contents are unrestricted in terms of type. Their `dtype` is `object`, which means that their elements can be any kind of Python data structure -- including other arrays!\n",
    "\n",
    "## For those of you coming from a MATLAB background: these object arrays are the equivalent of cell arrays. \n",
    "\n",
    "## In `pymdp`, we represent a multi-factor $\\mathbf{B}$ array as an object array which has as many elements as there are hidden state factors. So in the case of our Grid-World example, our `B` array would have two sub-arrays, and each would be of shape `(3, 3, 3)`. Therefore, each element `B[i]` of the object array contains the `B` matrix for hidden state factor `i`."
   ]
  },
  {
   "cell_type": "code",
   "execution_count": 4,
   "metadata": {
    "id": "LE3k-jsQKAt3"
   },
   "outputs": [],
   "source": [
    "import pymdp\n",
    "from pymdp import utils\n",
    "import numpy as np"
   ]
  },
  {
   "cell_type": "markdown",
   "metadata": {
    "id": "A7Lif_CBaZVO"
   },
   "source": [
    "### Let's set up the dimensionalities of the hidden state factors and the control states"
   ]
  },
  {
   "cell_type": "code",
   "execution_count": 5,
   "metadata": {
    "id": "rGgFE62GnC-Y"
   },
   "outputs": [
    {
     "data": {
      "text/plain": [
       "2"
      ]
     },
     "execution_count": 5,
     "metadata": {},
     "output_type": "execute_result"
    }
   ],
   "source": [
    "\"\"\" Define dimensionalities of the hidden state factors and control state factors \"\"\"\n",
    "num_states = [3, 3] # a list of dimensionalities of each hidden state factor\n",
    "num_factors = len(num_states) # the total number of hidden state factors\n",
    "num_factors"
   ]
  },
  {
   "cell_type": "code",
   "execution_count": 6,
   "metadata": {
    "id": "rGgFE62GnC-Y"
   },
   "outputs": [
    {
     "data": {
      "text/plain": [
       "2"
      ]
     },
     "execution_count": 6,
     "metadata": {},
     "output_type": "execute_result"
    }
   ],
   "source": [
    "num_controls = [3, 3] # a list of the dimensionalities of each control state factor\n",
    "num_control_factors = len(num_controls) # the total number of control state factors\n",
    "num_control_factors"
   ]
  },
  {
   "cell_type": "code",
   "execution_count": 6,
   "metadata": {
    "id": "9EamGUpb4IHU"
   },
   "outputs": [
    {
     "data": {
      "text/plain": [
       "' Build an object array for storing the factor-specific B matrices '"
      ]
     },
     "execution_count": 6,
     "metadata": {},
     "output_type": "execute_result"
    }
   ],
   "source": [
    "\"\"\" Build an object array for storing the factor-specific B matrices \"\"\"\n",
    "# B = "
   ]
  },
  {
   "cell_type": "markdown",
   "metadata": {
    "id": "lu35jiGX4Iae"
   },
   "source": [
    "### *Solution* "
   ]
  },
  {
   "cell_type": "code",
   "execution_count": 7,
   "metadata": {
    "id": "bn-BNOUq4I5T"
   },
   "outputs": [
    {
     "data": {
      "text/plain": [
       "array([None, None], dtype=object)"
      ]
     },
     "execution_count": 7,
     "metadata": {},
     "output_type": "execute_result"
    }
   ],
   "source": [
    "B = utils.obj_array(num_factors)\n",
    "B"
   ]
  },
  {
   "cell_type": "markdown",
   "metadata": {
    "id": "yHlLECdDacE6"
   },
   "source": [
    "## Let's build the $\\mathbf{B}$ array, i.e. one $\\mathbf{B}$ matrix for each of the two hidden state factors of our new Grid World\n",
    "\n",
    "<img src=\"https://drive.google.com/uc?export=view&id=1aABVu57DxisLi9iTzcF0rngm8LQ1B5Uk\"/>\n"
   ]
  },
  {
   "cell_type": "code",
   "execution_count": 8,
   "metadata": {
    "id": "y_UrOs98nP-M"
   },
   "outputs": [],
   "source": [
    "for f, ns in enumerate(num_states):\n",
    "  \n",
    "  \"\"\" Initialize the B matrix for this factor \"\"\"\n",
    "  B[f] = np.zeros( (ns, ns, num_controls[f]))\n",
    "\n",
    "  # MOVE LEFT (or UP)\n",
    "\n",
    "  \"\"\" Fill this out \"\"\"\n",
    "  # B[f][...,0] = \n",
    "  \n",
    "  # MOVE RIGHT (or DOWN)\n",
    "  \"\"\" Fill this out \"\"\"\n",
    "  # B[f][...,1] = \n",
    "\n",
    "  # STAY\n",
    "  \"\"\" Fill this out \"\"\"\n",
    "  # B[f][...,2] = \n"
   ]
  },
  {
   "cell_type": "markdown",
   "metadata": {
    "id": "YLYvTB3s4O92"
   },
   "source": [
    "### *Solution*"
   ]
  },
  {
   "cell_type": "code",
   "execution_count": 8,
   "metadata": {
    "id": "UeGdW53W4PGP"
   },
   "outputs": [],
   "source": [
    "for f, ns in enumerate(num_states):\n",
    "  \n",
    "    \"\"\" Initialize the B matrix for this factor \"\"\"\n",
    "    B[f] = np.zeros( (ns, ns, num_controls[f]))\n",
    "\n",
    "    # MOVE LEFT (or UP)\n",
    "    B[f][0,0:2,0] = 1.0\n",
    "    B[f][1,2,0] = 1.0\n",
    "\n",
    "    # MOVE RIGHT (or DOWN)\n",
    "    B[f][1,0,1] = 1.0\n",
    "    B[f][2,1:,1] = 1.0\n",
    "\n",
    "    # STAY\n",
    "    B[f][:,:,2] = np.eye(ns)"
   ]
  },
  {
   "cell_type": "code",
   "execution_count": 10,
   "metadata": {},
   "outputs": [
    {
     "data": {
      "text/plain": [
       "array([1., 0., 0.])"
      ]
     },
     "execution_count": 10,
     "metadata": {},
     "output_type": "execute_result"
    }
   ],
   "source": [
    "B[0][:,0,0]"
   ]
  },
  {
   "cell_type": "markdown",
   "metadata": {
    "id": "lIsnWZGASU9Z"
   },
   "source": [
    "### Plot the B matrix"
   ]
  },
  {
   "cell_type": "code",
   "execution_count": 10,
   "metadata": {
    "id": "VNMfDL2C4T1q"
   },
   "outputs": [
    {
     "data": {
      "image/png": "[encoded data removed]",
      "text/plain": [
       "<Figure size 432x432 with 1 Axes>"
      ]
     },
     "metadata": {
      "needs_background": "light"
     },
     "output_type": "display_data"
    }
   ],
   "source": [
    "plot_likelihood(B[0][:,:,0], title_str = 'Move LEFT')"
   ]
  },
  {
   "cell_type": "code",
   "execution_count": 18,
   "metadata": {},
   "outputs": [
    {
     "ename": "IndexError",
     "evalue": "index 3 is out of bounds for axis 2 with size 3",
     "output_type": "error",
     "traceback": [
      "\u001b[1;31m---------------------------------------------------------------------------\u001b[0m",
      "\u001b[1;31mIndexError\u001b[0m                                Traceback (most recent call last)",
      "\u001b[1;32m<ipython-input-18-98fec54693fc>\u001b[0m in \u001b[0;36m<module>\u001b[1;34m\u001b[0m\n\u001b[1;32m----> 1\u001b[1;33m \u001b[0mB\u001b[0m\u001b[1;33m[\u001b[0m\u001b[1;36m0\u001b[0m\u001b[1;33m]\u001b[0m\u001b[1;33m[\u001b[0m\u001b[1;36m2\u001b[0m\u001b[1;33m,\u001b[0m\u001b[1;33m:\u001b[0m\u001b[1;33m,\u001b[0m\u001b[1;36m3\u001b[0m\u001b[1;33m]\u001b[0m\u001b[1;33m.\u001b[0m\u001b[0msum\u001b[0m\u001b[1;33m(\u001b[0m\u001b[1;33m)\u001b[0m\u001b[1;33m\u001b[0m\u001b[1;33m\u001b[0m\u001b[0m\n\u001b[0m",
      "\u001b[1;31mIndexError\u001b[0m: index 3 is out of bounds for axis 2 with size 3"
     ]
    }
   ],
   "source": [
    "B[0][2,:,2].sum()"
   ]
  },
  {
   "cell_type": "markdown",
   "metadata": {
    "id": "2-wceT0doO_A"
   },
   "source": [
    "## Now for the $\\mathbf{A}$ array..."
   ]
  },
  {
   "cell_type": "markdown",
   "metadata": {
    "id": "l5lsX1_-7eEZ"
   },
   "source": [
    "### Let's start by specifying a single observation modality - the observation of one's own location, or $o^{Loc}$.\n",
    "\n",
    "<img src=\"https://drive.google.com/uc?export=view&id=1cUkRY22yeIZdA6kyBO4mKB6jaXQeVpNo\"/>\n"
   ]
  },
  {
   "cell_type": "code",
   "execution_count": 11,
   "metadata": {
    "id": "cN4M_Dl57ZwV"
   },
   "outputs": [
    {
     "data": {
      "text/plain": [
       "1"
      ]
     },
     "execution_count": 11,
     "metadata": {},
     "output_type": "execute_result"
    }
   ],
   "source": [
    "num_obs = [9]\n",
    "num_modalities = len(num_obs) \n",
    "num_modalities"
   ]
  },
  {
   "cell_type": "code",
   "execution_count": 12,
   "metadata": {
    "id": "cN4M_Dl57ZwV"
   },
   "outputs": [],
   "source": [
    "A = utils.obj_array(num_modalities)\n",
    "\n",
    "A_location_dims = num_obs + num_states"
   ]
  },
  {
   "cell_type": "code",
   "execution_count": 13,
   "metadata": {},
   "outputs": [
    {
     "data": {
      "text/plain": [
       "[9, 3, 3]"
      ]
     },
     "execution_count": 13,
     "metadata": {},
     "output_type": "execute_result"
    }
   ],
   "source": [
    "A_location_dims"
   ]
  },
  {
   "cell_type": "code",
   "execution_count": 14,
   "metadata": {
    "id": "XeBUAoaUTGm-"
   },
   "outputs": [
    {
     "data": {
      "text/plain": [
       "(9, 3, 3)"
      ]
     },
     "execution_count": 14,
     "metadata": {},
     "output_type": "execute_result"
    }
   ],
   "source": [
    "A[0] = np.zeros(A_location_dims)\n",
    "A[0].shape"
   ]
  },
  {
   "cell_type": "markdown",
   "metadata": {
    "id": "d6JsWem27zGh"
   },
   "source": [
    "### Now fill out the entries of the $\\mathbf{A}$ matrix"
   ]
  },
  {
   "cell_type": "code",
   "execution_count": null,
   "metadata": {
    "id": "l9-WVPJW7tzO"
   },
   "outputs": [],
   "source": [
    "\"\"\" Fill out the mapping to 9-dimensional observations for the three possible settings of X (0, 1, 2), in the case we're in Y = 0 \"\"\"\n",
    "# A[0][...] = \n",
    "\n",
    "\"\"\" Fill out the mapping to 9-dimensional observations for the three possible settings of X (0, 1, 2), in the case we're in Y = 1 \"\"\"\n",
    "# A[0][...] =  \n",
    "\n",
    "\"\"\" Fill out the mapping to 9-dimensional observations for the three possible settings of X (0, 1, 2), in the case we're in Y = 2 \"\"\"\n",
    "# A[0][...] =  "
   ]
  },
  {
   "cell_type": "markdown",
   "metadata": {
    "id": "56lP1W-V4X0P"
   },
   "source": [
    "### *Solution*"
   ]
  },
  {
   "cell_type": "code",
   "execution_count": null,
   "metadata": {
    "id": "mmhhdmUL4YoF"
   },
   "outputs": [],
   "source": [
    "\"\"\" filling out the mapping to 9-dimensional observations for the three possible settings of X (0, 1, 2), in the case we're in Y = 0 \"\"\"\n",
    "A[0][0:3,:,0] = np.eye(3)\n",
    "\n",
    "\"\"\" filling out the mapping to 9-dimensional observations for the three possible settings of X (0, 1, 2), in the case we're in Y = 1 \"\"\"\n",
    "A[0][3:6,:,1] = np.eye(3)\n",
    "\n",
    "\"\"\" filling out the mapping to 9-dimensional observations for the three possible settings of X (0, 1, 2), in the case we're in Y = 2 \"\"\"\n",
    "A[0][6:9,:,2] = np.eye(3)"
   ]
  },
  {
   "cell_type": "markdown",
   "metadata": {
    "id": "QN7_SrsQ7H7o"
   },
   "source": [
    "### Now display the $\\mathbf{A}$ matrices we just made"
   ]
  },
  {
   "cell_type": "code",
   "execution_count": null,
   "metadata": {
    "id": "wbhAmfh77uWN"
   },
   "outputs": [],
   "source": [
    "plot_likelihood(A[0][:,:,0], title_str = \"P(o | x, y == 0)\" )"
   ]
  },
  {
   "cell_type": "code",
   "execution_count": null,
   "metadata": {
    "id": "-vJTMZJN8Kt_"
   },
   "outputs": [],
   "source": [
    "plot_likelihood(A[0][:,:,1], title_str = \"P(o | x, y == 1)\" )"
   ]
  },
  {
   "cell_type": "code",
   "execution_count": null,
   "metadata": {
    "id": "x6lXE_A89Ulj"
   },
   "outputs": [],
   "source": [
    "plot_likelihood(A[0][:,:,2], title_str = \"P(o | x, y == 1)\" )"
   ]
  },
  {
   "cell_type": "markdown",
   "metadata": {
    "id": "Mk0dbpXibpP_"
   },
   "source": [
    "# **Explore/exploit task with a epistemic two-armed bandit**\n",
    "\n",
    "## Now we're going to build a generative model for an active inference agent playing a two-armed bandit task. The [multi-armed bandit](https://en.wikipedia.org/wiki/Multi-armed_bandit) is a classic decision-making task that captures the core features of the the \"explore/exploit tradeoff\". This problem formulation is ubiqutious across various disciplines that study decision-making under uncertainty, including economics, neuroscience, machine learning, and engineering.\n",
    "\n",
    "## The agent has to make choices among mutually exclusive alternatives or 'arms' in order maximize rewards, which issue probabilistically from each arm. However, the reward statistics of each arm are in general unknown or only partially known. The agent must entertain _beliefs_ about the reward statistics. \n",
    "\n",
    "## The inherently partial-observability  of the ask creates a conflict between **exploitation** or choosing the arm that is _currently believed_ to be most rewarding, and **exploration** or gathering information about the remaining arms, in the hopes of discovering a potentially more rewarding option.\n",
    "\n",
    "## The fact that expected reward or utility is contextualized by _beliefs_ -- i.e. which arm is currently thought to be the most rewarding -- motivates the use of active inference in this context. This is because the key objective function for action-selection, the expected free energy $\\mathbf{G}$, depends on the agent's beliefs about the world. And not only that, but expected free energy balances the desire to maximize rewards with the drive to resolve uncertainty about unknown parts of the agent's model. The more accurate the agent's beliefs are, the more faithfully decision-making can be guided by maximizing expected utility or rewards.\n"
   ]
  },
  {
   "cell_type": "markdown",
   "metadata": {
    "id": "WYTRxlxx4iD0"
   },
   "source": [
    "### Specify the dimensionalities of the hidden state factors, the control factors, and the observation modalities"
   ]
  },
  {
   "cell_type": "code",
   "execution_count": 4,
   "metadata": {
    "id": "xAZ_g0UmdEVj"
   },
   "outputs": [],
   "source": [
    "context_names = ['Left-Better', 'Right-Better']\n",
    "choice_names = ['Start', 'Hint', 'Left Arm', 'Right Arm']\n",
    "\n",
    "\"\"\" Define `num_states` and `num_factors` below \"\"\"\n",
    "num_states = [len(context_names), len(choice_names)]\n",
    "num_factors = len(num_states)\n",
    "\n",
    "context_action_names = ['Do-nothing']\n",
    "choice_action_names = ['Move-start', 'Get-hint', 'Play-left', 'Play-right']\n",
    "\n",
    "\"\"\" Define `num_controls` below \"\"\"\n",
    "num_controls = [len(context_action_names), len(choice_action_names)]\n",
    "\n",
    "hint_obs_names = ['Null', 'Hint-left', 'Hint-right']\n",
    "reward_obs_names = ['Null', 'Loss', 'Reward']\n",
    "choice_obs_names = ['Start', 'Hint', 'Left Arm', 'Right Arm']\n",
    "\n",
    "\"\"\" Define `num_obs` and `num_modalities` below \"\"\"\n",
    "num_obs = [len(hint_obs_names), len(reward_obs_names), len(choice_obs_names)]\n",
    "num_modalities = len(num_obs)"
   ]
  },
  {
   "cell_type": "markdown",
   "metadata": {
    "id": "0Icnjv8T4fpx"
   },
   "source": [
    "### *Solution* "
   ]
  },
  {
   "cell_type": "code",
   "execution_count": 5,
   "metadata": {
    "id": "vOEYkFPt4gbC"
   },
   "outputs": [],
   "source": [
    "context_names = ['Left-Better', 'Right-Better']\n",
    "choice_names = ['Start', 'Hint', 'Left Arm', 'Right Arm']\n",
    "\n",
    "\"\"\" Define `num_states` and `num_factors` below \"\"\"\n",
    "num_states = [len(context_names), len(choice_names)]\n",
    "num_factors = len(num_states)\n",
    "\n",
    "context_action_names = ['Do-nothing']\n",
    "choice_action_names = ['Move-start', 'Get-hint', 'Play-left', 'Play-right']\n",
    "\n",
    "\"\"\" Define `num_controls` below \"\"\"\n",
    "num_controls = [len(context_action_names), len(choice_action_names)]\n",
    "\n",
    "hint_obs_names = ['Null', 'Hint-left', 'Hint-right']\n",
    "reward_obs_names = ['Null', 'Loss', 'Reward']\n",
    "choice_obs_names = ['Start', 'Hint', 'Left Arm', 'Right Arm']\n",
    "\n",
    "\"\"\" Define `num_obs` and `num_modalities` below \"\"\"\n",
    "num_obs = [len(hint_obs_names), len(reward_obs_names), len(choice_obs_names)]\n",
    "num_modalities = len(num_obs)"
   ]
  },
  {
   "cell_type": "markdown",
   "metadata": {
    "id": "k4Tca2bJ4o0z"
   },
   "source": [
    "## Create the $\\mathbf{A}$ arrays first"
   ]
  },
  {
   "cell_type": "code",
   "execution_count": 6,
   "metadata": {
    "id": "zQsDxB8v6bvF"
   },
   "outputs": [],
   "source": [
    "\"\"\" Generate the A array \"\"\"\n",
    "A = utils.obj_array( num_modalities )"
   ]
  },
  {
   "cell_type": "markdown",
   "metadata": {
    "id": "9Vmy_Z1N6poY"
   },
   "source": [
    "## Fill out the hint modality, a sub-array of `A` which we'll call `A_hint`\n",
    "\n",
    "<img src=\"https://drive.google.com/uc?export=view&id=1SqMp77NAmUa_oh925VURJ1Hyp8v_fXOj\"/>\n",
    "\n"
   ]
  },
  {
   "cell_type": "code",
   "execution_count": 7,
   "metadata": {
    "id": "daovgh4A6m5c"
   },
   "outputs": [],
   "source": [
    "p_hint = 0.7 # accuracy of the hint, according to the agent's generative model (how much does the agent trust the hint?)\n",
    "\n",
    "A_hint = np.zeros( (len(hint_obs_names), len(context_names), len(choice_names)) )\n",
    "\n",
    "for choice_id, choice_name in enumerate(choice_names):\n",
    "\n",
    "  if choice_name == 'Start':\n",
    "\n",
    "    A_hint[0,:,choice_id] = 1.0\n",
    "  \n",
    "  elif choice_name == 'Hint':\n",
    "\n",
    "    A_hint[1:,:,choice_id] = np.array([[p_hint,       1.0 - p_hint],\n",
    "                                      [1.0 - p_hint,  p_hint]])\n",
    "  elif choice_name == 'Left Arm':\n",
    "\n",
    "    A_hint[0,:,choice_id] = 1.0\n",
    "  \n",
    "  elif choice_name == 'Right Arm':\n",
    "\n",
    "    A_hint[0,:,choice_id] = 1.0\n",
    "  \n",
    "A[0] = A_hint"
   ]
  },
  {
   "cell_type": "code",
   "execution_count": 8,
   "metadata": {
    "id": "zIWcFelA7RqY"
   },
   "outputs": [
    {
     "data": {
      "image/png": "[encoded data removed]",
      "text/plain": [
       "<Figure size 432x432 with 1 Axes>"
      ]
     },
     "metadata": {
      "needs_background": "light"
     },
     "output_type": "display_data"
    }
   ],
   "source": [
    "plot_likelihood(A[0][:,:,1], title_str = \"Probability of the two hint types, for the two game states\")"
   ]
  },
  {
   "cell_type": "markdown",
   "metadata": {
    "id": "dnVJO-Nn7zY4"
   },
   "source": [
    "## Fill out the reward modality, a sub-array of `A` which we'll call `A_rew`\n",
    "\n",
    "<img src=\"https://drive.google.com/uc?export=view&id=155LAPZ9_aulJ3YYZwwlOWrEa6unabHht\"/>"
   ]
  },
  {
   "cell_type": "code",
   "execution_count": 9,
   "metadata": {
    "id": "fVnKm0zU8Ng3"
   },
   "outputs": [],
   "source": [
    "p_reward = 0.8 # probability of getting a rewarding outcome, if you are sampling the more rewarding bandit\n",
    "\n",
    "A_reward = np.zeros((len(reward_obs_names), len(context_names), len(choice_names)))\n",
    "\n",
    "for choice_id, choice_name in enumerate(choice_names):\n",
    "\n",
    "  if choice_name == 'Start':\n",
    "\n",
    "    A_reward[0,:,choice_id] = 1.0\n",
    "  \n",
    "  elif choice_name == 'Hint':\n",
    "\n",
    "    A_reward[0,:,choice_id] = 1.0\n",
    "  \n",
    "  elif choice_name == 'Left Arm':\n",
    "\n",
    "    A_reward[1:,:,choice_id] = np.array([ [1.0-p_reward, p_reward], \n",
    "                                        [p_reward, 1.0-p_reward]])\n",
    "  elif choice_name == 'Right Arm':\n",
    "\n",
    "    A_reward[1:, :, choice_id] = np.array([[ p_reward, 1.0- p_reward], \n",
    "                                         [1- p_reward, p_reward]])\n",
    "  \n",
    "A[1] = A_reward"
   ]
  },
  {
   "cell_type": "code",
   "execution_count": 10,
   "metadata": {
    "id": "CWKQSusN9Jzk"
   },
   "outputs": [
    {
     "data": {
      "image/png": "[encoded data removed]",
      "text/plain": [
       "<Figure size 432x432 with 1 Axes>"
      ]
     },
     "metadata": {
      "needs_background": "light"
     },
     "output_type": "display_data"
    }
   ],
   "source": [
    "plot_likelihood(A[1][:,:,2], 'Payoff structure if playing the Left Arm, for the two contexts')"
   ]
  },
  {
   "cell_type": "markdown",
   "metadata": {
    "id": "g62Zjwg0-iot"
   },
   "source": [
    "## Fill out the choice observation modality, a sub-array of `A` which we'll call `A_choice`\n",
    "\n",
    "<img src=\"https://drive.google.com/uc?export=view&id=1LGdGX0TgesvQ2HDnHMg42XHh0n6ZKnHw\"/>\n"
   ]
  },
  {
   "cell_type": "code",
   "execution_count": 11,
   "metadata": {
    "id": "VHdgBVSm-mOL"
   },
   "outputs": [],
   "source": [
    "A_choice = np.zeros((len(choice_obs_names), len(context_names), len(choice_names)))\n",
    "\n",
    "for choice_id in range(len(choice_names)):\n",
    "\n",
    "  A_choice[choice_id, :, choice_id] = 1.0\n",
    "\n",
    "A[2] = A_choice"
   ]
  },
  {
   "cell_type": "code",
   "execution_count": 12,
   "metadata": {
    "id": "2O5QpoC8Uc8j"
   },
   "outputs": [
    {
     "data": {
      "image/png": "[encoded data removed]",
      "text/plain": [
       "<Figure size 432x432 with 1 Axes>"
      ]
     },
     "metadata": {
      "needs_background": "light"
     },
     "output_type": "display_data"
    }
   ],
   "source": [
    "\"\"\" Condition on context (first hidden state factor) and display the remaining indices (outcome and choice state) \"\"\"\n",
    "\n",
    "plot_likelihood(A[2][:,0,:], \"Mapping between sensed states and true states\")"
   ]
  },
  {
   "cell_type": "markdown",
   "metadata": {
    "id": "FhP5apgR-7zN"
   },
   "source": [
    "## Now let's move onto the $\\mathbf{B}$ arrays"
   ]
  },
  {
   "cell_type": "code",
   "execution_count": 13,
   "metadata": {
    "id": "JSiiIJdu4n9b"
   },
   "outputs": [],
   "source": [
    "B = utils.obj_array(num_factors)"
   ]
  },
  {
   "cell_type": "markdown",
   "metadata": {
    "id": "_b7Fyz0T59e0"
   },
   "source": [
    "### Fill out the context state factor dynamics, a sub-array of `B` which we'll call `B_context`\n",
    "\n",
    "<img src=\"https://drive.google.com/uc?export=view&id=1_VvkCpRu1wWwEFiAJKnOGAGikd5KeiiE\" width=\"600\" height=\"300\" />\n"
   ]
  },
  {
   "cell_type": "code",
   "execution_count": 14,
   "metadata": {
    "id": "lVtIXiyq6EHo"
   },
   "outputs": [],
   "source": [
    "B_context = np.zeros( (len(context_names), len(context_names), len(context_action_names)) )\n",
    "\n",
    "B_context[:,:,0] = np.eye(len(context_names))\n",
    "\n",
    "B[0] = B_context"
   ]
  },
  {
   "cell_type": "markdown",
   "metadata": {
    "id": "FzDc6PLG5Mof"
   },
   "source": [
    "### Fill out the choice factor dynamics, a sub-array of `B` which we'll call `B_choice`\n",
    "\n",
    "<img src=\"https://drive.google.com/uc?export=view&id=1qeuFvNIrJR7ldjpkrB6_jAp6JM3UhMw0\"/>\n"
   ]
  },
  {
   "cell_type": "code",
   "execution_count": 15,
   "metadata": {
    "id": "--5HyEYt42Q8"
   },
   "outputs": [],
   "source": [
    "B_choice = np.zeros( (len(choice_names), len(choice_names), len(choice_action_names)) )\n",
    "\n",
    "for choice_i in range(len(choice_names)):\n",
    "  \n",
    "  B_choice[choice_i, :, choice_i] = 1.0\n",
    "\n",
    "B[1] = B_choice"
   ]
  },
  {
   "cell_type": "markdown",
   "metadata": {
    "id": "ll-mBL_2_McK"
   },
   "source": [
    "## The $\\mathbf{C}$ vectors"
   ]
  },
  {
   "cell_type": "code",
   "execution_count": 16,
   "metadata": {
    "id": "ib54P_VFvjk0"
   },
   "outputs": [],
   "source": [
    "\"\"\" Explain `obj_array_zeros` and how you don't have to populate them necessarily \"\"\"\n",
    "C = utils.obj_array_zeros(num_obs)"
   ]
  },
  {
   "cell_type": "code",
   "execution_count": 17,
   "metadata": {},
   "outputs": [
    {
     "data": {
      "text/plain": [
       "[3, 3, 4]"
      ]
     },
     "execution_count": 17,
     "metadata": {},
     "output_type": "execute_result"
    }
   ],
   "source": [
    "num_obs"
   ]
  },
  {
   "cell_type": "code",
   "execution_count": 18,
   "metadata": {},
   "outputs": [
    {
     "data": {
      "text/plain": [
       "array([array([0., 0., 0.]), array([0., 0., 0.]), array([0., 0., 0., 0.])],\n",
       "      dtype=object)"
      ]
     },
     "execution_count": 18,
     "metadata": {},
     "output_type": "execute_result"
    }
   ],
   "source": [
    "C"
   ]
  },
  {
   "cell_type": "code",
   "execution_count": 19,
   "metadata": {
    "id": "4JlKcepO_KgA"
   },
   "outputs": [
    {
     "data": {
      "image/png": "[encoded data removed]",
      "text/plain": [
       "<Figure size 432x288 with 1 Axes>"
      ]
     },
     "metadata": {
      "needs_background": "light"
     },
     "output_type": "display_data"
    }
   ],
   "source": [
    "from pymdp.maths import softmax\n",
    "\n",
    "C_reward = np.zeros(len(reward_obs_names))\n",
    "C_reward[1] = -4.0 \n",
    "C_reward[2] = 2.0 \n",
    "\n",
    "C[1] = C_reward\n",
    "\n",
    "plot_beliefs(softmax(C_reward), title_str = \"Prior preferences\")"
   ]
  },
  {
   "cell_type": "markdown",
   "metadata": {
    "id": "lJXKG-IV_qm1"
   },
   "source": [
    "## The $\\mathbf{D}$ vectors"
   ]
  },
  {
   "cell_type": "code",
   "execution_count": 20,
   "metadata": {
    "id": "4I136dhf_TmL"
   },
   "outputs": [],
   "source": [
    "D = utils.obj_array(num_factors)"
   ]
  },
  {
   "cell_type": "code",
   "execution_count": 21,
   "metadata": {
    "id": "MJTKm27fv_Rf"
   },
   "outputs": [],
   "source": [
    "D_context = np.array([0.5,0.5])\n",
    "\n",
    "D[0] = D_context\n",
    "\n",
    "D_choice = np.zeros(len(choice_names))\n",
    "\n",
    "D_choice[choice_names.index(\"Start\")] = 1.0\n",
    "\n",
    "D[1] = D_choice\n"
   ]
  },
  {
   "cell_type": "code",
   "execution_count": 22,
   "metadata": {
    "id": "1-whrdJo_wGQ"
   },
   "outputs": [
    {
     "name": "stdout",
     "output_type": "stream",
     "text": [
      "Beliefs about which arm is better: [0.5 0.5]\n",
      "Beliefs about starting location: [1. 0. 0. 0.]\n"
     ]
    }
   ],
   "source": [
    "print(f'Beliefs about which arm is better: {D[0]}')\n",
    "print(f'Beliefs about starting location: {D[1]}')"
   ]
  },
  {
   "cell_type": "markdown",
   "metadata": {
    "id": "fP7NySzAhWgf"
   },
   "source": [
    "## Now let's take advantage of the `Agent` class in `pymdp` to wrap this all into an Agent instance that we can use to do active inference in a few lines."
   ]
  },
  {
   "cell_type": "code",
   "execution_count": 23,
   "metadata": {
    "id": "ls9VoZX__0Vp"
   },
   "outputs": [],
   "source": [
    "from pymdp.agent import Agent\n",
    "\n",
    "my_agent = Agent(A = A, B = B, C = C, D = D)"
   ]
  },
  {
   "cell_type": "markdown",
   "metadata": {
    "id": "4Xu-ZVZBh_wH"
   },
   "source": [
    "## Define a class for the 2-armed bandit environment (AKA the _generative process_)"
   ]
  },
  {
   "cell_type": "code",
   "execution_count": 24,
   "metadata": {
    "id": "LjxoLs67AXwR"
   },
   "outputs": [],
   "source": [
    "class TwoArmedBandit(object):\n",
    "\n",
    "  def __init__(self, context = None, p_hint = 1.0, p_reward = 0.8):\n",
    "\n",
    "    self.context_names = [\"Left-Better\", \"Right-Better\"]\n",
    "\n",
    "    if context == None:\n",
    "      self.context = self.context_names[utils.sample(np.array([0.5, 0.5]))] # randomly sample which bandit arm is better (Left or Right)\n",
    "    else:\n",
    "      self.context = context\n",
    "\n",
    "    self.p_hint = p_hint\n",
    "    self.p_reward = p_reward\n",
    "\n",
    "    self.reward_obs_names = ['Null', 'Loss', 'Reward']\n",
    "    self.hint_obs_names = ['Null', 'Hint-left', 'Hint-right']\n",
    "\n",
    "  def step(self, action):\n",
    "\n",
    "    if action == \"Move-start\":\n",
    "      observed_hint = \"Null\"\n",
    "      observed_reward = \"Null\"\n",
    "      observed_choice = \"Start\"\n",
    "    elif action == \"Get-hint\":\n",
    "      if self.context == \"Left-Better\":\n",
    "        observed_hint = self.hint_obs_names[utils.sample(np.array([0.0, self.p_hint, 1.0 - self.p_hint]))]\n",
    "      elif self.context == \"Right-Better\":\n",
    "        observed_hint = self.hint_obs_names[utils.sample(np.array([0.0, 1.0 - self.p_hint, self.p_hint]))]\n",
    "      observed_reward = \"Null\"\n",
    "      observed_choice = \"Hint\"\n",
    "    elif action == \"Play-left\":\n",
    "      observed_hint = \"Null\"\n",
    "      observed_choice = \"Left Arm\"\n",
    "      if self.context == \"Left-Better\":\n",
    "        observed_reward = self.reward_obs_names[utils.sample(np.array([0.0, 1.0 - self.p_reward, self.p_reward]))]\n",
    "      elif self.context == \"Right-Better\":\n",
    "        observed_reward = self.reward_obs_names[utils.sample(np.array([0.0, self.p_reward, 1.0 - self.p_reward]))]\n",
    "    elif action == \"Play-right\":\n",
    "      observed_hint = \"Null\"\n",
    "      observed_choice = \"Right Arm\"\n",
    "      if self.context == \"Right-Better\":\n",
    "        observed_reward = self.reward_obs_names[utils.sample(np.array([0.0, 1.0 - self.p_reward, self.p_reward]))]\n",
    "      elif self.context == \"Left-Better\":\n",
    "        observed_reward = self.reward_obs_names[utils.sample(np.array([0.0, self.p_reward, 1.0 - self.p_reward]))]\n",
    "    \n",
    "    obs = [observed_hint, observed_reward, observed_choice]\n",
    "\n",
    "    return obs\n",
    "  "
   ]
  },
  {
   "cell_type": "code",
   "execution_count": 25,
   "metadata": {},
   "outputs": [],
   "source": [
    "obs_label = [\"Null\", \"Reward\", \"Left Arm\"]  # agent observes itself seeing a `Null` hint, getting a `Null` reward, and seeing itself in the `Start` location\n",
    "obs = [hint_obs_names.index(obs_label[0]), reward_obs_names.index(obs_label[1]), choice_obs_names.index(obs_label[2])]"
   ]
  },
  {
   "cell_type": "markdown",
   "metadata": {
    "id": "h6IeX_BlhmBy"
   },
   "source": [
    "### Write a function that will take the agent, the environment, and a time length and run the active inference loop"
   ]
  },
  {
   "cell_type": "code",
   "execution_count": 26,
   "metadata": {
    "id": "In-AoaGQDdQH"
   },
   "outputs": [],
   "source": [
    "def run_active_inference_loop(my_agent, my_env, T = 5):\n",
    "\n",
    "  \"\"\" Initialize the first observation \"\"\"\n",
    "  obs_label = [\"Null\", \"Null\", \"Start\"]  # agent observes itself seeing a `Null` hint, getting a `Null` reward, and seeing itself in the `Start` location\n",
    "  obs = [hint_obs_names.index(obs_label[0]), reward_obs_names.index(obs_label[1]), choice_obs_names.index(obs_label[2])]\n",
    "  \n",
    "  for t in range(T):\n",
    "    qs = my_agent.infer_states(obs)\n",
    "    plot_beliefs(qs[0], title_str = f\"Beliefs about the context at time {t}\")\n",
    "\n",
    "    q_pi, efe = my_agent.infer_policies()\n",
    "    chosen_action_id = my_agent.sample_action()\n",
    "\n",
    "    movement_id = int(chosen_action_id[1])\n",
    "\n",
    "    choice_action = choice_action_names[movement_id]\n",
    "\n",
    "    obs_label = my_env.step(choice_action)\n",
    "\n",
    "    obs = [hint_obs_names.index(obs_label[0]), reward_obs_names.index(obs_label[1]), choice_obs_names.index(obs_label[2])]\n",
    "\n",
    "    print(f'Action at time {t}: {choice_action}')\n",
    "    print(f'Reward at time {t}: {obs_label[1]}')\n"
   ]
  },
  {
   "cell_type": "code",
   "execution_count": 28,
   "metadata": {},
   "outputs": [],
   "source": [
    "q_pi, efe = my_agent.infer_policies()"
   ]
  },
  {
   "cell_type": "code",
   "execution_count": 37,
   "metadata": {},
   "outputs": [
    {
     "data": {
      "text/plain": [
       "array([0., 3.])"
      ]
     },
     "execution_count": 37,
     "metadata": {},
     "output_type": "execute_result"
    }
   ],
   "source": [
    "my_agent.action"
   ]
  },
  {
   "cell_type": "code",
   "execution_count": 33,
   "metadata": {},
   "outputs": [
    {
     "data": {
      "text/plain": [
       "[array([[0, 0]]), array([[0, 1]]), array([[0, 2]]), array([[0, 3]])]"
      ]
     },
     "execution_count": 33,
     "metadata": {},
     "output_type": "execute_result"
    }
   ],
   "source": [
    "my_agent.policies"
   ]
  },
  {
   "cell_type": "markdown",
   "metadata": {
    "id": "gYeg73orwtHC"
   },
   "source": [
    "### Now all we have to do is define the two-armed bandit environment, choose the length of the simulation, and run the function we wrote above.\n",
    "\n",
    "\n",
    "*   Try playing with the hint accuracy and/or reward statistics of the environment - remember this is _different_ than the agent's representation of the reward statistics (i.e. the agent's generative model, e.g. the A or B matrices).\n",
    "\n",
    "\n"
   ]
  },
  {
   "cell_type": "code",
   "execution_count": 27,
   "metadata": {
    "id": "Vy7OXyo8wvY0"
   },
   "outputs": [
    {
     "data": {
      "image/png": "[encoded data removed]",
      "text/plain": [
       "<Figure size 432x288 with 1 Axes>"
      ]
     },
     "metadata": {
      "needs_background": "light"
     },
     "output_type": "display_data"
    },
    {
     "name": "stdout",
     "output_type": "stream",
     "text": [
      "Action at time 0: Get-hint\n",
      "Reward at time 0: Null\n"
     ]
    },
    {
     "data": {
      "image/png": "[encoded data removed]",
      "text/plain": [
       "<Figure size 432x288 with 1 Axes>"
      ]
     },
     "metadata": {
      "needs_background": "light"
     },
     "output_type": "display_data"
    },
    {
     "name": "stdout",
     "output_type": "stream",
     "text": [
      "Action at time 1: Get-hint\n",
      "Reward at time 1: Null\n"
     ]
    },
    {
     "data": {
      "image/png": "[encoded data removed]",
      "text/plain": [
       "<Figure size 432x288 with 1 Axes>"
      ]
     },
     "metadata": {
      "needs_background": "light"
     },
     "output_type": "display_data"
    },
    {
     "name": "stdout",
     "output_type": "stream",
     "text": [
      "Action at time 2: Play-right\n",
      "Reward at time 2: Reward\n"
     ]
    },
    {
     "data": {
      "image/png": "[encoded data removed]",
      "text/plain": [
       "<Figure size 432x288 with 1 Axes>"
      ]
     },
     "metadata": {
      "needs_background": "light"
     },
     "output_type": "display_data"
    },
    {
     "name": "stdout",
     "output_type": "stream",
     "text": [
      "Action at time 3: Play-right\n",
      "Reward at time 3: Reward\n"
     ]
    },
    {
     "data": {
      "image/png": "[encoded data removed]",
      "text/plain": [
       "<Figure size 432x288 with 1 Axes>"
      ]
     },
     "metadata": {
      "needs_background": "light"
     },
     "output_type": "display_data"
    },
    {
     "name": "stdout",
     "output_type": "stream",
     "text": [
      "Action at time 4: Play-right\n",
      "Reward at time 4: Reward\n"
     ]
    },
    {
     "data": {
      "image/png": "[encoded data removed]",
      "text/plain": [
       "<Figure size 432x288 with 1 Axes>"
      ]
     },
     "metadata": {
      "needs_background": "light"
     },
     "output_type": "display_data"
    },
    {
     "name": "stdout",
     "output_type": "stream",
     "text": [
      "Action at time 5: Play-right\n",
      "Reward at time 5: Loss\n"
     ]
    },
    {
     "data": {
      "image/png": "[encoded data removed]",
      "text/plain": [
       "<Figure size 432x288 with 1 Axes>"
      ]
     },
     "metadata": {
      "needs_background": "light"
     },
     "output_type": "display_data"
    },
    {
     "name": "stdout",
     "output_type": "stream",
     "text": [
      "Action at time 6: Play-right\n",
      "Reward at time 6: Reward\n"
     ]
    },
    {
     "data": {
      "image/png": "[encoded data removed]",
      "text/plain": [
       "<Figure size 432x288 with 1 Axes>"
      ]
     },
     "metadata": {
      "needs_background": "light"
     },
     "output_type": "display_data"
    },
    {
     "name": "stdout",
     "output_type": "stream",
     "text": [
      "Action at time 7: Play-right\n",
      "Reward at time 7: Reward\n"
     ]
    },
    {
     "data": {
      "image/png": "[encoded data removed]",
      "text/plain": [
       "<Figure size 432x288 with 1 Axes>"
      ]
     },
     "metadata": {
      "needs_background": "light"
     },
     "output_type": "display_data"
    },
    {
     "name": "stdout",
     "output_type": "stream",
     "text": [
      "Action at time 8: Play-right\n",
      "Reward at time 8: Reward\n"
     ]
    },
    {
     "data": {
      "image/png": "[encoded data removed]",
      "text/plain": [
       "<Figure size 432x288 with 1 Axes>"
      ]
     },
     "metadata": {
      "needs_background": "light"
     },
     "output_type": "display_data"
    },
    {
     "name": "stdout",
     "output_type": "stream",
     "text": [
      "Action at time 9: Play-right\n",
      "Reward at time 9: Reward\n"
     ]
    }
   ],
   "source": [
    "p_hint_env = 1.0 # this is the \"true\" accuracy of the hint - i.e. how often does the hint actually signal which arm is better. REMEMBER: THIS IS INDEPENDENT OF HOW YOU PARAMETERIZE THE A MATRIX FOR THE HINT MODALITY\n",
    "p_reward_env = 0.7 # this is the \"true\" reward probability - i.e. how often does the better arm actually return a reward, as opposed to a loss. REMEMBER: THIS IS INDEPENDENT OF HOW YOU PARAMETERIZE THE A MATRIX FOR THE REWARD MODALITY\n",
    "env = TwoArmedBandit(p_hint = p_hint_env, p_reward = p_reward_env)\n",
    "\n",
    "T = 10\n",
    "\n",
    "# my_agent = Agent(A = A, B = B, C = C, D = D) # in case you want to re-define the agent, you can run this again\n",
    "\n",
    "run_active_inference_loop(my_agent, env, T = T)"
   ]
  },
  {
   "cell_type": "markdown",
   "metadata": {
    "id": "scuxk92i3Mef"
   },
   "source": [
    "### Let's manipulate the agent's prior preferences over reward observations ($\\mathbf{C}[1]$) in order to examine the tension between exploration and exploitation."
   ]
  },
  {
   "cell_type": "code",
   "execution_count": null,
   "metadata": {
    "id": "B1XpcHlX3Gnj"
   },
   "outputs": [],
   "source": [
    "\"\"\"If there's time, do this exercise\"\"\"\n",
    "\n",
    "# mess with the 'shape' of the agent's reward function\n",
    "#C[1] = \n",
    "\n",
    "my_agent = Agent(A = A, B = B, C = C, D = D) # redefine the agent with the new preferences\n",
    "env = TwoArmedBandit(p_hint = 0.8, p_reward = 0.8) # re-initialize the environment -- this time, the hint is not always accurate (`p_hint = 0.8`)\n",
    "\n",
    "run_active_inference_loop(my_agent, env, T = T)"
   ]
  }
 ],
 "metadata": {
  "colab": {
   "collapsed_sections": [
    "lu35jiGX4Iae",
    "YLYvTB3s4O92",
    "56lP1W-V4X0P",
    "0Icnjv8T4fpx"
   ],
   "name": "Active Inference Tutorial, Part II",
   "provenance": []
  },
  "kernelspec": {
   "display_name": "Python 3 (ipykernel)",
   "language": "python",
   "name": "python3"
  },
  "language_info": {
   "codemirror_mode": {
    "name": "ipython",
    "version": 3
   },
   "file_extension": ".py",
   "mimetype": "text/x-python",
   "name": "python",
   "nbconvert_exporter": "python",
   "pygments_lexer": "ipython3",
   "version": "3.9.12"
  }
 },
 "nbformat": 4,
 "nbformat_minor": 1
}
