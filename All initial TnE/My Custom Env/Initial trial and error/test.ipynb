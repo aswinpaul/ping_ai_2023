{
 "cells": [
  {
   "cell_type": "code",
   "execution_count": 31,
   "id": "b41dc48b",
   "metadata": {},
   "outputs": [],
   "source": [
    "import numpy as np\n",
    "np.random.seed(10)\n",
    "A = np.random.rand(9,9,9)+0.1\n",
    "B = np.random.rand(1,9)+0.3"
   ]
  },
  {
   "cell_type": "code",
   "execution_count": 48,
   "id": "ee663496",
   "metadata": {},
   "outputs": [],
   "source": [
    "A = np.matrix.round(A, decimals=4)\n",
    "B = np.matrix.round(B, decimals=4)"
   ]
  },
  {
   "cell_type": "code",
   "execution_count": 53,
   "id": "9949ba6b",
   "metadata": {},
   "outputs": [
    {
     "name": "stdout",
     "output_type": "stream",
     "text": [
      "(9, 9, 1)\n"
     ]
    }
   ],
   "source": [
    "x = np.inner(A,B)\n",
    "print(x.shape)"
   ]
  },
  {
   "cell_type": "code",
   "execution_count": 54,
   "id": "07f80a72",
   "metadata": {},
   "outputs": [
    {
     "data": {
      "text/plain": [
       "array([3.74243378])"
      ]
     },
     "execution_count": 54,
     "metadata": {},
     "output_type": "execute_result"
    }
   ],
   "source": [
    "x[3,4]"
   ]
  },
  {
   "cell_type": "code",
   "execution_count": 56,
   "id": "b45c4a25",
   "metadata": {},
   "outputs": [],
   "source": [
    "x = np.matrix.round(x, decimals=4)"
   ]
  },
  {
   "cell_type": "code",
   "execution_count": 59,
   "id": "d5f6a1a7",
   "metadata": {},
   "outputs": [
    {
     "data": {
      "text/plain": [
       "array([3.6948])"
      ]
     },
     "execution_count": 59,
     "metadata": {},
     "output_type": "execute_result"
    }
   ],
   "source": [
    "x[5,4]"
   ]
  },
  {
   "cell_type": "code",
   "execution_count": 62,
   "id": "06510d3c",
   "metadata": {},
   "outputs": [
    {
     "data": {
      "text/plain": [
       "(array([3.6948]), array([4.585]))"
      ]
     },
     "execution_count": 62,
     "metadata": {},
     "output_type": "execute_result"
    }
   ],
   "source": [
    "x[5,4], x[4,5]"
   ]
  },
  {
   "cell_type": "code",
   "execution_count": 10,
   "id": "4e098c51",
   "metadata": {},
   "outputs": [],
   "source": [
    "p = [0.2,0.2,0.2,0.2,0.2]\n",
    "import numpy as np\n",
    "pp = np.array([p,p,p])"
   ]
  },
  {
   "cell_type": "code",
   "execution_count": 21,
   "id": "6a80002a",
   "metadata": {},
   "outputs": [
    {
     "data": {
      "text/plain": [
       "(9, 9, 9)"
      ]
     },
     "execution_count": 21,
     "metadata": {},
     "output_type": "execute_result"
    }
   ],
   "source": [
    "ppp = np.random.rand(9,9,9)\n",
    "ppp.shape"
   ]
  },
  {
   "cell_type": "code",
   "execution_count": 13,
   "id": "ccd46f06",
   "metadata": {},
   "outputs": [
    {
     "data": {
      "text/plain": [
       "(3, 5)"
      ]
     },
     "execution_count": 13,
     "metadata": {},
     "output_type": "execute_result"
    }
   ],
   "source": [
    "pp.shape"
   ]
  },
  {
   "cell_type": "code",
   "execution_count": 23,
   "id": "1eb49cab",
   "metadata": {},
   "outputs": [
    {
     "data": {
      "text/plain": [
       "(9, 9)"
      ]
     },
     "execution_count": 23,
     "metadata": {},
     "output_type": "execute_result"
    }
   ],
   "source": [
    "from scipy.stats import entropy\n",
    "entropy(ppp).shape"
   ]
  },
  {
   "cell_type": "code",
   "execution_count": null,
   "id": "fb2e7c30",
   "metadata": {},
   "outputs": [],
   "source": []
  }
 ],
 "metadata": {
  "kernelspec": {
   "display_name": "Python 3 (ipykernel)",
   "language": "python",
   "name": "python3"
  },
  "language_info": {
   "codemirror_mode": {
    "name": "ipython",
    "version": 3
   },
   "file_extension": ".py",
   "mimetype": "text/x-python",
   "name": "python",
   "nbconvert_exporter": "python",
   "pygments_lexer": "ipython3",
   "version": "3.9.12"
  }
 },
 "nbformat": 4,
 "nbformat_minor": 5
}
