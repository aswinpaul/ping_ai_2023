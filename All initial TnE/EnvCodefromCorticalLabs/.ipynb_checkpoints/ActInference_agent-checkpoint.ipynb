{
 "cells": [
  {
   "cell_type": "markdown",
   "id": "af08d66e",
   "metadata": {},
   "source": [
    "# Real number state"
   ]
  },
  {
   "cell_type": "code",
   "execution_count": 5,
   "id": "afd585b0",
   "metadata": {},
   "outputs": [],
   "source": [
    "import pongGymEnv as pongEnv\n",
    "env = pongEnv.CartPoleEnv()\n",
    "env.reset(5000);\n",
    "\n",
    "import numpy as np\n",
    "import random\n",
    "import pymdp\n",
    "from pymdp import utils\n",
    "\n",
    "from scipy.stats import dirichlet\n",
    "from scipy.stats import entropy\n",
    "from matplotlib import pyplot as plt\n",
    "\n",
    "from pong_statetoobs import state_to_obs\n",
    "\n",
    "random.seed(10)\n",
    "np.random.seed(10);"
   ]
  },
  {
   "cell_type": "code",
   "execution_count": 6,
   "id": "157f058d",
   "metadata": {},
   "outputs": [],
   "source": [
    "# [ self.game_state.ball0.position.x : 4-40,\n",
    "# self.game_state.ball0.position.y: 8,\n",
    "# self.game_state.ball0.velocity.y,\n",
    "# self.game_state.paddle0.position.top.y,\n",
    "# self.game_state.paddle0.position.bottom.y]\n",
    "\n",
    "# o1 length: 41\n",
    "# o2 length: 9\n",
    "# o3 length: 10"
   ]
  },
  {
   "cell_type": "code",
   "execution_count": 7,
   "id": "ad3a721c",
   "metadata": {},
   "outputs": [
    {
     "name": "stdout",
     "output_type": "stream",
     "text": [
      "Episode:1 Score:76.0\n",
      "Episode:2 Score:175.0\n",
      "Episode:3 Score:665.0\n",
      "Episode:4 Score:175.0\n",
      "Episode:5 Score:76.0\n",
      "Episode:6 Score:175.0\n",
      "Episode:7 Score:76.0\n",
      "Episode:8 Score:175.0\n",
      "Episode:9 Score:371.0\n",
      "Episode:10 Score:175.0\n",
      "CPU times: total: 1.05 s\n",
      "Wall time: 1.04 s\n"
     ]
    }
   ],
   "source": [
    "%%time\n",
    "\n",
    "episodes = 10\n",
    "\n",
    "ball_x = []\n",
    "ball_y = []\n",
    "paddle_pos = []\n",
    "\n",
    "for episode in range(1, episodes+1):\n",
    "    state = env.reset(5000)\n",
    "    done = False\n",
    "    score = 0\n",
    "    \n",
    "    while not done:\n",
    "        \n",
    "        env.render()\n",
    "        action = env.action_space.sample()\n",
    "        state, reward, done, info = env.step(action)\n",
    "        score += reward\n",
    "        \n",
    "        obs = state_to_obs(state)\n",
    "        \n",
    "    print('Episode:{} Score:{}'.format(episode, score))\n",
    "    \n",
    "env.close()"
   ]
  },
  {
   "cell_type": "code",
   "execution_count": 4,
   "id": "670acbcf",
   "metadata": {},
   "outputs": [],
   "source": [
    "# [ self.game_state.ball0.position.x : 4-40,\n",
    "# self.game_state.ball0.position.y: 8,\n",
    "# self.game_state.ball0.velocity.y,\n",
    "# self.game_state.paddle0.position.top.y,\n",
    "# self.game_state.paddle0.position.bottom.y]"
   ]
  },
  {
   "cell_type": "code",
   "execution_count": null,
   "id": "2568cf23",
   "metadata": {},
   "outputs": [],
   "source": []
  }
 ],
 "metadata": {
  "kernelspec": {
   "display_name": "Python 3 (ipykernel)",
   "language": "python",
   "name": "python3"
  },
  "language_info": {
   "codemirror_mode": {
    "name": "ipython",
    "version": 3
   },
   "file_extension": ".py",
   "mimetype": "text/x-python",
   "name": "python",
   "nbconvert_exporter": "python",
   "pygments_lexer": "ipython3",
   "version": "3.9.12"
  }
 },
 "nbformat": 4,
 "nbformat_minor": 5
}
