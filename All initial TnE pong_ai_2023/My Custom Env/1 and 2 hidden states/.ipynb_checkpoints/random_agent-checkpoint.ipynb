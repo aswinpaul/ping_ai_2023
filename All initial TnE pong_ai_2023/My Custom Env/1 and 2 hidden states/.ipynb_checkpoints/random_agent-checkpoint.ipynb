{
 "cells": [
  {
   "cell_type": "code",
   "execution_count": 1,
   "id": "42a7cba7",
   "metadata": {},
   "outputs": [],
   "source": [
    "from CustomPongEnv_v0_ram import Custom_Pong\n",
    "import numpy as np\n",
    "import random"
   ]
  },
  {
   "cell_type": "code",
   "execution_count": 2,
   "id": "5d1c4f44",
   "metadata": {},
   "outputs": [],
   "source": [
    "env = Custom_Pong()\n",
    "states = env.observation_space.shape[0]\n",
    "actions = env.action_space.n"
   ]
  },
  {
   "cell_type": "code",
   "execution_count": 3,
   "id": "9f0577f5",
   "metadata": {},
   "outputs": [],
   "source": [
    "trials = 100\n",
    "episodes = 400\n",
    "\n",
    "rally_length_raw = np.zeros((trials,episodes))\n",
    "\n",
    "for trial in range(trials):\n",
    "    print(trial)\n",
    "    \n",
    "    for episode in range(episodes):\n",
    "\n",
    "        state = env.reset()\n",
    "        done = False\n",
    "        score = 0\n",
    "\n",
    "        while not done:\n",
    "            #env.render()\n",
    "            action = env.action_space.sample()\n",
    "\n",
    "            state, reward, done, info = env.step(action)\n",
    "            score += reward\n",
    "\n",
    "        rally_length_raw[trial][episode] = score+1\n",
    "\n",
    "    env.close()"
   ]
  },
  {
   "cell_type": "code",
   "execution_count": 5,
   "id": "5f5fdf47",
   "metadata": {},
   "outputs": [
    {
     "data": {
      "image/png": "[encoded data removed]",
      "text/plain": [
       "<Figure size 432x288 with 1 Axes>"
      ]
     },
     "metadata": {
      "needs_background": "light"
     },
     "output_type": "display_data"
    }
   ],
   "source": [
    "from matplotlib import pyplot as plt\n",
    "rally_length_1_raw = rally_length_raw[:, 0:int(episodes/4)]\n",
    "rally_length_2_raw = rally_length_raw[:, int(episodes/4):episodes]\n",
    "\n",
    "rally_length_1 = np.mean(rally_length_1_raw, axis=0)\n",
    "rally_length_2 = np.mean(rally_length_2_raw, axis=0)\n",
    "x = [rally_length_1, rally_length_2]\n",
    "\n",
    "#Plotting\n",
    "xy = [x[0], x[1]]\n",
    "\n",
    "plt.boxplot(xy, showmeans=True, showfliers=False, positions=[1,2])\n",
    "plt.ylabel(\"Average rally length\")\n",
    "plt.xlabel(\"Random agent\")\n",
    "plt.title(\"Game play\")\n",
    "plt.savefig('random_agent.png', dpi=500, bbox_inches='tight')"
   ]
  },
  {
   "cell_type": "code",
   "execution_count": null,
   "id": "242020a6",
   "metadata": {},
   "outputs": [],
   "source": []
  }
 ],
 "metadata": {
  "kernelspec": {
   "display_name": "Python 3 (ipykernel)",
   "language": "python",
   "name": "python3"
  },
  "language_info": {
   "codemirror_mode": {
    "name": "ipython",
    "version": 3
   },
   "file_extension": ".py",
   "mimetype": "text/x-python",
   "name": "python",
   "nbconvert_exporter": "python",
   "pygments_lexer": "ipython3",
   "version": "3.9.12"
  }
 },
 "nbformat": 4,
 "nbformat_minor": 5
}
