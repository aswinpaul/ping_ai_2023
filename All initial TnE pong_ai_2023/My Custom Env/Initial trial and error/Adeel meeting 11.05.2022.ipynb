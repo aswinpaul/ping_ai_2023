{
 "cells": [
  {
   "cell_type": "code",
   "execution_count": 1,
   "id": "f49ee6b8",
   "metadata": {},
   "outputs": [],
   "source": [
    "import numpy as np"
   ]
  },
  {
   "cell_type": "markdown",
   "id": "ed2d5395",
   "metadata": {},
   "source": [
    "## Generative model"
   ]
  },
  {
   "cell_type": "markdown",
   "id": "0d20d6d5",
   "metadata": {},
   "source": [
    "<img src=\"model.png\" width=\"500\" align=\"left\">"
   ]
  },
  {
   "cell_type": "markdown",
   "id": "b9bf9dfe",
   "metadata": {},
   "source": [
    "<img src=\"pong.png\" width=\"600\" align=\"left\">"
   ]
  },
  {
   "cell_type": "markdown",
   "id": "689b0eb0",
   "metadata": {},
   "source": [
    "## Classical active inference trials"
   ]
  },
  {
   "cell_type": "markdown",
   "id": "ee1a99dc",
   "metadata": {},
   "source": [
    "## Classical Active inference agent compuational time\n",
    "Policy length = 1 (5 sec)\n",
    "Policy length = 4 (> 12 minutes)\n",
    "Total simulation-time for 2000 episodes intractable"
   ]
  },
  {
   "cell_type": "markdown",
   "id": "4c0189b6",
   "metadata": {},
   "source": [
    "# Dynamic programming agent"
   ]
  },
  {
   "cell_type": "markdown",
   "id": "1600e5f7",
   "metadata": {},
   "source": [
    "## Dyn Programming active inference agent (N=5) "
   ]
  },
  {
   "cell_type": "code",
   "execution_count": 3,
   "id": "7857253d",
   "metadata": {},
   "outputs": [],
   "source": [
    "episodes = 2000 #Analogous to 20 mins Gameplay"
   ]
  },
  {
   "cell_type": "code",
   "execution_count": 2,
   "id": "e9b40d7d",
   "metadata": {},
   "outputs": [],
   "source": [
    "with open('rally_length_T5.npy', 'rb') as file:\n",
    "    rally_length_raw = np.load(file, allow_pickle=True, fix_imports=True, encoding='latin1')"
   ]
  },
  {
   "cell_type": "code",
   "execution_count": 5,
   "id": "601a6270",
   "metadata": {},
   "outputs": [],
   "source": [
    "rally_length_1_raw = rally_length_raw[:, 0:int(episodes/4)]\n",
    "rally_length_2_raw = rally_length_raw[:, int(episodes/4):episodes]\n",
    "\n",
    "rally_length_1 = np.mean(rally_length_1_raw, axis=0)\n",
    "rally_length_2 = np.mean(rally_length_2_raw, axis=0)\n",
    "x = [rally_length_1, rally_length_2]"
   ]
  },
  {
   "cell_type": "code",
   "execution_count": 6,
   "id": "54dfafc3",
   "metadata": {},
   "outputs": [],
   "source": [
    "file.close()"
   ]
  },
  {
   "cell_type": "markdown",
   "id": "a782c897",
   "metadata": {},
   "source": [
    "## Dyn Programming active inference agent (N=20) "
   ]
  },
  {
   "cell_type": "code",
   "execution_count": 8,
   "id": "a86ad801",
   "metadata": {},
   "outputs": [],
   "source": [
    "with open('rally_length_T20.npy', 'rb') as file:\n",
    "    rally_length_raw_20 = np.load(file, allow_pickle=True, fix_imports=True, encoding='latin1')"
   ]
  },
  {
   "cell_type": "code",
   "execution_count": 9,
   "id": "7f080ec9",
   "metadata": {},
   "outputs": [],
   "source": [
    "rally_length_1_raw_20 = rally_length_raw_20[:, 0:int(episodes/4)]\n",
    "rally_length_2_raw_20 = rally_length_raw_20[:, int(episodes/4):episodes]\n",
    "\n",
    "rally_length_1_20 = np.mean(rally_length_1_raw_20, axis=0)\n",
    "rally_length_2_20 = np.mean(rally_length_2_raw_20, axis=0)\n",
    "\n",
    "x_20 = [rally_length_1_20, rally_length_2_20]"
   ]
  },
  {
   "cell_type": "markdown",
   "id": "950be56f",
   "metadata": {},
   "source": [
    "## Random action agent "
   ]
  },
  {
   "cell_type": "code",
   "execution_count": 11,
   "id": "155d2b98",
   "metadata": {},
   "outputs": [],
   "source": [
    "with open('rally_length_r.npy', 'rb') as file:\n",
    "    rally_length_raw_r = np.load(file, allow_pickle=True, fix_imports=True, encoding='latin1')"
   ]
  },
  {
   "cell_type": "code",
   "execution_count": 12,
   "id": "b3ca7736",
   "metadata": {},
   "outputs": [],
   "source": [
    "rally_length_1_raw_r = rally_length_raw_r[:, 0:int(episodes/4)]\n",
    "rally_length_2_raw_r = rally_length_raw_r[:, int(episodes/4):episodes]\n",
    "\n",
    "rally_length_1_r = np.mean(rally_length_1_raw_r, axis=0)\n",
    "rally_length_2_r = np.mean(rally_length_2_raw_r, axis=0)\n",
    "y = [rally_length_1_r, rally_length_2_r]"
   ]
  },
  {
   "cell_type": "markdown",
   "id": "09e176f2",
   "metadata": {},
   "source": [
    "## Initial results"
   ]
  },
  {
   "cell_type": "code",
   "execution_count": 17,
   "id": "f71b0455",
   "metadata": {},
   "outputs": [
    {
     "data": {
      "image/png": "[encoded data removed]",
      "text/plain": [
       "<Figure size 432x288 with 1 Axes>"
      ]
     },
     "metadata": {
      "needs_background": "light"
     },
     "output_type": "display_data"
    }
   ],
   "source": [
    "xy = [x[0], x[1], x_20[0], x_20[1], y[0], y[1]]\n",
    "\n",
    "from matplotlib import pyplot as plt\n",
    "\n",
    "plt.boxplot(xy, showmeans=True, positions=[1,2,4,5,7,8])\n",
    "plt.ylabel(\"Average rally length\")\n",
    "plt.xlabel(\"1,2: Act.Inf Agent(T=5) | 4,5:Act.Inf Agent(T=20) | 7,8:Random Agent\")\n",
    "plt.title(\"Game play\")\n",
    "plt.savefig('graph3.png', dpi=500, bbox_inches='tight')"
   ]
  },
  {
   "cell_type": "markdown",
   "id": "705d9b72",
   "metadata": {},
   "source": [
    "## Experimental results (Cortical Labs)"
   ]
  },
  {
   "cell_type": "markdown",
   "id": "37a40723",
   "metadata": {},
   "source": [
    "<img src=\"ExpResults.png\" width=\"300\" align=\"left\">"
   ]
  },
  {
   "cell_type": "markdown",
   "id": "be74b196",
   "metadata": {},
   "source": [
    "# Ongoing work\n",
    "\n",
    "## Mutiple hidden states (For better model learning)\n",
    "### Rewrite the whole algorithm accomodating multiple hidden states"
   ]
  },
  {
   "cell_type": "markdown",
   "id": "a89d1098",
   "metadata": {},
   "source": [
    "## Exploration term in expected free energy\n",
    "## Deep Active inference models with the above models does not work"
   ]
  }
 ],
 "metadata": {
  "kernelspec": {
   "display_name": "Python 3 (ipykernel)",
   "language": "python",
   "name": "python3"
  },
  "language_info": {
   "codemirror_mode": {
    "name": "ipython",
    "version": 3
   },
   "file_extension": ".py",
   "mimetype": "text/x-python",
   "name": "python",
   "nbconvert_exporter": "python",
   "pygments_lexer": "ipython3",
   "version": "3.9.12"
  }
 },
 "nbformat": 4,
 "nbformat_minor": 5
}
